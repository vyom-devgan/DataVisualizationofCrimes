{
 "cells": [
  {
   "cell_type": "markdown",
   "metadata": {},
   "source": [
    "# Data Visualization of Crimes Commited in Canadian Provinces between 1999 and 2022\n",
    "Vyom Devgan"
   ]
  },
  {
   "cell_type": "code",
   "execution_count": 11,
   "metadata": {},
   "outputs": [],
   "source": [
    "import plotly.express as px\n",
    "import pandas as pd"
   ]
  },
  {
   "cell_type": "code",
   "execution_count": 12,
   "metadata": {},
   "outputs": [],
   "source": [
    "df = pd.read_csv('https://raw.githubusercontent.com/vyom-devgan/DataVisualizationofCrimes/main/Youth_Criminal.csv')"
   ]
  },
  {
   "cell_type": "code",
   "execution_count": 13,
   "metadata": {},
   "outputs": [
    {
     "data": {
      "text/html": [
       "<div>\n",
       "<style scoped>\n",
       "    .dataframe tbody tr th:only-of-type {\n",
       "        vertical-align: middle;\n",
       "    }\n",
       "\n",
       "    .dataframe tbody tr th {\n",
       "        vertical-align: top;\n",
       "    }\n",
       "\n",
       "    .dataframe thead th {\n",
       "        text-align: right;\n",
       "    }\n",
       "</style>\n",
       "<table border=\"1\" class=\"dataframe\">\n",
       "  <thead>\n",
       "    <tr style=\"text-align: right;\">\n",
       "      <th></th>\n",
       "      <th>REF_DATE</th>\n",
       "      <th>GEO</th>\n",
       "      <th>DGUID</th>\n",
       "      <th>Offences</th>\n",
       "      <th>Age of accused</th>\n",
       "      <th>Sex of accused</th>\n",
       "      <th>Charge and case</th>\n",
       "      <th>Type of decision</th>\n",
       "      <th>UOM</th>\n",
       "      <th>UOM_ID</th>\n",
       "      <th>SCALAR_FACTOR</th>\n",
       "      <th>SCALAR_ID</th>\n",
       "      <th>VECTOR</th>\n",
       "      <th>COORDINATE</th>\n",
       "      <th>VALUE</th>\n",
       "      <th>STATUS</th>\n",
       "      <th>SYMBOL</th>\n",
       "      <th>TERMINATED</th>\n",
       "      <th>DECIMALS</th>\n",
       "    </tr>\n",
       "  </thead>\n",
       "  <tbody>\n",
       "    <tr>\n",
       "      <th>0</th>\n",
       "      <td>1999/2000</td>\n",
       "      <td>Newfoundland and Labrador</td>\n",
       "      <td>2016A000210</td>\n",
       "      <td>Crimes against the person</td>\n",
       "      <td>12 to 15 years</td>\n",
       "      <td>Total, sex of accused</td>\n",
       "      <td>Total cases</td>\n",
       "      <td>Total decisions</td>\n",
       "      <td>Number</td>\n",
       "      <td>223</td>\n",
       "      <td>units</td>\n",
       "      <td>0</td>\n",
       "      <td>v60185164</td>\n",
       "      <td>2.4.2.1.2.1</td>\n",
       "      <td>138</td>\n",
       "      <td>NaN</td>\n",
       "      <td>NaN</td>\n",
       "      <td>NaN</td>\n",
       "      <td>0</td>\n",
       "    </tr>\n",
       "    <tr>\n",
       "      <th>1</th>\n",
       "      <td>2000/2001</td>\n",
       "      <td>Newfoundland and Labrador</td>\n",
       "      <td>2016A000210</td>\n",
       "      <td>Crimes against the person</td>\n",
       "      <td>12 to 15 years</td>\n",
       "      <td>Total, sex of accused</td>\n",
       "      <td>Total cases</td>\n",
       "      <td>Total decisions</td>\n",
       "      <td>Number</td>\n",
       "      <td>223</td>\n",
       "      <td>units</td>\n",
       "      <td>0</td>\n",
       "      <td>v60185164</td>\n",
       "      <td>2.4.2.1.2.1</td>\n",
       "      <td>158</td>\n",
       "      <td>NaN</td>\n",
       "      <td>NaN</td>\n",
       "      <td>NaN</td>\n",
       "      <td>0</td>\n",
       "    </tr>\n",
       "    <tr>\n",
       "      <th>2</th>\n",
       "      <td>2001/2002</td>\n",
       "      <td>Newfoundland and Labrador</td>\n",
       "      <td>2016A000210</td>\n",
       "      <td>Crimes against the person</td>\n",
       "      <td>12 to 15 years</td>\n",
       "      <td>Total, sex of accused</td>\n",
       "      <td>Total cases</td>\n",
       "      <td>Total decisions</td>\n",
       "      <td>Number</td>\n",
       "      <td>223</td>\n",
       "      <td>units</td>\n",
       "      <td>0</td>\n",
       "      <td>v60185164</td>\n",
       "      <td>2.4.2.1.2.1</td>\n",
       "      <td>193</td>\n",
       "      <td>NaN</td>\n",
       "      <td>NaN</td>\n",
       "      <td>NaN</td>\n",
       "      <td>0</td>\n",
       "    </tr>\n",
       "    <tr>\n",
       "      <th>3</th>\n",
       "      <td>2002/2003</td>\n",
       "      <td>Newfoundland and Labrador</td>\n",
       "      <td>2016A000210</td>\n",
       "      <td>Crimes against the person</td>\n",
       "      <td>12 to 15 years</td>\n",
       "      <td>Total, sex of accused</td>\n",
       "      <td>Total cases</td>\n",
       "      <td>Total decisions</td>\n",
       "      <td>Number</td>\n",
       "      <td>223</td>\n",
       "      <td>units</td>\n",
       "      <td>0</td>\n",
       "      <td>v60185164</td>\n",
       "      <td>2.4.2.1.2.1</td>\n",
       "      <td>170</td>\n",
       "      <td>NaN</td>\n",
       "      <td>NaN</td>\n",
       "      <td>NaN</td>\n",
       "      <td>0</td>\n",
       "    </tr>\n",
       "    <tr>\n",
       "      <th>4</th>\n",
       "      <td>2003/2004</td>\n",
       "      <td>Newfoundland and Labrador</td>\n",
       "      <td>2016A000210</td>\n",
       "      <td>Crimes against the person</td>\n",
       "      <td>12 to 15 years</td>\n",
       "      <td>Total, sex of accused</td>\n",
       "      <td>Total cases</td>\n",
       "      <td>Total decisions</td>\n",
       "      <td>Number</td>\n",
       "      <td>223</td>\n",
       "      <td>units</td>\n",
       "      <td>0</td>\n",
       "      <td>v60185164</td>\n",
       "      <td>2.4.2.1.2.1</td>\n",
       "      <td>173</td>\n",
       "      <td>NaN</td>\n",
       "      <td>NaN</td>\n",
       "      <td>NaN</td>\n",
       "      <td>0</td>\n",
       "    </tr>\n",
       "  </tbody>\n",
       "</table>\n",
       "</div>"
      ],
      "text/plain": [
       "    REF_DATE                        GEO        DGUID  \\\n",
       "0  1999/2000  Newfoundland and Labrador  2016A000210   \n",
       "1  2000/2001  Newfoundland and Labrador  2016A000210   \n",
       "2  2001/2002  Newfoundland and Labrador  2016A000210   \n",
       "3  2002/2003  Newfoundland and Labrador  2016A000210   \n",
       "4  2003/2004  Newfoundland and Labrador  2016A000210   \n",
       "\n",
       "                    Offences  Age of accused         Sex of accused  \\\n",
       "0  Crimes against the person  12 to 15 years  Total, sex of accused   \n",
       "1  Crimes against the person  12 to 15 years  Total, sex of accused   \n",
       "2  Crimes against the person  12 to 15 years  Total, sex of accused   \n",
       "3  Crimes against the person  12 to 15 years  Total, sex of accused   \n",
       "4  Crimes against the person  12 to 15 years  Total, sex of accused   \n",
       "\n",
       "  Charge and case Type of decision     UOM  UOM_ID SCALAR_FACTOR  SCALAR_ID  \\\n",
       "0     Total cases  Total decisions  Number     223         units          0   \n",
       "1     Total cases  Total decisions  Number     223         units          0   \n",
       "2     Total cases  Total decisions  Number     223         units          0   \n",
       "3     Total cases  Total decisions  Number     223         units          0   \n",
       "4     Total cases  Total decisions  Number     223         units          0   \n",
       "\n",
       "      VECTOR   COORDINATE  VALUE  STATUS  SYMBOL  TERMINATED  DECIMALS  \n",
       "0  v60185164  2.4.2.1.2.1    138     NaN     NaN         NaN         0  \n",
       "1  v60185164  2.4.2.1.2.1    158     NaN     NaN         NaN         0  \n",
       "2  v60185164  2.4.2.1.2.1    193     NaN     NaN         NaN         0  \n",
       "3  v60185164  2.4.2.1.2.1    170     NaN     NaN         NaN         0  \n",
       "4  v60185164  2.4.2.1.2.1    173     NaN     NaN         NaN         0  "
      ]
     },
     "execution_count": 13,
     "metadata": {},
     "output_type": "execute_result"
    }
   ],
   "source": [
    "df.head()"
   ]
  },
  {
   "cell_type": "code",
   "execution_count": 14,
   "metadata": {},
   "outputs": [],
   "source": [
    "df = df[['REF_DATE', 'GEO', 'Offences','Age of accused', 'VALUE']]"
   ]
  },
  {
   "cell_type": "code",
   "execution_count": 15,
   "metadata": {},
   "outputs": [
    {
     "data": {
      "text/html": [
       "<div>\n",
       "<style scoped>\n",
       "    .dataframe tbody tr th:only-of-type {\n",
       "        vertical-align: middle;\n",
       "    }\n",
       "\n",
       "    .dataframe tbody tr th {\n",
       "        vertical-align: top;\n",
       "    }\n",
       "\n",
       "    .dataframe thead th {\n",
       "        text-align: right;\n",
       "    }\n",
       "</style>\n",
       "<table border=\"1\" class=\"dataframe\">\n",
       "  <thead>\n",
       "    <tr style=\"text-align: right;\">\n",
       "      <th></th>\n",
       "      <th>REF_DATE</th>\n",
       "      <th>GEO</th>\n",
       "      <th>Offences</th>\n",
       "      <th>Age of accused</th>\n",
       "      <th>VALUE</th>\n",
       "    </tr>\n",
       "  </thead>\n",
       "  <tbody>\n",
       "    <tr>\n",
       "      <th>0</th>\n",
       "      <td>1999/2000</td>\n",
       "      <td>Newfoundland and Labrador</td>\n",
       "      <td>Crimes against the person</td>\n",
       "      <td>12 to 15 years</td>\n",
       "      <td>138</td>\n",
       "    </tr>\n",
       "    <tr>\n",
       "      <th>1</th>\n",
       "      <td>2000/2001</td>\n",
       "      <td>Newfoundland and Labrador</td>\n",
       "      <td>Crimes against the person</td>\n",
       "      <td>12 to 15 years</td>\n",
       "      <td>158</td>\n",
       "    </tr>\n",
       "    <tr>\n",
       "      <th>2</th>\n",
       "      <td>2001/2002</td>\n",
       "      <td>Newfoundland and Labrador</td>\n",
       "      <td>Crimes against the person</td>\n",
       "      <td>12 to 15 years</td>\n",
       "      <td>193</td>\n",
       "    </tr>\n",
       "    <tr>\n",
       "      <th>3</th>\n",
       "      <td>2002/2003</td>\n",
       "      <td>Newfoundland and Labrador</td>\n",
       "      <td>Crimes against the person</td>\n",
       "      <td>12 to 15 years</td>\n",
       "      <td>170</td>\n",
       "    </tr>\n",
       "    <tr>\n",
       "      <th>4</th>\n",
       "      <td>2003/2004</td>\n",
       "      <td>Newfoundland and Labrador</td>\n",
       "      <td>Crimes against the person</td>\n",
       "      <td>12 to 15 years</td>\n",
       "      <td>173</td>\n",
       "    </tr>\n",
       "  </tbody>\n",
       "</table>\n",
       "</div>"
      ],
      "text/plain": [
       "    REF_DATE                        GEO                   Offences  \\\n",
       "0  1999/2000  Newfoundland and Labrador  Crimes against the person   \n",
       "1  2000/2001  Newfoundland and Labrador  Crimes against the person   \n",
       "2  2001/2002  Newfoundland and Labrador  Crimes against the person   \n",
       "3  2002/2003  Newfoundland and Labrador  Crimes against the person   \n",
       "4  2003/2004  Newfoundland and Labrador  Crimes against the person   \n",
       "\n",
       "   Age of accused  VALUE  \n",
       "0  12 to 15 years    138  \n",
       "1  12 to 15 years    158  \n",
       "2  12 to 15 years    193  \n",
       "3  12 to 15 years    170  \n",
       "4  12 to 15 years    173  "
      ]
     },
     "execution_count": 15,
     "metadata": {},
     "output_type": "execute_result"
    }
   ],
   "source": [
    "df.head()"
   ]
  },
  {
   "cell_type": "code",
   "execution_count": 16,
   "metadata": {},
   "outputs": [
    {
     "data": {
      "text/html": [
       "<div>\n",
       "<style scoped>\n",
       "    .dataframe tbody tr th:only-of-type {\n",
       "        vertical-align: middle;\n",
       "    }\n",
       "\n",
       "    .dataframe tbody tr th {\n",
       "        vertical-align: top;\n",
       "    }\n",
       "\n",
       "    .dataframe thead th {\n",
       "        text-align: right;\n",
       "    }\n",
       "</style>\n",
       "<table border=\"1\" class=\"dataframe\">\n",
       "  <thead>\n",
       "    <tr style=\"text-align: right;\">\n",
       "      <th></th>\n",
       "      <th>REF_DATE</th>\n",
       "      <th>GEO</th>\n",
       "      <th>Offences</th>\n",
       "      <th>VALUE</th>\n",
       "    </tr>\n",
       "  </thead>\n",
       "  <tbody>\n",
       "    <tr>\n",
       "      <th>0</th>\n",
       "      <td>1999/2000</td>\n",
       "      <td>Alberta</td>\n",
       "      <td>Crimes against property</td>\n",
       "      <td>5214</td>\n",
       "    </tr>\n",
       "    <tr>\n",
       "      <th>1</th>\n",
       "      <td>1999/2000</td>\n",
       "      <td>Alberta</td>\n",
       "      <td>Crimes against the person</td>\n",
       "      <td>1798</td>\n",
       "    </tr>\n",
       "    <tr>\n",
       "      <th>2</th>\n",
       "      <td>1999/2000</td>\n",
       "      <td>British Columbia</td>\n",
       "      <td>Crimes against property</td>\n",
       "      <td>3819</td>\n",
       "    </tr>\n",
       "    <tr>\n",
       "      <th>3</th>\n",
       "      <td>1999/2000</td>\n",
       "      <td>British Columbia</td>\n",
       "      <td>Crimes against the person</td>\n",
       "      <td>1794</td>\n",
       "    </tr>\n",
       "    <tr>\n",
       "      <th>4</th>\n",
       "      <td>1999/2000</td>\n",
       "      <td>Manitoba</td>\n",
       "      <td>Crimes against property</td>\n",
       "      <td>1922</td>\n",
       "    </tr>\n",
       "    <tr>\n",
       "      <th>...</th>\n",
       "      <td>...</td>\n",
       "      <td>...</td>\n",
       "      <td>...</td>\n",
       "      <td>...</td>\n",
       "    </tr>\n",
       "    <tr>\n",
       "      <th>593</th>\n",
       "      <td>2021/2022</td>\n",
       "      <td>Quebec</td>\n",
       "      <td>Crimes against the person</td>\n",
       "      <td>0</td>\n",
       "    </tr>\n",
       "    <tr>\n",
       "      <th>594</th>\n",
       "      <td>2021/2022</td>\n",
       "      <td>Saskatchewan</td>\n",
       "      <td>Crimes against property</td>\n",
       "      <td>303</td>\n",
       "    </tr>\n",
       "    <tr>\n",
       "      <th>595</th>\n",
       "      <td>2021/2022</td>\n",
       "      <td>Saskatchewan</td>\n",
       "      <td>Crimes against the person</td>\n",
       "      <td>505</td>\n",
       "    </tr>\n",
       "    <tr>\n",
       "      <th>596</th>\n",
       "      <td>2021/2022</td>\n",
       "      <td>Yukon</td>\n",
       "      <td>Crimes against property</td>\n",
       "      <td>4</td>\n",
       "    </tr>\n",
       "    <tr>\n",
       "      <th>597</th>\n",
       "      <td>2021/2022</td>\n",
       "      <td>Yukon</td>\n",
       "      <td>Crimes against the person</td>\n",
       "      <td>10</td>\n",
       "    </tr>\n",
       "  </tbody>\n",
       "</table>\n",
       "<p>598 rows × 4 columns</p>\n",
       "</div>"
      ],
      "text/plain": [
       "      REF_DATE               GEO                   Offences  VALUE\n",
       "0    1999/2000           Alberta    Crimes against property   5214\n",
       "1    1999/2000           Alberta  Crimes against the person   1798\n",
       "2    1999/2000  British Columbia    Crimes against property   3819\n",
       "3    1999/2000  British Columbia  Crimes against the person   1794\n",
       "4    1999/2000          Manitoba    Crimes against property   1922\n",
       "..         ...               ...                        ...    ...\n",
       "593  2021/2022            Quebec  Crimes against the person      0\n",
       "594  2021/2022      Saskatchewan    Crimes against property    303\n",
       "595  2021/2022      Saskatchewan  Crimes against the person    505\n",
       "596  2021/2022             Yukon    Crimes against property      4\n",
       "597  2021/2022             Yukon  Crimes against the person     10\n",
       "\n",
       "[598 rows x 4 columns]"
      ]
     },
     "execution_count": 16,
     "metadata": {},
     "output_type": "execute_result"
    }
   ],
   "source": [
    "df = df.groupby(['REF_DATE', 'GEO', 'Offences'])['VALUE'].sum().reset_index()\n",
    "df"
   ]
  },
  {
   "cell_type": "code",
   "execution_count": 17,
   "metadata": {},
   "outputs": [
    {
     "data": {
      "text/html": [
       "<div>\n",
       "<style scoped>\n",
       "    .dataframe tbody tr th:only-of-type {\n",
       "        vertical-align: middle;\n",
       "    }\n",
       "\n",
       "    .dataframe tbody tr th {\n",
       "        vertical-align: top;\n",
       "    }\n",
       "\n",
       "    .dataframe thead th {\n",
       "        text-align: right;\n",
       "    }\n",
       "</style>\n",
       "<table border=\"1\" class=\"dataframe\">\n",
       "  <thead>\n",
       "    <tr style=\"text-align: right;\">\n",
       "      <th></th>\n",
       "      <th>REF_DATE</th>\n",
       "      <th>GEO</th>\n",
       "      <th>Offences</th>\n",
       "      <th>VALUE</th>\n",
       "    </tr>\n",
       "  </thead>\n",
       "  <tbody>\n",
       "    <tr>\n",
       "      <th>0</th>\n",
       "      <td>1999</td>\n",
       "      <td>Alberta</td>\n",
       "      <td>Crimes against property</td>\n",
       "      <td>5214</td>\n",
       "    </tr>\n",
       "    <tr>\n",
       "      <th>1</th>\n",
       "      <td>1999</td>\n",
       "      <td>Alberta</td>\n",
       "      <td>Crimes against the person</td>\n",
       "      <td>1798</td>\n",
       "    </tr>\n",
       "    <tr>\n",
       "      <th>2</th>\n",
       "      <td>1999</td>\n",
       "      <td>British Columbia</td>\n",
       "      <td>Crimes against property</td>\n",
       "      <td>3819</td>\n",
       "    </tr>\n",
       "    <tr>\n",
       "      <th>3</th>\n",
       "      <td>1999</td>\n",
       "      <td>British Columbia</td>\n",
       "      <td>Crimes against the person</td>\n",
       "      <td>1794</td>\n",
       "    </tr>\n",
       "    <tr>\n",
       "      <th>4</th>\n",
       "      <td>1999</td>\n",
       "      <td>Manitoba</td>\n",
       "      <td>Crimes against property</td>\n",
       "      <td>1922</td>\n",
       "    </tr>\n",
       "    <tr>\n",
       "      <th>...</th>\n",
       "      <td>...</td>\n",
       "      <td>...</td>\n",
       "      <td>...</td>\n",
       "      <td>...</td>\n",
       "    </tr>\n",
       "    <tr>\n",
       "      <th>593</th>\n",
       "      <td>2021</td>\n",
       "      <td>Quebec</td>\n",
       "      <td>Crimes against the person</td>\n",
       "      <td>0</td>\n",
       "    </tr>\n",
       "    <tr>\n",
       "      <th>594</th>\n",
       "      <td>2021</td>\n",
       "      <td>Saskatchewan</td>\n",
       "      <td>Crimes against property</td>\n",
       "      <td>303</td>\n",
       "    </tr>\n",
       "    <tr>\n",
       "      <th>595</th>\n",
       "      <td>2021</td>\n",
       "      <td>Saskatchewan</td>\n",
       "      <td>Crimes against the person</td>\n",
       "      <td>505</td>\n",
       "    </tr>\n",
       "    <tr>\n",
       "      <th>596</th>\n",
       "      <td>2021</td>\n",
       "      <td>Yukon</td>\n",
       "      <td>Crimes against property</td>\n",
       "      <td>4</td>\n",
       "    </tr>\n",
       "    <tr>\n",
       "      <th>597</th>\n",
       "      <td>2021</td>\n",
       "      <td>Yukon</td>\n",
       "      <td>Crimes against the person</td>\n",
       "      <td>10</td>\n",
       "    </tr>\n",
       "  </tbody>\n",
       "</table>\n",
       "<p>598 rows × 4 columns</p>\n",
       "</div>"
      ],
      "text/plain": [
       "    REF_DATE               GEO                   Offences  VALUE\n",
       "0       1999           Alberta    Crimes against property   5214\n",
       "1       1999           Alberta  Crimes against the person   1798\n",
       "2       1999  British Columbia    Crimes against property   3819\n",
       "3       1999  British Columbia  Crimes against the person   1794\n",
       "4       1999          Manitoba    Crimes against property   1922\n",
       "..       ...               ...                        ...    ...\n",
       "593     2021            Quebec  Crimes against the person      0\n",
       "594     2021      Saskatchewan    Crimes against property    303\n",
       "595     2021      Saskatchewan  Crimes against the person    505\n",
       "596     2021             Yukon    Crimes against property      4\n",
       "597     2021             Yukon  Crimes against the person     10\n",
       "\n",
       "[598 rows x 4 columns]"
      ]
     },
     "execution_count": 17,
     "metadata": {},
     "output_type": "execute_result"
    }
   ],
   "source": [
    "df['REF_DATE'] = df['REF_DATE'].apply(lambda x: x.split('/')[0])\n",
    "df"
   ]
  },
  {
   "cell_type": "code",
   "execution_count": 18,
   "metadata": {},
   "outputs": [
    {
     "data": {
      "text/html": [
       "<div>\n",
       "<style scoped>\n",
       "    .dataframe tbody tr th:only-of-type {\n",
       "        vertical-align: middle;\n",
       "    }\n",
       "\n",
       "    .dataframe tbody tr th {\n",
       "        vertical-align: top;\n",
       "    }\n",
       "\n",
       "    .dataframe thead th {\n",
       "        text-align: right;\n",
       "    }\n",
       "</style>\n",
       "<table border=\"1\" class=\"dataframe\">\n",
       "  <thead>\n",
       "    <tr style=\"text-align: right;\">\n",
       "      <th>Offences</th>\n",
       "      <th>REF_DATE</th>\n",
       "      <th>GEO</th>\n",
       "      <th>Crimes against property</th>\n",
       "      <th>Crimes against the person</th>\n",
       "    </tr>\n",
       "  </thead>\n",
       "  <tbody>\n",
       "    <tr>\n",
       "      <th>0</th>\n",
       "      <td>1999</td>\n",
       "      <td>Alberta</td>\n",
       "      <td>5214</td>\n",
       "      <td>1798</td>\n",
       "    </tr>\n",
       "    <tr>\n",
       "      <th>1</th>\n",
       "      <td>1999</td>\n",
       "      <td>British Columbia</td>\n",
       "      <td>3819</td>\n",
       "      <td>1794</td>\n",
       "    </tr>\n",
       "    <tr>\n",
       "      <th>2</th>\n",
       "      <td>1999</td>\n",
       "      <td>Manitoba</td>\n",
       "      <td>1922</td>\n",
       "      <td>913</td>\n",
       "    </tr>\n",
       "    <tr>\n",
       "      <th>3</th>\n",
       "      <td>1999</td>\n",
       "      <td>New Brunswick</td>\n",
       "      <td>895</td>\n",
       "      <td>370</td>\n",
       "    </tr>\n",
       "    <tr>\n",
       "      <th>4</th>\n",
       "      <td>1999</td>\n",
       "      <td>Newfoundland and Labrador</td>\n",
       "      <td>740</td>\n",
       "      <td>259</td>\n",
       "    </tr>\n",
       "    <tr>\n",
       "      <th>...</th>\n",
       "      <td>...</td>\n",
       "      <td>...</td>\n",
       "      <td>...</td>\n",
       "      <td>...</td>\n",
       "    </tr>\n",
       "    <tr>\n",
       "      <th>294</th>\n",
       "      <td>2021</td>\n",
       "      <td>Ontario</td>\n",
       "      <td>1170</td>\n",
       "      <td>2680</td>\n",
       "    </tr>\n",
       "    <tr>\n",
       "      <th>295</th>\n",
       "      <td>2021</td>\n",
       "      <td>Prince Edward Island</td>\n",
       "      <td>10</td>\n",
       "      <td>17</td>\n",
       "    </tr>\n",
       "    <tr>\n",
       "      <th>296</th>\n",
       "      <td>2021</td>\n",
       "      <td>Quebec</td>\n",
       "      <td>0</td>\n",
       "      <td>0</td>\n",
       "    </tr>\n",
       "    <tr>\n",
       "      <th>297</th>\n",
       "      <td>2021</td>\n",
       "      <td>Saskatchewan</td>\n",
       "      <td>303</td>\n",
       "      <td>505</td>\n",
       "    </tr>\n",
       "    <tr>\n",
       "      <th>298</th>\n",
       "      <td>2021</td>\n",
       "      <td>Yukon</td>\n",
       "      <td>4</td>\n",
       "      <td>10</td>\n",
       "    </tr>\n",
       "  </tbody>\n",
       "</table>\n",
       "<p>299 rows × 4 columns</p>\n",
       "</div>"
      ],
      "text/plain": [
       "Offences REF_DATE                        GEO  Crimes against property  \\\n",
       "0            1999                    Alberta                     5214   \n",
       "1            1999           British Columbia                     3819   \n",
       "2            1999                   Manitoba                     1922   \n",
       "3            1999              New Brunswick                      895   \n",
       "4            1999  Newfoundland and Labrador                      740   \n",
       "..            ...                        ...                      ...   \n",
       "294          2021                    Ontario                     1170   \n",
       "295          2021       Prince Edward Island                       10   \n",
       "296          2021                     Quebec                        0   \n",
       "297          2021               Saskatchewan                      303   \n",
       "298          2021                      Yukon                        4   \n",
       "\n",
       "Offences  Crimes against the person  \n",
       "0                              1798  \n",
       "1                              1794  \n",
       "2                               913  \n",
       "3                               370  \n",
       "4                               259  \n",
       "..                              ...  \n",
       "294                            2680  \n",
       "295                              17  \n",
       "296                               0  \n",
       "297                             505  \n",
       "298                              10  \n",
       "\n",
       "[299 rows x 4 columns]"
      ]
     },
     "execution_count": 18,
     "metadata": {},
     "output_type": "execute_result"
    }
   ],
   "source": [
    "df = df.pivot(index=['REF_DATE', 'GEO'], columns='Offences', values='VALUE').reset_index()\n",
    "df"
   ]
  },
  {
   "cell_type": "code",
   "execution_count": 19,
   "metadata": {},
   "outputs": [],
   "source": [
    "df.rename(columns={'REF_DATE': 'YEAR'}, inplace=True)\n",
    "df.rename(columns={'Crimes against property': 'Property'}, inplace=True)\n",
    "df.rename(columns={'Crimes against the person': 'Person'}, inplace=True)"
   ]
  },
  {
   "cell_type": "code",
   "execution_count": 20,
   "metadata": {},
   "outputs": [
    {
     "data": {
      "application/vnd.plotly.v1+json": {
       "config": {
        "plotlyServerURL": "https://plot.ly"
       },
       "data": [
        {
         "hovertemplate": "<b>%{hovertext}</b><br><br>GEO=Alberta<br>YEAR=1999<br>Property=%{x}<br>Person=%{marker.size}<extra></extra>",
         "hovertext": [
          "Alberta"
         ],
         "legendgroup": "Alberta",
         "marker": {
          "color": "#636efa",
          "size": [
           1798
          ],
          "sizemode": "area",
          "sizeref": 2.4469444444444446,
          "symbol": "circle"
         },
         "mode": "markers",
         "name": "Alberta",
         "orientation": "v",
         "showlegend": true,
         "type": "scatter",
         "x": [
          5214
         ],
         "xaxis": "x",
         "y": [
          1798
         ],
         "yaxis": "y"
        },
        {
         "hovertemplate": "<b>%{hovertext}</b><br><br>GEO=British Columbia<br>YEAR=1999<br>Property=%{x}<br>Person=%{marker.size}<extra></extra>",
         "hovertext": [
          "British Columbia"
         ],
         "legendgroup": "British Columbia",
         "marker": {
          "color": "#EF553B",
          "size": [
           1794
          ],
          "sizemode": "area",
          "sizeref": 2.4469444444444446,
          "symbol": "circle"
         },
         "mode": "markers",
         "name": "British Columbia",
         "orientation": "v",
         "showlegend": true,
         "type": "scatter",
         "x": [
          3819
         ],
         "xaxis": "x",
         "y": [
          1794
         ],
         "yaxis": "y"
        },
        {
         "hovertemplate": "<b>%{hovertext}</b><br><br>GEO=Manitoba<br>YEAR=1999<br>Property=%{x}<br>Person=%{marker.size}<extra></extra>",
         "hovertext": [
          "Manitoba"
         ],
         "legendgroup": "Manitoba",
         "marker": {
          "color": "#00cc96",
          "size": [
           913
          ],
          "sizemode": "area",
          "sizeref": 2.4469444444444446,
          "symbol": "circle"
         },
         "mode": "markers",
         "name": "Manitoba",
         "orientation": "v",
         "showlegend": true,
         "type": "scatter",
         "x": [
          1922
         ],
         "xaxis": "x",
         "y": [
          913
         ],
         "yaxis": "y"
        },
        {
         "hovertemplate": "<b>%{hovertext}</b><br><br>GEO=New Brunswick<br>YEAR=1999<br>Property=%{x}<br>Person=%{marker.size}<extra></extra>",
         "hovertext": [
          "New Brunswick"
         ],
         "legendgroup": "New Brunswick",
         "marker": {
          "color": "#ab63fa",
          "size": [
           370
          ],
          "sizemode": "area",
          "sizeref": 2.4469444444444446,
          "symbol": "circle"
         },
         "mode": "markers",
         "name": "New Brunswick",
         "orientation": "v",
         "showlegend": true,
         "type": "scatter",
         "x": [
          895
         ],
         "xaxis": "x",
         "y": [
          370
         ],
         "yaxis": "y"
        },
        {
         "hovertemplate": "<b>%{hovertext}</b><br><br>GEO=Newfoundland and Labrador<br>YEAR=1999<br>Property=%{x}<br>Person=%{marker.size}<extra></extra>",
         "hovertext": [
          "Newfoundland and Labrador"
         ],
         "legendgroup": "Newfoundland and Labrador",
         "marker": {
          "color": "#FFA15A",
          "size": [
           259
          ],
          "sizemode": "area",
          "sizeref": 2.4469444444444446,
          "symbol": "circle"
         },
         "mode": "markers",
         "name": "Newfoundland and Labrador",
         "orientation": "v",
         "showlegend": true,
         "type": "scatter",
         "x": [
          740
         ],
         "xaxis": "x",
         "y": [
          259
         ],
         "yaxis": "y"
        },
        {
         "hovertemplate": "<b>%{hovertext}</b><br><br>GEO=Northwest Territories<br>YEAR=1999<br>Property=%{x}<br>Person=%{marker.size}<extra></extra>",
         "hovertext": [
          "Northwest Territories"
         ],
         "legendgroup": "Northwest Territories",
         "marker": {
          "color": "#19d3f3",
          "size": [
           42
          ],
          "sizemode": "area",
          "sizeref": 2.4469444444444446,
          "symbol": "circle"
         },
         "mode": "markers",
         "name": "Northwest Territories",
         "orientation": "v",
         "showlegend": true,
         "type": "scatter",
         "x": [
          189
         ],
         "xaxis": "x",
         "y": [
          42
         ],
         "yaxis": "y"
        },
        {
         "hovertemplate": "<b>%{hovertext}</b><br><br>GEO=Nova Scotia<br>YEAR=1999<br>Property=%{x}<br>Person=%{marker.size}<extra></extra>",
         "hovertext": [
          "Nova Scotia"
         ],
         "legendgroup": "Nova Scotia",
         "marker": {
          "color": "#FF6692",
          "size": [
           455
          ],
          "sizemode": "area",
          "sizeref": 2.4469444444444446,
          "symbol": "circle"
         },
         "mode": "markers",
         "name": "Nova Scotia",
         "orientation": "v",
         "showlegend": true,
         "type": "scatter",
         "x": [
          1106
         ],
         "xaxis": "x",
         "y": [
          455
         ],
         "yaxis": "y"
        },
        {
         "hovertemplate": "<b>%{hovertext}</b><br><br>GEO=Nunavut<br>YEAR=1999<br>Property=%{x}<br>Person=%{marker.size}<extra></extra>",
         "hovertext": [
          "Nunavut"
         ],
         "legendgroup": "Nunavut",
         "marker": {
          "color": "#B6E880",
          "size": [
           33
          ],
          "sizemode": "area",
          "sizeref": 2.4469444444444446,
          "symbol": "circle"
         },
         "mode": "markers",
         "name": "Nunavut",
         "orientation": "v",
         "showlegend": true,
         "type": "scatter",
         "x": [
          61
         ],
         "xaxis": "x",
         "y": [
          33
         ],
         "yaxis": "y"
        },
        {
         "hovertemplate": "<b>%{hovertext}</b><br><br>GEO=Ontario<br>YEAR=1999<br>Property=%{x}<br>Person=%{marker.size}<extra></extra>",
         "hovertext": [
          "Ontario"
         ],
         "legendgroup": "Ontario",
         "marker": {
          "color": "#FF97FF",
          "size": [
           8136
          ],
          "sizemode": "area",
          "sizeref": 2.4469444444444446,
          "symbol": "circle"
         },
         "mode": "markers",
         "name": "Ontario",
         "orientation": "v",
         "showlegend": true,
         "type": "scatter",
         "x": [
          13443
         ],
         "xaxis": "x",
         "y": [
          8136
         ],
         "yaxis": "y"
        },
        {
         "hovertemplate": "<b>%{hovertext}</b><br><br>GEO=Prince Edward Island<br>YEAR=1999<br>Property=%{x}<br>Person=%{marker.size}<extra></extra>",
         "hovertext": [
          "Prince Edward Island"
         ],
         "legendgroup": "Prince Edward Island",
         "marker": {
          "color": "#FECB52",
          "size": [
           43
          ],
          "sizemode": "area",
          "sizeref": 2.4469444444444446,
          "symbol": "circle"
         },
         "mode": "markers",
         "name": "Prince Edward Island",
         "orientation": "v",
         "showlegend": true,
         "type": "scatter",
         "x": [
          130
         ],
         "xaxis": "x",
         "y": [
          43
         ],
         "yaxis": "y"
        },
        {
         "hovertemplate": "<b>%{hovertext}</b><br><br>GEO=Quebec<br>YEAR=1999<br>Property=%{x}<br>Person=%{marker.size}<extra></extra>",
         "hovertext": [
          "Quebec"
         ],
         "legendgroup": "Quebec",
         "marker": {
          "color": "#636efa",
          "size": [
           2463
          ],
          "sizemode": "area",
          "sizeref": 2.4469444444444446,
          "symbol": "circle"
         },
         "mode": "markers",
         "name": "Quebec",
         "orientation": "v",
         "showlegend": true,
         "type": "scatter",
         "x": [
          3172
         ],
         "xaxis": "x",
         "y": [
          2463
         ],
         "yaxis": "y"
        },
        {
         "hovertemplate": "<b>%{hovertext}</b><br><br>GEO=Saskatchewan<br>YEAR=1999<br>Property=%{x}<br>Person=%{marker.size}<extra></extra>",
         "hovertext": [
          "Saskatchewan"
         ],
         "legendgroup": "Saskatchewan",
         "marker": {
          "color": "#EF553B",
          "size": [
           815
          ],
          "sizemode": "area",
          "sizeref": 2.4469444444444446,
          "symbol": "circle"
         },
         "mode": "markers",
         "name": "Saskatchewan",
         "orientation": "v",
         "showlegend": true,
         "type": "scatter",
         "x": [
          3202
         ],
         "xaxis": "x",
         "y": [
          815
         ],
         "yaxis": "y"
        },
        {
         "hovertemplate": "<b>%{hovertext}</b><br><br>GEO=Yukon<br>YEAR=1999<br>Property=%{x}<br>Person=%{marker.size}<extra></extra>",
         "hovertext": [
          "Yukon"
         ],
         "legendgroup": "Yukon",
         "marker": {
          "color": "#00cc96",
          "size": [
           29
          ],
          "sizemode": "area",
          "sizeref": 2.4469444444444446,
          "symbol": "circle"
         },
         "mode": "markers",
         "name": "Yukon",
         "orientation": "v",
         "showlegend": true,
         "type": "scatter",
         "x": [
          116
         ],
         "xaxis": "x",
         "y": [
          29
         ],
         "yaxis": "y"
        }
       ],
       "frames": [
        {
         "data": [
          {
           "hovertemplate": "<b>%{hovertext}</b><br><br>GEO=Alberta<br>YEAR=1999<br>Property=%{x}<br>Person=%{marker.size}<extra></extra>",
           "hovertext": [
            "Alberta"
           ],
           "legendgroup": "Alberta",
           "marker": {
            "color": "#636efa",
            "size": [
             1798
            ],
            "sizemode": "area",
            "sizeref": 2.4469444444444446,
            "symbol": "circle"
           },
           "mode": "markers",
           "name": "Alberta",
           "orientation": "v",
           "showlegend": true,
           "type": "scatter",
           "x": [
            5214
           ],
           "xaxis": "x",
           "y": [
            1798
           ],
           "yaxis": "y"
          },
          {
           "hovertemplate": "<b>%{hovertext}</b><br><br>GEO=British Columbia<br>YEAR=1999<br>Property=%{x}<br>Person=%{marker.size}<extra></extra>",
           "hovertext": [
            "British Columbia"
           ],
           "legendgroup": "British Columbia",
           "marker": {
            "color": "#EF553B",
            "size": [
             1794
            ],
            "sizemode": "area",
            "sizeref": 2.4469444444444446,
            "symbol": "circle"
           },
           "mode": "markers",
           "name": "British Columbia",
           "orientation": "v",
           "showlegend": true,
           "type": "scatter",
           "x": [
            3819
           ],
           "xaxis": "x",
           "y": [
            1794
           ],
           "yaxis": "y"
          },
          {
           "hovertemplate": "<b>%{hovertext}</b><br><br>GEO=Manitoba<br>YEAR=1999<br>Property=%{x}<br>Person=%{marker.size}<extra></extra>",
           "hovertext": [
            "Manitoba"
           ],
           "legendgroup": "Manitoba",
           "marker": {
            "color": "#00cc96",
            "size": [
             913
            ],
            "sizemode": "area",
            "sizeref": 2.4469444444444446,
            "symbol": "circle"
           },
           "mode": "markers",
           "name": "Manitoba",
           "orientation": "v",
           "showlegend": true,
           "type": "scatter",
           "x": [
            1922
           ],
           "xaxis": "x",
           "y": [
            913
           ],
           "yaxis": "y"
          },
          {
           "hovertemplate": "<b>%{hovertext}</b><br><br>GEO=New Brunswick<br>YEAR=1999<br>Property=%{x}<br>Person=%{marker.size}<extra></extra>",
           "hovertext": [
            "New Brunswick"
           ],
           "legendgroup": "New Brunswick",
           "marker": {
            "color": "#ab63fa",
            "size": [
             370
            ],
            "sizemode": "area",
            "sizeref": 2.4469444444444446,
            "symbol": "circle"
           },
           "mode": "markers",
           "name": "New Brunswick",
           "orientation": "v",
           "showlegend": true,
           "type": "scatter",
           "x": [
            895
           ],
           "xaxis": "x",
           "y": [
            370
           ],
           "yaxis": "y"
          },
          {
           "hovertemplate": "<b>%{hovertext}</b><br><br>GEO=Newfoundland and Labrador<br>YEAR=1999<br>Property=%{x}<br>Person=%{marker.size}<extra></extra>",
           "hovertext": [
            "Newfoundland and Labrador"
           ],
           "legendgroup": "Newfoundland and Labrador",
           "marker": {
            "color": "#FFA15A",
            "size": [
             259
            ],
            "sizemode": "area",
            "sizeref": 2.4469444444444446,
            "symbol": "circle"
           },
           "mode": "markers",
           "name": "Newfoundland and Labrador",
           "orientation": "v",
           "showlegend": true,
           "type": "scatter",
           "x": [
            740
           ],
           "xaxis": "x",
           "y": [
            259
           ],
           "yaxis": "y"
          },
          {
           "hovertemplate": "<b>%{hovertext}</b><br><br>GEO=Northwest Territories<br>YEAR=1999<br>Property=%{x}<br>Person=%{marker.size}<extra></extra>",
           "hovertext": [
            "Northwest Territories"
           ],
           "legendgroup": "Northwest Territories",
           "marker": {
            "color": "#19d3f3",
            "size": [
             42
            ],
            "sizemode": "area",
            "sizeref": 2.4469444444444446,
            "symbol": "circle"
           },
           "mode": "markers",
           "name": "Northwest Territories",
           "orientation": "v",
           "showlegend": true,
           "type": "scatter",
           "x": [
            189
           ],
           "xaxis": "x",
           "y": [
            42
           ],
           "yaxis": "y"
          },
          {
           "hovertemplate": "<b>%{hovertext}</b><br><br>GEO=Nova Scotia<br>YEAR=1999<br>Property=%{x}<br>Person=%{marker.size}<extra></extra>",
           "hovertext": [
            "Nova Scotia"
           ],
           "legendgroup": "Nova Scotia",
           "marker": {
            "color": "#FF6692",
            "size": [
             455
            ],
            "sizemode": "area",
            "sizeref": 2.4469444444444446,
            "symbol": "circle"
           },
           "mode": "markers",
           "name": "Nova Scotia",
           "orientation": "v",
           "showlegend": true,
           "type": "scatter",
           "x": [
            1106
           ],
           "xaxis": "x",
           "y": [
            455
           ],
           "yaxis": "y"
          },
          {
           "hovertemplate": "<b>%{hovertext}</b><br><br>GEO=Nunavut<br>YEAR=1999<br>Property=%{x}<br>Person=%{marker.size}<extra></extra>",
           "hovertext": [
            "Nunavut"
           ],
           "legendgroup": "Nunavut",
           "marker": {
            "color": "#B6E880",
            "size": [
             33
            ],
            "sizemode": "area",
            "sizeref": 2.4469444444444446,
            "symbol": "circle"
           },
           "mode": "markers",
           "name": "Nunavut",
           "orientation": "v",
           "showlegend": true,
           "type": "scatter",
           "x": [
            61
           ],
           "xaxis": "x",
           "y": [
            33
           ],
           "yaxis": "y"
          },
          {
           "hovertemplate": "<b>%{hovertext}</b><br><br>GEO=Ontario<br>YEAR=1999<br>Property=%{x}<br>Person=%{marker.size}<extra></extra>",
           "hovertext": [
            "Ontario"
           ],
           "legendgroup": "Ontario",
           "marker": {
            "color": "#FF97FF",
            "size": [
             8136
            ],
            "sizemode": "area",
            "sizeref": 2.4469444444444446,
            "symbol": "circle"
           },
           "mode": "markers",
           "name": "Ontario",
           "orientation": "v",
           "showlegend": true,
           "type": "scatter",
           "x": [
            13443
           ],
           "xaxis": "x",
           "y": [
            8136
           ],
           "yaxis": "y"
          },
          {
           "hovertemplate": "<b>%{hovertext}</b><br><br>GEO=Prince Edward Island<br>YEAR=1999<br>Property=%{x}<br>Person=%{marker.size}<extra></extra>",
           "hovertext": [
            "Prince Edward Island"
           ],
           "legendgroup": "Prince Edward Island",
           "marker": {
            "color": "#FECB52",
            "size": [
             43
            ],
            "sizemode": "area",
            "sizeref": 2.4469444444444446,
            "symbol": "circle"
           },
           "mode": "markers",
           "name": "Prince Edward Island",
           "orientation": "v",
           "showlegend": true,
           "type": "scatter",
           "x": [
            130
           ],
           "xaxis": "x",
           "y": [
            43
           ],
           "yaxis": "y"
          },
          {
           "hovertemplate": "<b>%{hovertext}</b><br><br>GEO=Quebec<br>YEAR=1999<br>Property=%{x}<br>Person=%{marker.size}<extra></extra>",
           "hovertext": [
            "Quebec"
           ],
           "legendgroup": "Quebec",
           "marker": {
            "color": "#636efa",
            "size": [
             2463
            ],
            "sizemode": "area",
            "sizeref": 2.4469444444444446,
            "symbol": "circle"
           },
           "mode": "markers",
           "name": "Quebec",
           "orientation": "v",
           "showlegend": true,
           "type": "scatter",
           "x": [
            3172
           ],
           "xaxis": "x",
           "y": [
            2463
           ],
           "yaxis": "y"
          },
          {
           "hovertemplate": "<b>%{hovertext}</b><br><br>GEO=Saskatchewan<br>YEAR=1999<br>Property=%{x}<br>Person=%{marker.size}<extra></extra>",
           "hovertext": [
            "Saskatchewan"
           ],
           "legendgroup": "Saskatchewan",
           "marker": {
            "color": "#EF553B",
            "size": [
             815
            ],
            "sizemode": "area",
            "sizeref": 2.4469444444444446,
            "symbol": "circle"
           },
           "mode": "markers",
           "name": "Saskatchewan",
           "orientation": "v",
           "showlegend": true,
           "type": "scatter",
           "x": [
            3202
           ],
           "xaxis": "x",
           "y": [
            815
           ],
           "yaxis": "y"
          },
          {
           "hovertemplate": "<b>%{hovertext}</b><br><br>GEO=Yukon<br>YEAR=1999<br>Property=%{x}<br>Person=%{marker.size}<extra></extra>",
           "hovertext": [
            "Yukon"
           ],
           "legendgroup": "Yukon",
           "marker": {
            "color": "#00cc96",
            "size": [
             29
            ],
            "sizemode": "area",
            "sizeref": 2.4469444444444446,
            "symbol": "circle"
           },
           "mode": "markers",
           "name": "Yukon",
           "orientation": "v",
           "showlegend": true,
           "type": "scatter",
           "x": [
            116
           ],
           "xaxis": "x",
           "y": [
            29
           ],
           "yaxis": "y"
          }
         ],
         "name": "1999"
        },
        {
         "data": [
          {
           "hovertemplate": "<b>%{hovertext}</b><br><br>GEO=Alberta<br>YEAR=2000<br>Property=%{x}<br>Person=%{marker.size}<extra></extra>",
           "hovertext": [
            "Alberta"
           ],
           "legendgroup": "Alberta",
           "marker": {
            "color": "#636efa",
            "size": [
             1770
            ],
            "sizemode": "area",
            "sizeref": 2.4469444444444446,
            "symbol": "circle"
           },
           "mode": "markers",
           "name": "Alberta",
           "orientation": "v",
           "showlegend": true,
           "type": "scatter",
           "x": [
            4929
           ],
           "xaxis": "x",
           "y": [
            1770
           ],
           "yaxis": "y"
          },
          {
           "hovertemplate": "<b>%{hovertext}</b><br><br>GEO=British Columbia<br>YEAR=2000<br>Property=%{x}<br>Person=%{marker.size}<extra></extra>",
           "hovertext": [
            "British Columbia"
           ],
           "legendgroup": "British Columbia",
           "marker": {
            "color": "#EF553B",
            "size": [
             1574
            ],
            "sizemode": "area",
            "sizeref": 2.4469444444444446,
            "symbol": "circle"
           },
           "mode": "markers",
           "name": "British Columbia",
           "orientation": "v",
           "showlegend": true,
           "type": "scatter",
           "x": [
            3075
           ],
           "xaxis": "x",
           "y": [
            1574
           ],
           "yaxis": "y"
          },
          {
           "hovertemplate": "<b>%{hovertext}</b><br><br>GEO=Manitoba<br>YEAR=2000<br>Property=%{x}<br>Person=%{marker.size}<extra></extra>",
           "hovertext": [
            "Manitoba"
           ],
           "legendgroup": "Manitoba",
           "marker": {
            "color": "#00cc96",
            "size": [
             801
            ],
            "sizemode": "area",
            "sizeref": 2.4469444444444446,
            "symbol": "circle"
           },
           "mode": "markers",
           "name": "Manitoba",
           "orientation": "v",
           "showlegend": true,
           "type": "scatter",
           "x": [
            1806
           ],
           "xaxis": "x",
           "y": [
            801
           ],
           "yaxis": "y"
          },
          {
           "hovertemplate": "<b>%{hovertext}</b><br><br>GEO=New Brunswick<br>YEAR=2000<br>Property=%{x}<br>Person=%{marker.size}<extra></extra>",
           "hovertext": [
            "New Brunswick"
           ],
           "legendgroup": "New Brunswick",
           "marker": {
            "color": "#ab63fa",
            "size": [
             365
            ],
            "sizemode": "area",
            "sizeref": 2.4469444444444446,
            "symbol": "circle"
           },
           "mode": "markers",
           "name": "New Brunswick",
           "orientation": "v",
           "showlegend": true,
           "type": "scatter",
           "x": [
            813
           ],
           "xaxis": "x",
           "y": [
            365
           ],
           "yaxis": "y"
          },
          {
           "hovertemplate": "<b>%{hovertext}</b><br><br>GEO=Newfoundland and Labrador<br>YEAR=2000<br>Property=%{x}<br>Person=%{marker.size}<extra></extra>",
           "hovertext": [
            "Newfoundland and Labrador"
           ],
           "legendgroup": "Newfoundland and Labrador",
           "marker": {
            "color": "#FFA15A",
            "size": [
             284
            ],
            "sizemode": "area",
            "sizeref": 2.4469444444444446,
            "symbol": "circle"
           },
           "mode": "markers",
           "name": "Newfoundland and Labrador",
           "orientation": "v",
           "showlegend": true,
           "type": "scatter",
           "x": [
            684
           ],
           "xaxis": "x",
           "y": [
            284
           ],
           "yaxis": "y"
          },
          {
           "hovertemplate": "<b>%{hovertext}</b><br><br>GEO=Northwest Territories<br>YEAR=2000<br>Property=%{x}<br>Person=%{marker.size}<extra></extra>",
           "hovertext": [
            "Northwest Territories"
           ],
           "legendgroup": "Northwest Territories",
           "marker": {
            "color": "#19d3f3",
            "size": [
             36
            ],
            "sizemode": "area",
            "sizeref": 2.4469444444444446,
            "symbol": "circle"
           },
           "mode": "markers",
           "name": "Northwest Territories",
           "orientation": "v",
           "showlegend": true,
           "type": "scatter",
           "x": [
            137
           ],
           "xaxis": "x",
           "y": [
            36
           ],
           "yaxis": "y"
          },
          {
           "hovertemplate": "<b>%{hovertext}</b><br><br>GEO=Nova Scotia<br>YEAR=2000<br>Property=%{x}<br>Person=%{marker.size}<extra></extra>",
           "hovertext": [
            "Nova Scotia"
           ],
           "legendgroup": "Nova Scotia",
           "marker": {
            "color": "#FF6692",
            "size": [
             498
            ],
            "sizemode": "area",
            "sizeref": 2.4469444444444446,
            "symbol": "circle"
           },
           "mode": "markers",
           "name": "Nova Scotia",
           "orientation": "v",
           "showlegend": true,
           "type": "scatter",
           "x": [
            1082
           ],
           "xaxis": "x",
           "y": [
            498
           ],
           "yaxis": "y"
          },
          {
           "hovertemplate": "<b>%{hovertext}</b><br><br>GEO=Nunavut<br>YEAR=2000<br>Property=%{x}<br>Person=%{marker.size}<extra></extra>",
           "hovertext": [
            "Nunavut"
           ],
           "legendgroup": "Nunavut",
           "marker": {
            "color": "#B6E880",
            "size": [
             54
            ],
            "sizemode": "area",
            "sizeref": 2.4469444444444446,
            "symbol": "circle"
           },
           "mode": "markers",
           "name": "Nunavut",
           "orientation": "v",
           "showlegend": true,
           "type": "scatter",
           "x": [
            76
           ],
           "xaxis": "x",
           "y": [
            54
           ],
           "yaxis": "y"
          },
          {
           "hovertemplate": "<b>%{hovertext}</b><br><br>GEO=Ontario<br>YEAR=2000<br>Property=%{x}<br>Person=%{marker.size}<extra></extra>",
           "hovertext": [
            "Ontario"
           ],
           "legendgroup": "Ontario",
           "marker": {
            "color": "#FF97FF",
            "size": [
             8380
            ],
            "sizemode": "area",
            "sizeref": 2.4469444444444446,
            "symbol": "circle"
           },
           "mode": "markers",
           "name": "Ontario",
           "orientation": "v",
           "showlegend": true,
           "type": "scatter",
           "x": [
            14398
           ],
           "xaxis": "x",
           "y": [
            8380
           ],
           "yaxis": "y"
          },
          {
           "hovertemplate": "<b>%{hovertext}</b><br><br>GEO=Prince Edward Island<br>YEAR=2000<br>Property=%{x}<br>Person=%{marker.size}<extra></extra>",
           "hovertext": [
            "Prince Edward Island"
           ],
           "legendgroup": "Prince Edward Island",
           "marker": {
            "color": "#FECB52",
            "size": [
             17
            ],
            "sizemode": "area",
            "sizeref": 2.4469444444444446,
            "symbol": "circle"
           },
           "mode": "markers",
           "name": "Prince Edward Island",
           "orientation": "v",
           "showlegend": true,
           "type": "scatter",
           "x": [
            94
           ],
           "xaxis": "x",
           "y": [
            17
           ],
           "yaxis": "y"
          },
          {
           "hovertemplate": "<b>%{hovertext}</b><br><br>GEO=Quebec<br>YEAR=2000<br>Property=%{x}<br>Person=%{marker.size}<extra></extra>",
           "hovertext": [
            "Quebec"
           ],
           "legendgroup": "Quebec",
           "marker": {
            "color": "#636efa",
            "size": [
             2269
            ],
            "sizemode": "area",
            "sizeref": 2.4469444444444446,
            "symbol": "circle"
           },
           "mode": "markers",
           "name": "Quebec",
           "orientation": "v",
           "showlegend": true,
           "type": "scatter",
           "x": [
            2754
           ],
           "xaxis": "x",
           "y": [
            2269
           ],
           "yaxis": "y"
          },
          {
           "hovertemplate": "<b>%{hovertext}</b><br><br>GEO=Saskatchewan<br>YEAR=2000<br>Property=%{x}<br>Person=%{marker.size}<extra></extra>",
           "hovertext": [
            "Saskatchewan"
           ],
           "legendgroup": "Saskatchewan",
           "marker": {
            "color": "#EF553B",
            "size": [
             937
            ],
            "sizemode": "area",
            "sizeref": 2.4469444444444446,
            "symbol": "circle"
           },
           "mode": "markers",
           "name": "Saskatchewan",
           "orientation": "v",
           "showlegend": true,
           "type": "scatter",
           "x": [
            3199
           ],
           "xaxis": "x",
           "y": [
            937
           ],
           "yaxis": "y"
          },
          {
           "hovertemplate": "<b>%{hovertext}</b><br><br>GEO=Yukon<br>YEAR=2000<br>Property=%{x}<br>Person=%{marker.size}<extra></extra>",
           "hovertext": [
            "Yukon"
           ],
           "legendgroup": "Yukon",
           "marker": {
            "color": "#00cc96",
            "size": [
             30
            ],
            "sizemode": "area",
            "sizeref": 2.4469444444444446,
            "symbol": "circle"
           },
           "mode": "markers",
           "name": "Yukon",
           "orientation": "v",
           "showlegend": true,
           "type": "scatter",
           "x": [
            113
           ],
           "xaxis": "x",
           "y": [
            30
           ],
           "yaxis": "y"
          }
         ],
         "name": "2000"
        },
        {
         "data": [
          {
           "hovertemplate": "<b>%{hovertext}</b><br><br>GEO=Alberta<br>YEAR=2001<br>Property=%{x}<br>Person=%{marker.size}<extra></extra>",
           "hovertext": [
            "Alberta"
           ],
           "legendgroup": "Alberta",
           "marker": {
            "color": "#636efa",
            "size": [
             1690
            ],
            "sizemode": "area",
            "sizeref": 2.4469444444444446,
            "symbol": "circle"
           },
           "mode": "markers",
           "name": "Alberta",
           "orientation": "v",
           "showlegend": true,
           "type": "scatter",
           "x": [
            4779
           ],
           "xaxis": "x",
           "y": [
            1690
           ],
           "yaxis": "y"
          },
          {
           "hovertemplate": "<b>%{hovertext}</b><br><br>GEO=British Columbia<br>YEAR=2001<br>Property=%{x}<br>Person=%{marker.size}<extra></extra>",
           "hovertext": [
            "British Columbia"
           ],
           "legendgroup": "British Columbia",
           "marker": {
            "color": "#EF553B",
            "size": [
             1632
            ],
            "sizemode": "area",
            "sizeref": 2.4469444444444446,
            "symbol": "circle"
           },
           "mode": "markers",
           "name": "British Columbia",
           "orientation": "v",
           "showlegend": true,
           "type": "scatter",
           "x": [
            2986
           ],
           "xaxis": "x",
           "y": [
            1632
           ],
           "yaxis": "y"
          },
          {
           "hovertemplate": "<b>%{hovertext}</b><br><br>GEO=Manitoba<br>YEAR=2001<br>Property=%{x}<br>Person=%{marker.size}<extra></extra>",
           "hovertext": [
            "Manitoba"
           ],
           "legendgroup": "Manitoba",
           "marker": {
            "color": "#00cc96",
            "size": [
             794
            ],
            "sizemode": "area",
            "sizeref": 2.4469444444444446,
            "symbol": "circle"
           },
           "mode": "markers",
           "name": "Manitoba",
           "orientation": "v",
           "showlegend": true,
           "type": "scatter",
           "x": [
            1685
           ],
           "xaxis": "x",
           "y": [
            794
           ],
           "yaxis": "y"
          },
          {
           "hovertemplate": "<b>%{hovertext}</b><br><br>GEO=New Brunswick<br>YEAR=2001<br>Property=%{x}<br>Person=%{marker.size}<extra></extra>",
           "hovertext": [
            "New Brunswick"
           ],
           "legendgroup": "New Brunswick",
           "marker": {
            "color": "#ab63fa",
            "size": [
             324
            ],
            "sizemode": "area",
            "sizeref": 2.4469444444444446,
            "symbol": "circle"
           },
           "mode": "markers",
           "name": "New Brunswick",
           "orientation": "v",
           "showlegend": true,
           "type": "scatter",
           "x": [
            745
           ],
           "xaxis": "x",
           "y": [
            324
           ],
           "yaxis": "y"
          },
          {
           "hovertemplate": "<b>%{hovertext}</b><br><br>GEO=Newfoundland and Labrador<br>YEAR=2001<br>Property=%{x}<br>Person=%{marker.size}<extra></extra>",
           "hovertext": [
            "Newfoundland and Labrador"
           ],
           "legendgroup": "Newfoundland and Labrador",
           "marker": {
            "color": "#FFA15A",
            "size": [
             345
            ],
            "sizemode": "area",
            "sizeref": 2.4469444444444446,
            "symbol": "circle"
           },
           "mode": "markers",
           "name": "Newfoundland and Labrador",
           "orientation": "v",
           "showlegend": true,
           "type": "scatter",
           "x": [
            711
           ],
           "xaxis": "x",
           "y": [
            345
           ],
           "yaxis": "y"
          },
          {
           "hovertemplate": "<b>%{hovertext}</b><br><br>GEO=Northwest Territories<br>YEAR=2001<br>Property=%{x}<br>Person=%{marker.size}<extra></extra>",
           "hovertext": [
            "Northwest Territories"
           ],
           "legendgroup": "Northwest Territories",
           "marker": {
            "color": "#19d3f3",
            "size": [
             44
            ],
            "sizemode": "area",
            "sizeref": 2.4469444444444446,
            "symbol": "circle"
           },
           "mode": "markers",
           "name": "Northwest Territories",
           "orientation": "v",
           "showlegend": true,
           "type": "scatter",
           "x": [
            155
           ],
           "xaxis": "x",
           "y": [
            44
           ],
           "yaxis": "y"
          },
          {
           "hovertemplate": "<b>%{hovertext}</b><br><br>GEO=Nova Scotia<br>YEAR=2001<br>Property=%{x}<br>Person=%{marker.size}<extra></extra>",
           "hovertext": [
            "Nova Scotia"
           ],
           "legendgroup": "Nova Scotia",
           "marker": {
            "color": "#FF6692",
            "size": [
             460
            ],
            "sizemode": "area",
            "sizeref": 2.4469444444444446,
            "symbol": "circle"
           },
           "mode": "markers",
           "name": "Nova Scotia",
           "orientation": "v",
           "showlegend": true,
           "type": "scatter",
           "x": [
            944
           ],
           "xaxis": "x",
           "y": [
            460
           ],
           "yaxis": "y"
          },
          {
           "hovertemplate": "<b>%{hovertext}</b><br><br>GEO=Nunavut<br>YEAR=2001<br>Property=%{x}<br>Person=%{marker.size}<extra></extra>",
           "hovertext": [
            "Nunavut"
           ],
           "legendgroup": "Nunavut",
           "marker": {
            "color": "#B6E880",
            "size": [
             39
            ],
            "sizemode": "area",
            "sizeref": 2.4469444444444446,
            "symbol": "circle"
           },
           "mode": "markers",
           "name": "Nunavut",
           "orientation": "v",
           "showlegend": true,
           "type": "scatter",
           "x": [
            90
           ],
           "xaxis": "x",
           "y": [
            39
           ],
           "yaxis": "y"
          },
          {
           "hovertemplate": "<b>%{hovertext}</b><br><br>GEO=Ontario<br>YEAR=2001<br>Property=%{x}<br>Person=%{marker.size}<extra></extra>",
           "hovertext": [
            "Ontario"
           ],
           "legendgroup": "Ontario",
           "marker": {
            "color": "#FF97FF",
            "size": [
             8406
            ],
            "sizemode": "area",
            "sizeref": 2.4469444444444446,
            "symbol": "circle"
           },
           "mode": "markers",
           "name": "Ontario",
           "orientation": "v",
           "showlegend": true,
           "type": "scatter",
           "x": [
            14383
           ],
           "xaxis": "x",
           "y": [
            8406
           ],
           "yaxis": "y"
          },
          {
           "hovertemplate": "<b>%{hovertext}</b><br><br>GEO=Prince Edward Island<br>YEAR=2001<br>Property=%{x}<br>Person=%{marker.size}<extra></extra>",
           "hovertext": [
            "Prince Edward Island"
           ],
           "legendgroup": "Prince Edward Island",
           "marker": {
            "color": "#FECB52",
            "size": [
             41
            ],
            "sizemode": "area",
            "sizeref": 2.4469444444444446,
            "symbol": "circle"
           },
           "mode": "markers",
           "name": "Prince Edward Island",
           "orientation": "v",
           "showlegend": true,
           "type": "scatter",
           "x": [
            144
           ],
           "xaxis": "x",
           "y": [
            41
           ],
           "yaxis": "y"
          },
          {
           "hovertemplate": "<b>%{hovertext}</b><br><br>GEO=Quebec<br>YEAR=2001<br>Property=%{x}<br>Person=%{marker.size}<extra></extra>",
           "hovertext": [
            "Quebec"
           ],
           "legendgroup": "Quebec",
           "marker": {
            "color": "#636efa",
            "size": [
             2485
            ],
            "sizemode": "area",
            "sizeref": 2.4469444444444446,
            "symbol": "circle"
           },
           "mode": "markers",
           "name": "Quebec",
           "orientation": "v",
           "showlegend": true,
           "type": "scatter",
           "x": [
            2887
           ],
           "xaxis": "x",
           "y": [
            2485
           ],
           "yaxis": "y"
          },
          {
           "hovertemplate": "<b>%{hovertext}</b><br><br>GEO=Saskatchewan<br>YEAR=2001<br>Property=%{x}<br>Person=%{marker.size}<extra></extra>",
           "hovertext": [
            "Saskatchewan"
           ],
           "legendgroup": "Saskatchewan",
           "marker": {
            "color": "#EF553B",
            "size": [
             887
            ],
            "sizemode": "area",
            "sizeref": 2.4469444444444446,
            "symbol": "circle"
           },
           "mode": "markers",
           "name": "Saskatchewan",
           "orientation": "v",
           "showlegend": true,
           "type": "scatter",
           "x": [
            3232
           ],
           "xaxis": "x",
           "y": [
            887
           ],
           "yaxis": "y"
          },
          {
           "hovertemplate": "<b>%{hovertext}</b><br><br>GEO=Yukon<br>YEAR=2001<br>Property=%{x}<br>Person=%{marker.size}<extra></extra>",
           "hovertext": [
            "Yukon"
           ],
           "legendgroup": "Yukon",
           "marker": {
            "color": "#00cc96",
            "size": [
             38
            ],
            "sizemode": "area",
            "sizeref": 2.4469444444444446,
            "symbol": "circle"
           },
           "mode": "markers",
           "name": "Yukon",
           "orientation": "v",
           "showlegend": true,
           "type": "scatter",
           "x": [
            89
           ],
           "xaxis": "x",
           "y": [
            38
           ],
           "yaxis": "y"
          }
         ],
         "name": "2001"
        },
        {
         "data": [
          {
           "hovertemplate": "<b>%{hovertext}</b><br><br>GEO=Alberta<br>YEAR=2002<br>Property=%{x}<br>Person=%{marker.size}<extra></extra>",
           "hovertext": [
            "Alberta"
           ],
           "legendgroup": "Alberta",
           "marker": {
            "color": "#636efa",
            "size": [
             1671
            ],
            "sizemode": "area",
            "sizeref": 2.4469444444444446,
            "symbol": "circle"
           },
           "mode": "markers",
           "name": "Alberta",
           "orientation": "v",
           "showlegend": true,
           "type": "scatter",
           "x": [
            4701
           ],
           "xaxis": "x",
           "y": [
            1671
           ],
           "yaxis": "y"
          },
          {
           "hovertemplate": "<b>%{hovertext}</b><br><br>GEO=British Columbia<br>YEAR=2002<br>Property=%{x}<br>Person=%{marker.size}<extra></extra>",
           "hovertext": [
            "British Columbia"
           ],
           "legendgroup": "British Columbia",
           "marker": {
            "color": "#EF553B",
            "size": [
             1425
            ],
            "sizemode": "area",
            "sizeref": 2.4469444444444446,
            "symbol": "circle"
           },
           "mode": "markers",
           "name": "British Columbia",
           "orientation": "v",
           "showlegend": true,
           "type": "scatter",
           "x": [
            2492
           ],
           "xaxis": "x",
           "y": [
            1425
           ],
           "yaxis": "y"
          },
          {
           "hovertemplate": "<b>%{hovertext}</b><br><br>GEO=Manitoba<br>YEAR=2002<br>Property=%{x}<br>Person=%{marker.size}<extra></extra>",
           "hovertext": [
            "Manitoba"
           ],
           "legendgroup": "Manitoba",
           "marker": {
            "color": "#00cc96",
            "size": [
             754
            ],
            "sizemode": "area",
            "sizeref": 2.4469444444444446,
            "symbol": "circle"
           },
           "mode": "markers",
           "name": "Manitoba",
           "orientation": "v",
           "showlegend": true,
           "type": "scatter",
           "x": [
            1398
           ],
           "xaxis": "x",
           "y": [
            754
           ],
           "yaxis": "y"
          },
          {
           "hovertemplate": "<b>%{hovertext}</b><br><br>GEO=New Brunswick<br>YEAR=2002<br>Property=%{x}<br>Person=%{marker.size}<extra></extra>",
           "hovertext": [
            "New Brunswick"
           ],
           "legendgroup": "New Brunswick",
           "marker": {
            "color": "#ab63fa",
            "size": [
             313
            ],
            "sizemode": "area",
            "sizeref": 2.4469444444444446,
            "symbol": "circle"
           },
           "mode": "markers",
           "name": "New Brunswick",
           "orientation": "v",
           "showlegend": true,
           "type": "scatter",
           "x": [
            618
           ],
           "xaxis": "x",
           "y": [
            313
           ],
           "yaxis": "y"
          },
          {
           "hovertemplate": "<b>%{hovertext}</b><br><br>GEO=Newfoundland and Labrador<br>YEAR=2002<br>Property=%{x}<br>Person=%{marker.size}<extra></extra>",
           "hovertext": [
            "Newfoundland and Labrador"
           ],
           "legendgroup": "Newfoundland and Labrador",
           "marker": {
            "color": "#FFA15A",
            "size": [
             283
            ],
            "sizemode": "area",
            "sizeref": 2.4469444444444446,
            "symbol": "circle"
           },
           "mode": "markers",
           "name": "Newfoundland and Labrador",
           "orientation": "v",
           "showlegend": true,
           "type": "scatter",
           "x": [
            704
           ],
           "xaxis": "x",
           "y": [
            283
           ],
           "yaxis": "y"
          },
          {
           "hovertemplate": "<b>%{hovertext}</b><br><br>GEO=Northwest Territories<br>YEAR=2002<br>Property=%{x}<br>Person=%{marker.size}<extra></extra>",
           "hovertext": [
            "Northwest Territories"
           ],
           "legendgroup": "Northwest Territories",
           "marker": {
            "color": "#19d3f3",
            "size": [
             66
            ],
            "sizemode": "area",
            "sizeref": 2.4469444444444446,
            "symbol": "circle"
           },
           "mode": "markers",
           "name": "Northwest Territories",
           "orientation": "v",
           "showlegend": true,
           "type": "scatter",
           "x": [
            200
           ],
           "xaxis": "x",
           "y": [
            66
           ],
           "yaxis": "y"
          },
          {
           "hovertemplate": "<b>%{hovertext}</b><br><br>GEO=Nova Scotia<br>YEAR=2002<br>Property=%{x}<br>Person=%{marker.size}<extra></extra>",
           "hovertext": [
            "Nova Scotia"
           ],
           "legendgroup": "Nova Scotia",
           "marker": {
            "color": "#FF6692",
            "size": [
             442
            ],
            "sizemode": "area",
            "sizeref": 2.4469444444444446,
            "symbol": "circle"
           },
           "mode": "markers",
           "name": "Nova Scotia",
           "orientation": "v",
           "showlegend": true,
           "type": "scatter",
           "x": [
            858
           ],
           "xaxis": "x",
           "y": [
            442
           ],
           "yaxis": "y"
          },
          {
           "hovertemplate": "<b>%{hovertext}</b><br><br>GEO=Nunavut<br>YEAR=2002<br>Property=%{x}<br>Person=%{marker.size}<extra></extra>",
           "hovertext": [
            "Nunavut"
           ],
           "legendgroup": "Nunavut",
           "marker": {
            "color": "#B6E880",
            "size": [
             49
            ],
            "sizemode": "area",
            "sizeref": 2.4469444444444446,
            "symbol": "circle"
           },
           "mode": "markers",
           "name": "Nunavut",
           "orientation": "v",
           "showlegend": true,
           "type": "scatter",
           "x": [
            135
           ],
           "xaxis": "x",
           "y": [
            49
           ],
           "yaxis": "y"
          },
          {
           "hovertemplate": "<b>%{hovertext}</b><br><br>GEO=Ontario<br>YEAR=2002<br>Property=%{x}<br>Person=%{marker.size}<extra></extra>",
           "hovertext": [
            "Ontario"
           ],
           "legendgroup": "Ontario",
           "marker": {
            "color": "#FF97FF",
            "size": [
             8809
            ],
            "sizemode": "area",
            "sizeref": 2.4469444444444446,
            "symbol": "circle"
           },
           "mode": "markers",
           "name": "Ontario",
           "orientation": "v",
           "showlegend": true,
           "type": "scatter",
           "x": [
            14865
           ],
           "xaxis": "x",
           "y": [
            8809
           ],
           "yaxis": "y"
          },
          {
           "hovertemplate": "<b>%{hovertext}</b><br><br>GEO=Prince Edward Island<br>YEAR=2002<br>Property=%{x}<br>Person=%{marker.size}<extra></extra>",
           "hovertext": [
            "Prince Edward Island"
           ],
           "legendgroup": "Prince Edward Island",
           "marker": {
            "color": "#FECB52",
            "size": [
             54
            ],
            "sizemode": "area",
            "sizeref": 2.4469444444444446,
            "symbol": "circle"
           },
           "mode": "markers",
           "name": "Prince Edward Island",
           "orientation": "v",
           "showlegend": true,
           "type": "scatter",
           "x": [
            140
           ],
           "xaxis": "x",
           "y": [
            54
           ],
           "yaxis": "y"
          },
          {
           "hovertemplate": "<b>%{hovertext}</b><br><br>GEO=Quebec<br>YEAR=2002<br>Property=%{x}<br>Person=%{marker.size}<extra></extra>",
           "hovertext": [
            "Quebec"
           ],
           "legendgroup": "Quebec",
           "marker": {
            "color": "#636efa",
            "size": [
             2202
            ],
            "sizemode": "area",
            "sizeref": 2.4469444444444446,
            "symbol": "circle"
           },
           "mode": "markers",
           "name": "Quebec",
           "orientation": "v",
           "showlegend": true,
           "type": "scatter",
           "x": [
            2531
           ],
           "xaxis": "x",
           "y": [
            2202
           ],
           "yaxis": "y"
          },
          {
           "hovertemplate": "<b>%{hovertext}</b><br><br>GEO=Saskatchewan<br>YEAR=2002<br>Property=%{x}<br>Person=%{marker.size}<extra></extra>",
           "hovertext": [
            "Saskatchewan"
           ],
           "legendgroup": "Saskatchewan",
           "marker": {
            "color": "#EF553B",
            "size": [
             978
            ],
            "sizemode": "area",
            "sizeref": 2.4469444444444446,
            "symbol": "circle"
           },
           "mode": "markers",
           "name": "Saskatchewan",
           "orientation": "v",
           "showlegend": true,
           "type": "scatter",
           "x": [
            3097
           ],
           "xaxis": "x",
           "y": [
            978
           ],
           "yaxis": "y"
          },
          {
           "hovertemplate": "<b>%{hovertext}</b><br><br>GEO=Yukon<br>YEAR=2002<br>Property=%{x}<br>Person=%{marker.size}<extra></extra>",
           "hovertext": [
            "Yukon"
           ],
           "legendgroup": "Yukon",
           "marker": {
            "color": "#00cc96",
            "size": [
             25
            ],
            "sizemode": "area",
            "sizeref": 2.4469444444444446,
            "symbol": "circle"
           },
           "mode": "markers",
           "name": "Yukon",
           "orientation": "v",
           "showlegend": true,
           "type": "scatter",
           "x": [
            89
           ],
           "xaxis": "x",
           "y": [
            25
           ],
           "yaxis": "y"
          }
         ],
         "name": "2002"
        },
        {
         "data": [
          {
           "hovertemplate": "<b>%{hovertext}</b><br><br>GEO=Alberta<br>YEAR=2003<br>Property=%{x}<br>Person=%{marker.size}<extra></extra>",
           "hovertext": [
            "Alberta"
           ],
           "legendgroup": "Alberta",
           "marker": {
            "color": "#636efa",
            "size": [
             1753
            ],
            "sizemode": "area",
            "sizeref": 2.4469444444444446,
            "symbol": "circle"
           },
           "mode": "markers",
           "name": "Alberta",
           "orientation": "v",
           "showlegend": true,
           "type": "scatter",
           "x": [
            4977
           ],
           "xaxis": "x",
           "y": [
            1753
           ],
           "yaxis": "y"
          },
          {
           "hovertemplate": "<b>%{hovertext}</b><br><br>GEO=British Columbia<br>YEAR=2003<br>Property=%{x}<br>Person=%{marker.size}<extra></extra>",
           "hovertext": [
            "British Columbia"
           ],
           "legendgroup": "British Columbia",
           "marker": {
            "color": "#EF553B",
            "size": [
             1210
            ],
            "sizemode": "area",
            "sizeref": 2.4469444444444446,
            "symbol": "circle"
           },
           "mode": "markers",
           "name": "British Columbia",
           "orientation": "v",
           "showlegend": true,
           "type": "scatter",
           "x": [
            1883
           ],
           "xaxis": "x",
           "y": [
            1210
           ],
           "yaxis": "y"
          },
          {
           "hovertemplate": "<b>%{hovertext}</b><br><br>GEO=Manitoba<br>YEAR=2003<br>Property=%{x}<br>Person=%{marker.size}<extra></extra>",
           "hovertext": [
            "Manitoba"
           ],
           "legendgroup": "Manitoba",
           "marker": {
            "color": "#00cc96",
            "size": [
             708
            ],
            "sizemode": "area",
            "sizeref": 2.4469444444444446,
            "symbol": "circle"
           },
           "mode": "markers",
           "name": "Manitoba",
           "orientation": "v",
           "showlegend": true,
           "type": "scatter",
           "x": [
            1367
           ],
           "xaxis": "x",
           "y": [
            708
           ],
           "yaxis": "y"
          },
          {
           "hovertemplate": "<b>%{hovertext}</b><br><br>GEO=New Brunswick<br>YEAR=2003<br>Property=%{x}<br>Person=%{marker.size}<extra></extra>",
           "hovertext": [
            "New Brunswick"
           ],
           "legendgroup": "New Brunswick",
           "marker": {
            "color": "#ab63fa",
            "size": [
             258
            ],
            "sizemode": "area",
            "sizeref": 2.4469444444444446,
            "symbol": "circle"
           },
           "mode": "markers",
           "name": "New Brunswick",
           "orientation": "v",
           "showlegend": true,
           "type": "scatter",
           "x": [
            504
           ],
           "xaxis": "x",
           "y": [
            258
           ],
           "yaxis": "y"
          },
          {
           "hovertemplate": "<b>%{hovertext}</b><br><br>GEO=Newfoundland and Labrador<br>YEAR=2003<br>Property=%{x}<br>Person=%{marker.size}<extra></extra>",
           "hovertext": [
            "Newfoundland and Labrador"
           ],
           "legendgroup": "Newfoundland and Labrador",
           "marker": {
            "color": "#FFA15A",
            "size": [
             281
            ],
            "sizemode": "area",
            "sizeref": 2.4469444444444446,
            "symbol": "circle"
           },
           "mode": "markers",
           "name": "Newfoundland and Labrador",
           "orientation": "v",
           "showlegend": true,
           "type": "scatter",
           "x": [
            516
           ],
           "xaxis": "x",
           "y": [
            281
           ],
           "yaxis": "y"
          },
          {
           "hovertemplate": "<b>%{hovertext}</b><br><br>GEO=Northwest Territories<br>YEAR=2003<br>Property=%{x}<br>Person=%{marker.size}<extra></extra>",
           "hovertext": [
            "Northwest Territories"
           ],
           "legendgroup": "Northwest Territories",
           "marker": {
            "color": "#19d3f3",
            "size": [
             48
            ],
            "sizemode": "area",
            "sizeref": 2.4469444444444446,
            "symbol": "circle"
           },
           "mode": "markers",
           "name": "Northwest Territories",
           "orientation": "v",
           "showlegend": true,
           "type": "scatter",
           "x": [
            131
           ],
           "xaxis": "x",
           "y": [
            48
           ],
           "yaxis": "y"
          },
          {
           "hovertemplate": "<b>%{hovertext}</b><br><br>GEO=Nova Scotia<br>YEAR=2003<br>Property=%{x}<br>Person=%{marker.size}<extra></extra>",
           "hovertext": [
            "Nova Scotia"
           ],
           "legendgroup": "Nova Scotia",
           "marker": {
            "color": "#FF6692",
            "size": [
             477
            ],
            "sizemode": "area",
            "sizeref": 2.4469444444444446,
            "symbol": "circle"
           },
           "mode": "markers",
           "name": "Nova Scotia",
           "orientation": "v",
           "showlegend": true,
           "type": "scatter",
           "x": [
            678
           ],
           "xaxis": "x",
           "y": [
            477
           ],
           "yaxis": "y"
          },
          {
           "hovertemplate": "<b>%{hovertext}</b><br><br>GEO=Nunavut<br>YEAR=2003<br>Property=%{x}<br>Person=%{marker.size}<extra></extra>",
           "hovertext": [
            "Nunavut"
           ],
           "legendgroup": "Nunavut",
           "marker": {
            "color": "#B6E880",
            "size": [
             33
            ],
            "sizemode": "area",
            "sizeref": 2.4469444444444446,
            "symbol": "circle"
           },
           "mode": "markers",
           "name": "Nunavut",
           "orientation": "v",
           "showlegend": true,
           "type": "scatter",
           "x": [
            130
           ],
           "xaxis": "x",
           "y": [
            33
           ],
           "yaxis": "y"
          },
          {
           "hovertemplate": "<b>%{hovertext}</b><br><br>GEO=Ontario<br>YEAR=2003<br>Property=%{x}<br>Person=%{marker.size}<extra></extra>",
           "hovertext": [
            "Ontario"
           ],
           "legendgroup": "Ontario",
           "marker": {
            "color": "#FF97FF",
            "size": [
             7491
            ],
            "sizemode": "area",
            "sizeref": 2.4469444444444446,
            "symbol": "circle"
           },
           "mode": "markers",
           "name": "Ontario",
           "orientation": "v",
           "showlegend": true,
           "type": "scatter",
           "x": [
            11027
           ],
           "xaxis": "x",
           "y": [
            7491
           ],
           "yaxis": "y"
          },
          {
           "hovertemplate": "<b>%{hovertext}</b><br><br>GEO=Prince Edward Island<br>YEAR=2003<br>Property=%{x}<br>Person=%{marker.size}<extra></extra>",
           "hovertext": [
            "Prince Edward Island"
           ],
           "legendgroup": "Prince Edward Island",
           "marker": {
            "color": "#FECB52",
            "size": [
             42
            ],
            "sizemode": "area",
            "sizeref": 2.4469444444444446,
            "symbol": "circle"
           },
           "mode": "markers",
           "name": "Prince Edward Island",
           "orientation": "v",
           "showlegend": true,
           "type": "scatter",
           "x": [
            89
           ],
           "xaxis": "x",
           "y": [
            42
           ],
           "yaxis": "y"
          },
          {
           "hovertemplate": "<b>%{hovertext}</b><br><br>GEO=Quebec<br>YEAR=2003<br>Property=%{x}<br>Person=%{marker.size}<extra></extra>",
           "hovertext": [
            "Quebec"
           ],
           "legendgroup": "Quebec",
           "marker": {
            "color": "#636efa",
            "size": [
             2197
            ],
            "sizemode": "area",
            "sizeref": 2.4469444444444446,
            "symbol": "circle"
           },
           "mode": "markers",
           "name": "Quebec",
           "orientation": "v",
           "showlegend": true,
           "type": "scatter",
           "x": [
            2326
           ],
           "xaxis": "x",
           "y": [
            2197
           ],
           "yaxis": "y"
          },
          {
           "hovertemplate": "<b>%{hovertext}</b><br><br>GEO=Saskatchewan<br>YEAR=2003<br>Property=%{x}<br>Person=%{marker.size}<extra></extra>",
           "hovertext": [
            "Saskatchewan"
           ],
           "legendgroup": "Saskatchewan",
           "marker": {
            "color": "#EF553B",
            "size": [
             972
            ],
            "sizemode": "area",
            "sizeref": 2.4469444444444446,
            "symbol": "circle"
           },
           "mode": "markers",
           "name": "Saskatchewan",
           "orientation": "v",
           "showlegend": true,
           "type": "scatter",
           "x": [
            2624
           ],
           "xaxis": "x",
           "y": [
            972
           ],
           "yaxis": "y"
          },
          {
           "hovertemplate": "<b>%{hovertext}</b><br><br>GEO=Yukon<br>YEAR=2003<br>Property=%{x}<br>Person=%{marker.size}<extra></extra>",
           "hovertext": [
            "Yukon"
           ],
           "legendgroup": "Yukon",
           "marker": {
            "color": "#00cc96",
            "size": [
             19
            ],
            "sizemode": "area",
            "sizeref": 2.4469444444444446,
            "symbol": "circle"
           },
           "mode": "markers",
           "name": "Yukon",
           "orientation": "v",
           "showlegend": true,
           "type": "scatter",
           "x": [
            44
           ],
           "xaxis": "x",
           "y": [
            19
           ],
           "yaxis": "y"
          }
         ],
         "name": "2003"
        },
        {
         "data": [
          {
           "hovertemplate": "<b>%{hovertext}</b><br><br>GEO=Alberta<br>YEAR=2004<br>Property=%{x}<br>Person=%{marker.size}<extra></extra>",
           "hovertext": [
            "Alberta"
           ],
           "legendgroup": "Alberta",
           "marker": {
            "color": "#636efa",
            "size": [
             1453
            ],
            "sizemode": "area",
            "sizeref": 2.4469444444444446,
            "symbol": "circle"
           },
           "mode": "markers",
           "name": "Alberta",
           "orientation": "v",
           "showlegend": true,
           "type": "scatter",
           "x": [
            3731
           ],
           "xaxis": "x",
           "y": [
            1453
           ],
           "yaxis": "y"
          },
          {
           "hovertemplate": "<b>%{hovertext}</b><br><br>GEO=British Columbia<br>YEAR=2004<br>Property=%{x}<br>Person=%{marker.size}<extra></extra>",
           "hovertext": [
            "British Columbia"
           ],
           "legendgroup": "British Columbia",
           "marker": {
            "color": "#EF553B",
            "size": [
             1052
            ],
            "sizemode": "area",
            "sizeref": 2.4469444444444446,
            "symbol": "circle"
           },
           "mode": "markers",
           "name": "British Columbia",
           "orientation": "v",
           "showlegend": true,
           "type": "scatter",
           "x": [
            1628
           ],
           "xaxis": "x",
           "y": [
            1052
           ],
           "yaxis": "y"
          },
          {
           "hovertemplate": "<b>%{hovertext}</b><br><br>GEO=Manitoba<br>YEAR=2004<br>Property=%{x}<br>Person=%{marker.size}<extra></extra>",
           "hovertext": [
            "Manitoba"
           ],
           "legendgroup": "Manitoba",
           "marker": {
            "color": "#00cc96",
            "size": [
             612
            ],
            "sizemode": "area",
            "sizeref": 2.4469444444444446,
            "symbol": "circle"
           },
           "mode": "markers",
           "name": "Manitoba",
           "orientation": "v",
           "showlegend": true,
           "type": "scatter",
           "x": [
            1155
           ],
           "xaxis": "x",
           "y": [
            612
           ],
           "yaxis": "y"
          },
          {
           "hovertemplate": "<b>%{hovertext}</b><br><br>GEO=New Brunswick<br>YEAR=2004<br>Property=%{x}<br>Person=%{marker.size}<extra></extra>",
           "hovertext": [
            "New Brunswick"
           ],
           "legendgroup": "New Brunswick",
           "marker": {
            "color": "#ab63fa",
            "size": [
             262
            ],
            "sizemode": "area",
            "sizeref": 2.4469444444444446,
            "symbol": "circle"
           },
           "mode": "markers",
           "name": "New Brunswick",
           "orientation": "v",
           "showlegend": true,
           "type": "scatter",
           "x": [
            523
           ],
           "xaxis": "x",
           "y": [
            262
           ],
           "yaxis": "y"
          },
          {
           "hovertemplate": "<b>%{hovertext}</b><br><br>GEO=Newfoundland and Labrador<br>YEAR=2004<br>Property=%{x}<br>Person=%{marker.size}<extra></extra>",
           "hovertext": [
            "Newfoundland and Labrador"
           ],
           "legendgroup": "Newfoundland and Labrador",
           "marker": {
            "color": "#FFA15A",
            "size": [
             253
            ],
            "sizemode": "area",
            "sizeref": 2.4469444444444446,
            "symbol": "circle"
           },
           "mode": "markers",
           "name": "Newfoundland and Labrador",
           "orientation": "v",
           "showlegend": true,
           "type": "scatter",
           "x": [
            537
           ],
           "xaxis": "x",
           "y": [
            253
           ],
           "yaxis": "y"
          },
          {
           "hovertemplate": "<b>%{hovertext}</b><br><br>GEO=Northwest Territories<br>YEAR=2004<br>Property=%{x}<br>Person=%{marker.size}<extra></extra>",
           "hovertext": [
            "Northwest Territories"
           ],
           "legendgroup": "Northwest Territories",
           "marker": {
            "color": "#19d3f3",
            "size": [
             52
            ],
            "sizemode": "area",
            "sizeref": 2.4469444444444446,
            "symbol": "circle"
           },
           "mode": "markers",
           "name": "Northwest Territories",
           "orientation": "v",
           "showlegend": true,
           "type": "scatter",
           "x": [
            172
           ],
           "xaxis": "x",
           "y": [
            52
           ],
           "yaxis": "y"
          },
          {
           "hovertemplate": "<b>%{hovertext}</b><br><br>GEO=Nova Scotia<br>YEAR=2004<br>Property=%{x}<br>Person=%{marker.size}<extra></extra>",
           "hovertext": [
            "Nova Scotia"
           ],
           "legendgroup": "Nova Scotia",
           "marker": {
            "color": "#FF6692",
            "size": [
             435
            ],
            "sizemode": "area",
            "sizeref": 2.4469444444444446,
            "symbol": "circle"
           },
           "mode": "markers",
           "name": "Nova Scotia",
           "orientation": "v",
           "showlegend": true,
           "type": "scatter",
           "x": [
            678
           ],
           "xaxis": "x",
           "y": [
            435
           ],
           "yaxis": "y"
          },
          {
           "hovertemplate": "<b>%{hovertext}</b><br><br>GEO=Nunavut<br>YEAR=2004<br>Property=%{x}<br>Person=%{marker.size}<extra></extra>",
           "hovertext": [
            "Nunavut"
           ],
           "legendgroup": "Nunavut",
           "marker": {
            "color": "#B6E880",
            "size": [
             43
            ],
            "sizemode": "area",
            "sizeref": 2.4469444444444446,
            "symbol": "circle"
           },
           "mode": "markers",
           "name": "Nunavut",
           "orientation": "v",
           "showlegend": true,
           "type": "scatter",
           "x": [
            130
           ],
           "xaxis": "x",
           "y": [
            43
           ],
           "yaxis": "y"
          },
          {
           "hovertemplate": "<b>%{hovertext}</b><br><br>GEO=Ontario<br>YEAR=2004<br>Property=%{x}<br>Person=%{marker.size}<extra></extra>",
           "hovertext": [
            "Ontario"
           ],
           "legendgroup": "Ontario",
           "marker": {
            "color": "#FF97FF",
            "size": [
             6814
            ],
            "sizemode": "area",
            "sizeref": 2.4469444444444446,
            "symbol": "circle"
           },
           "mode": "markers",
           "name": "Ontario",
           "orientation": "v",
           "showlegend": true,
           "type": "scatter",
           "x": [
            9994
           ],
           "xaxis": "x",
           "y": [
            6814
           ],
           "yaxis": "y"
          },
          {
           "hovertemplate": "<b>%{hovertext}</b><br><br>GEO=Prince Edward Island<br>YEAR=2004<br>Property=%{x}<br>Person=%{marker.size}<extra></extra>",
           "hovertext": [
            "Prince Edward Island"
           ],
           "legendgroup": "Prince Edward Island",
           "marker": {
            "color": "#FECB52",
            "size": [
             23
            ],
            "sizemode": "area",
            "sizeref": 2.4469444444444446,
            "symbol": "circle"
           },
           "mode": "markers",
           "name": "Prince Edward Island",
           "orientation": "v",
           "showlegend": true,
           "type": "scatter",
           "x": [
            66
           ],
           "xaxis": "x",
           "y": [
            23
           ],
           "yaxis": "y"
          },
          {
           "hovertemplate": "<b>%{hovertext}</b><br><br>GEO=Quebec<br>YEAR=2004<br>Property=%{x}<br>Person=%{marker.size}<extra></extra>",
           "hovertext": [
            "Quebec"
           ],
           "legendgroup": "Quebec",
           "marker": {
            "color": "#636efa",
            "size": [
             2219
            ],
            "sizemode": "area",
            "sizeref": 2.4469444444444446,
            "symbol": "circle"
           },
           "mode": "markers",
           "name": "Quebec",
           "orientation": "v",
           "showlegend": true,
           "type": "scatter",
           "x": [
            2131
           ],
           "xaxis": "x",
           "y": [
            2219
           ],
           "yaxis": "y"
          },
          {
           "hovertemplate": "<b>%{hovertext}</b><br><br>GEO=Saskatchewan<br>YEAR=2004<br>Property=%{x}<br>Person=%{marker.size}<extra></extra>",
           "hovertext": [
            "Saskatchewan"
           ],
           "legendgroup": "Saskatchewan",
           "marker": {
            "color": "#EF553B",
            "size": [
             830
            ],
            "sizemode": "area",
            "sizeref": 2.4469444444444446,
            "symbol": "circle"
           },
           "mode": "markers",
           "name": "Saskatchewan",
           "orientation": "v",
           "showlegend": true,
           "type": "scatter",
           "x": [
            2543
           ],
           "xaxis": "x",
           "y": [
            830
           ],
           "yaxis": "y"
          },
          {
           "hovertemplate": "<b>%{hovertext}</b><br><br>GEO=Yukon<br>YEAR=2004<br>Property=%{x}<br>Person=%{marker.size}<extra></extra>",
           "hovertext": [
            "Yukon"
           ],
           "legendgroup": "Yukon",
           "marker": {
            "color": "#00cc96",
            "size": [
             18
            ],
            "sizemode": "area",
            "sizeref": 2.4469444444444446,
            "symbol": "circle"
           },
           "mode": "markers",
           "name": "Yukon",
           "orientation": "v",
           "showlegend": true,
           "type": "scatter",
           "x": [
            33
           ],
           "xaxis": "x",
           "y": [
            18
           ],
           "yaxis": "y"
          }
         ],
         "name": "2004"
        },
        {
         "data": [
          {
           "hovertemplate": "<b>%{hovertext}</b><br><br>GEO=Alberta<br>YEAR=2005<br>Property=%{x}<br>Person=%{marker.size}<extra></extra>",
           "hovertext": [
            "Alberta"
           ],
           "legendgroup": "Alberta",
           "marker": {
            "color": "#636efa",
            "size": [
             1500
            ],
            "sizemode": "area",
            "sizeref": 2.4469444444444446,
            "symbol": "circle"
           },
           "mode": "markers",
           "name": "Alberta",
           "orientation": "v",
           "showlegend": true,
           "type": "scatter",
           "x": [
            3648
           ],
           "xaxis": "x",
           "y": [
            1500
           ],
           "yaxis": "y"
          },
          {
           "hovertemplate": "<b>%{hovertext}</b><br><br>GEO=British Columbia<br>YEAR=2005<br>Property=%{x}<br>Person=%{marker.size}<extra></extra>",
           "hovertext": [
            "British Columbia"
           ],
           "legendgroup": "British Columbia",
           "marker": {
            "color": "#EF553B",
            "size": [
             1114
            ],
            "sizemode": "area",
            "sizeref": 2.4469444444444446,
            "symbol": "circle"
           },
           "mode": "markers",
           "name": "British Columbia",
           "orientation": "v",
           "showlegend": true,
           "type": "scatter",
           "x": [
            1465
           ],
           "xaxis": "x",
           "y": [
            1114
           ],
           "yaxis": "y"
          },
          {
           "hovertemplate": "<b>%{hovertext}</b><br><br>GEO=Manitoba<br>YEAR=2005<br>Property=%{x}<br>Person=%{marker.size}<extra></extra>",
           "hovertext": [
            "Manitoba"
           ],
           "legendgroup": "Manitoba",
           "marker": {
            "color": "#00cc96",
            "size": [
             627
            ],
            "sizemode": "area",
            "sizeref": 2.4469444444444446,
            "symbol": "circle"
           },
           "mode": "markers",
           "name": "Manitoba",
           "orientation": "v",
           "showlegend": true,
           "type": "scatter",
           "x": [
            1164
           ],
           "xaxis": "x",
           "y": [
            627
           ],
           "yaxis": "y"
          },
          {
           "hovertemplate": "<b>%{hovertext}</b><br><br>GEO=New Brunswick<br>YEAR=2005<br>Property=%{x}<br>Person=%{marker.size}<extra></extra>",
           "hovertext": [
            "New Brunswick"
           ],
           "legendgroup": "New Brunswick",
           "marker": {
            "color": "#ab63fa",
            "size": [
             276
            ],
            "sizemode": "area",
            "sizeref": 2.4469444444444446,
            "symbol": "circle"
           },
           "mode": "markers",
           "name": "New Brunswick",
           "orientation": "v",
           "showlegend": true,
           "type": "scatter",
           "x": [
            523
           ],
           "xaxis": "x",
           "y": [
            276
           ],
           "yaxis": "y"
          },
          {
           "hovertemplate": "<b>%{hovertext}</b><br><br>GEO=Newfoundland and Labrador<br>YEAR=2005<br>Property=%{x}<br>Person=%{marker.size}<extra></extra>",
           "hovertext": [
            "Newfoundland and Labrador"
           ],
           "legendgroup": "Newfoundland and Labrador",
           "marker": {
            "color": "#FFA15A",
            "size": [
             198
            ],
            "sizemode": "area",
            "sizeref": 2.4469444444444446,
            "symbol": "circle"
           },
           "mode": "markers",
           "name": "Newfoundland and Labrador",
           "orientation": "v",
           "showlegend": true,
           "type": "scatter",
           "x": [
            362
           ],
           "xaxis": "x",
           "y": [
            198
           ],
           "yaxis": "y"
          },
          {
           "hovertemplate": "<b>%{hovertext}</b><br><br>GEO=Northwest Territories<br>YEAR=2005<br>Property=%{x}<br>Person=%{marker.size}<extra></extra>",
           "hovertext": [
            "Northwest Territories"
           ],
           "legendgroup": "Northwest Territories",
           "marker": {
            "color": "#19d3f3",
            "size": [
             52
            ],
            "sizemode": "area",
            "sizeref": 2.4469444444444446,
            "symbol": "circle"
           },
           "mode": "markers",
           "name": "Northwest Territories",
           "orientation": "v",
           "showlegend": true,
           "type": "scatter",
           "x": [
            159
           ],
           "xaxis": "x",
           "y": [
            52
           ],
           "yaxis": "y"
          },
          {
           "hovertemplate": "<b>%{hovertext}</b><br><br>GEO=Nova Scotia<br>YEAR=2005<br>Property=%{x}<br>Person=%{marker.size}<extra></extra>",
           "hovertext": [
            "Nova Scotia"
           ],
           "legendgroup": "Nova Scotia",
           "marker": {
            "color": "#FF6692",
            "size": [
             474
            ],
            "sizemode": "area",
            "sizeref": 2.4469444444444446,
            "symbol": "circle"
           },
           "mode": "markers",
           "name": "Nova Scotia",
           "orientation": "v",
           "showlegend": true,
           "type": "scatter",
           "x": [
            729
           ],
           "xaxis": "x",
           "y": [
            474
           ],
           "yaxis": "y"
          },
          {
           "hovertemplate": "<b>%{hovertext}</b><br><br>GEO=Nunavut<br>YEAR=2005<br>Property=%{x}<br>Person=%{marker.size}<extra></extra>",
           "hovertext": [
            "Nunavut"
           ],
           "legendgroup": "Nunavut",
           "marker": {
            "color": "#B6E880",
            "size": [
             42
            ],
            "sizemode": "area",
            "sizeref": 2.4469444444444446,
            "symbol": "circle"
           },
           "mode": "markers",
           "name": "Nunavut",
           "orientation": "v",
           "showlegend": true,
           "type": "scatter",
           "x": [
            129
           ],
           "xaxis": "x",
           "y": [
            42
           ],
           "yaxis": "y"
          },
          {
           "hovertemplate": "<b>%{hovertext}</b><br><br>GEO=Ontario<br>YEAR=2005<br>Property=%{x}<br>Person=%{marker.size}<extra></extra>",
           "hovertext": [
            "Ontario"
           ],
           "legendgroup": "Ontario",
           "marker": {
            "color": "#FF97FF",
            "size": [
             6686
            ],
            "sizemode": "area",
            "sizeref": 2.4469444444444446,
            "symbol": "circle"
           },
           "mode": "markers",
           "name": "Ontario",
           "orientation": "v",
           "showlegend": true,
           "type": "scatter",
           "x": [
            9576
           ],
           "xaxis": "x",
           "y": [
            6686
           ],
           "yaxis": "y"
          },
          {
           "hovertemplate": "<b>%{hovertext}</b><br><br>GEO=Prince Edward Island<br>YEAR=2005<br>Property=%{x}<br>Person=%{marker.size}<extra></extra>",
           "hovertext": [
            "Prince Edward Island"
           ],
           "legendgroup": "Prince Edward Island",
           "marker": {
            "color": "#FECB52",
            "size": [
             46
            ],
            "sizemode": "area",
            "sizeref": 2.4469444444444446,
            "symbol": "circle"
           },
           "mode": "markers",
           "name": "Prince Edward Island",
           "orientation": "v",
           "showlegend": true,
           "type": "scatter",
           "x": [
            105
           ],
           "xaxis": "x",
           "y": [
            46
           ],
           "yaxis": "y"
          },
          {
           "hovertemplate": "<b>%{hovertext}</b><br><br>GEO=Quebec<br>YEAR=2005<br>Property=%{x}<br>Person=%{marker.size}<extra></extra>",
           "hovertext": [
            "Quebec"
           ],
           "legendgroup": "Quebec",
           "marker": {
            "color": "#636efa",
            "size": [
             2569
            ],
            "sizemode": "area",
            "sizeref": 2.4469444444444446,
            "symbol": "circle"
           },
           "mode": "markers",
           "name": "Quebec",
           "orientation": "v",
           "showlegend": true,
           "type": "scatter",
           "x": [
            2224
           ],
           "xaxis": "x",
           "y": [
            2569
           ],
           "yaxis": "y"
          },
          {
           "hovertemplate": "<b>%{hovertext}</b><br><br>GEO=Saskatchewan<br>YEAR=2005<br>Property=%{x}<br>Person=%{marker.size}<extra></extra>",
           "hovertext": [
            "Saskatchewan"
           ],
           "legendgroup": "Saskatchewan",
           "marker": {
            "color": "#EF553B",
            "size": [
             924
            ],
            "sizemode": "area",
            "sizeref": 2.4469444444444446,
            "symbol": "circle"
           },
           "mode": "markers",
           "name": "Saskatchewan",
           "orientation": "v",
           "showlegend": true,
           "type": "scatter",
           "x": [
            2339
           ],
           "xaxis": "x",
           "y": [
            924
           ],
           "yaxis": "y"
          },
          {
           "hovertemplate": "<b>%{hovertext}</b><br><br>GEO=Yukon<br>YEAR=2005<br>Property=%{x}<br>Person=%{marker.size}<extra></extra>",
           "hovertext": [
            "Yukon"
           ],
           "legendgroup": "Yukon",
           "marker": {
            "color": "#00cc96",
            "size": [
             19
            ],
            "sizemode": "area",
            "sizeref": 2.4469444444444446,
            "symbol": "circle"
           },
           "mode": "markers",
           "name": "Yukon",
           "orientation": "v",
           "showlegend": true,
           "type": "scatter",
           "x": [
            37
           ],
           "xaxis": "x",
           "y": [
            19
           ],
           "yaxis": "y"
          }
         ],
         "name": "2005"
        },
        {
         "data": [
          {
           "hovertemplate": "<b>%{hovertext}</b><br><br>GEO=Alberta<br>YEAR=2006<br>Property=%{x}<br>Person=%{marker.size}<extra></extra>",
           "hovertext": [
            "Alberta"
           ],
           "legendgroup": "Alberta",
           "marker": {
            "color": "#636efa",
            "size": [
             1548
            ],
            "sizemode": "area",
            "sizeref": 2.4469444444444446,
            "symbol": "circle"
           },
           "mode": "markers",
           "name": "Alberta",
           "orientation": "v",
           "showlegend": true,
           "type": "scatter",
           "x": [
            3624
           ],
           "xaxis": "x",
           "y": [
            1548
           ],
           "yaxis": "y"
          },
          {
           "hovertemplate": "<b>%{hovertext}</b><br><br>GEO=British Columbia<br>YEAR=2006<br>Property=%{x}<br>Person=%{marker.size}<extra></extra>",
           "hovertext": [
            "British Columbia"
           ],
           "legendgroup": "British Columbia",
           "marker": {
            "color": "#EF553B",
            "size": [
             1110
            ],
            "sizemode": "area",
            "sizeref": 2.4469444444444446,
            "symbol": "circle"
           },
           "mode": "markers",
           "name": "British Columbia",
           "orientation": "v",
           "showlegend": true,
           "type": "scatter",
           "x": [
            1400
           ],
           "xaxis": "x",
           "y": [
            1110
           ],
           "yaxis": "y"
          },
          {
           "hovertemplate": "<b>%{hovertext}</b><br><br>GEO=Manitoba<br>YEAR=2006<br>Property=%{x}<br>Person=%{marker.size}<extra></extra>",
           "hovertext": [
            "Manitoba"
           ],
           "legendgroup": "Manitoba",
           "marker": {
            "color": "#00cc96",
            "size": [
             631
            ],
            "sizemode": "area",
            "sizeref": 2.4469444444444446,
            "symbol": "circle"
           },
           "mode": "markers",
           "name": "Manitoba",
           "orientation": "v",
           "showlegend": true,
           "type": "scatter",
           "x": [
            1092
           ],
           "xaxis": "x",
           "y": [
            631
           ],
           "yaxis": "y"
          },
          {
           "hovertemplate": "<b>%{hovertext}</b><br><br>GEO=New Brunswick<br>YEAR=2006<br>Property=%{x}<br>Person=%{marker.size}<extra></extra>",
           "hovertext": [
            "New Brunswick"
           ],
           "legendgroup": "New Brunswick",
           "marker": {
            "color": "#ab63fa",
            "size": [
             278
            ],
            "sizemode": "area",
            "sizeref": 2.4469444444444446,
            "symbol": "circle"
           },
           "mode": "markers",
           "name": "New Brunswick",
           "orientation": "v",
           "showlegend": true,
           "type": "scatter",
           "x": [
            460
           ],
           "xaxis": "x",
           "y": [
            278
           ],
           "yaxis": "y"
          },
          {
           "hovertemplate": "<b>%{hovertext}</b><br><br>GEO=Newfoundland and Labrador<br>YEAR=2006<br>Property=%{x}<br>Person=%{marker.size}<extra></extra>",
           "hovertext": [
            "Newfoundland and Labrador"
           ],
           "legendgroup": "Newfoundland and Labrador",
           "marker": {
            "color": "#FFA15A",
            "size": [
             169
            ],
            "sizemode": "area",
            "sizeref": 2.4469444444444446,
            "symbol": "circle"
           },
           "mode": "markers",
           "name": "Newfoundland and Labrador",
           "orientation": "v",
           "showlegend": true,
           "type": "scatter",
           "x": [
            381
           ],
           "xaxis": "x",
           "y": [
            169
           ],
           "yaxis": "y"
          },
          {
           "hovertemplate": "<b>%{hovertext}</b><br><br>GEO=Northwest Territories<br>YEAR=2006<br>Property=%{x}<br>Person=%{marker.size}<extra></extra>",
           "hovertext": [
            "Northwest Territories"
           ],
           "legendgroup": "Northwest Territories",
           "marker": {
            "color": "#19d3f3",
            "size": [
             47
            ],
            "sizemode": "area",
            "sizeref": 2.4469444444444446,
            "symbol": "circle"
           },
           "mode": "markers",
           "name": "Northwest Territories",
           "orientation": "v",
           "showlegend": true,
           "type": "scatter",
           "x": [
            126
           ],
           "xaxis": "x",
           "y": [
            47
           ],
           "yaxis": "y"
          },
          {
           "hovertemplate": "<b>%{hovertext}</b><br><br>GEO=Nova Scotia<br>YEAR=2006<br>Property=%{x}<br>Person=%{marker.size}<extra></extra>",
           "hovertext": [
            "Nova Scotia"
           ],
           "legendgroup": "Nova Scotia",
           "marker": {
            "color": "#FF6692",
            "size": [
             474
            ],
            "sizemode": "area",
            "sizeref": 2.4469444444444446,
            "symbol": "circle"
           },
           "mode": "markers",
           "name": "Nova Scotia",
           "orientation": "v",
           "showlegend": true,
           "type": "scatter",
           "x": [
            801
           ],
           "xaxis": "x",
           "y": [
            474
           ],
           "yaxis": "y"
          },
          {
           "hovertemplate": "<b>%{hovertext}</b><br><br>GEO=Nunavut<br>YEAR=2006<br>Property=%{x}<br>Person=%{marker.size}<extra></extra>",
           "hovertext": [
            "Nunavut"
           ],
           "legendgroup": "Nunavut",
           "marker": {
            "color": "#B6E880",
            "size": [
             43
            ],
            "sizemode": "area",
            "sizeref": 2.4469444444444446,
            "symbol": "circle"
           },
           "mode": "markers",
           "name": "Nunavut",
           "orientation": "v",
           "showlegend": true,
           "type": "scatter",
           "x": [
            95
           ],
           "xaxis": "x",
           "y": [
            43
           ],
           "yaxis": "y"
          },
          {
           "hovertemplate": "<b>%{hovertext}</b><br><br>GEO=Ontario<br>YEAR=2006<br>Property=%{x}<br>Person=%{marker.size}<extra></extra>",
           "hovertext": [
            "Ontario"
           ],
           "legendgroup": "Ontario",
           "marker": {
            "color": "#FF97FF",
            "size": [
             6670
            ],
            "sizemode": "area",
            "sizeref": 2.4469444444444446,
            "symbol": "circle"
           },
           "mode": "markers",
           "name": "Ontario",
           "orientation": "v",
           "showlegend": true,
           "type": "scatter",
           "x": [
            9531
           ],
           "xaxis": "x",
           "y": [
            6670
           ],
           "yaxis": "y"
          },
          {
           "hovertemplate": "<b>%{hovertext}</b><br><br>GEO=Prince Edward Island<br>YEAR=2006<br>Property=%{x}<br>Person=%{marker.size}<extra></extra>",
           "hovertext": [
            "Prince Edward Island"
           ],
           "legendgroup": "Prince Edward Island",
           "marker": {
            "color": "#FECB52",
            "size": [
             51
            ],
            "sizemode": "area",
            "sizeref": 2.4469444444444446,
            "symbol": "circle"
           },
           "mode": "markers",
           "name": "Prince Edward Island",
           "orientation": "v",
           "showlegend": true,
           "type": "scatter",
           "x": [
            124
           ],
           "xaxis": "x",
           "y": [
            51
           ],
           "yaxis": "y"
          },
          {
           "hovertemplate": "<b>%{hovertext}</b><br><br>GEO=Quebec<br>YEAR=2006<br>Property=%{x}<br>Person=%{marker.size}<extra></extra>",
           "hovertext": [
            "Quebec"
           ],
           "legendgroup": "Quebec",
           "marker": {
            "color": "#636efa",
            "size": [
             2516
            ],
            "sizemode": "area",
            "sizeref": 2.4469444444444446,
            "symbol": "circle"
           },
           "mode": "markers",
           "name": "Quebec",
           "orientation": "v",
           "showlegend": true,
           "type": "scatter",
           "x": [
            2076
           ],
           "xaxis": "x",
           "y": [
            2516
           ],
           "yaxis": "y"
          },
          {
           "hovertemplate": "<b>%{hovertext}</b><br><br>GEO=Saskatchewan<br>YEAR=2006<br>Property=%{x}<br>Person=%{marker.size}<extra></extra>",
           "hovertext": [
            "Saskatchewan"
           ],
           "legendgroup": "Saskatchewan",
           "marker": {
            "color": "#EF553B",
            "size": [
             965
            ],
            "sizemode": "area",
            "sizeref": 2.4469444444444446,
            "symbol": "circle"
           },
           "mode": "markers",
           "name": "Saskatchewan",
           "orientation": "v",
           "showlegend": true,
           "type": "scatter",
           "x": [
            2466
           ],
           "xaxis": "x",
           "y": [
            965
           ],
           "yaxis": "y"
          },
          {
           "hovertemplate": "<b>%{hovertext}</b><br><br>GEO=Yukon<br>YEAR=2006<br>Property=%{x}<br>Person=%{marker.size}<extra></extra>",
           "hovertext": [
            "Yukon"
           ],
           "legendgroup": "Yukon",
           "marker": {
            "color": "#00cc96",
            "size": [
             21
            ],
            "sizemode": "area",
            "sizeref": 2.4469444444444446,
            "symbol": "circle"
           },
           "mode": "markers",
           "name": "Yukon",
           "orientation": "v",
           "showlegend": true,
           "type": "scatter",
           "x": [
            36
           ],
           "xaxis": "x",
           "y": [
            21
           ],
           "yaxis": "y"
          }
         ],
         "name": "2006"
        },
        {
         "data": [
          {
           "hovertemplate": "<b>%{hovertext}</b><br><br>GEO=Alberta<br>YEAR=2007<br>Property=%{x}<br>Person=%{marker.size}<extra></extra>",
           "hovertext": [
            "Alberta"
           ],
           "legendgroup": "Alberta",
           "marker": {
            "color": "#636efa",
            "size": [
             1587
            ],
            "sizemode": "area",
            "sizeref": 2.4469444444444446,
            "symbol": "circle"
           },
           "mode": "markers",
           "name": "Alberta",
           "orientation": "v",
           "showlegend": true,
           "type": "scatter",
           "x": [
            3852
           ],
           "xaxis": "x",
           "y": [
            1587
           ],
           "yaxis": "y"
          },
          {
           "hovertemplate": "<b>%{hovertext}</b><br><br>GEO=British Columbia<br>YEAR=2007<br>Property=%{x}<br>Person=%{marker.size}<extra></extra>",
           "hovertext": [
            "British Columbia"
           ],
           "legendgroup": "British Columbia",
           "marker": {
            "color": "#EF553B",
            "size": [
             1178
            ],
            "sizemode": "area",
            "sizeref": 2.4469444444444446,
            "symbol": "circle"
           },
           "mode": "markers",
           "name": "British Columbia",
           "orientation": "v",
           "showlegend": true,
           "type": "scatter",
           "x": [
            1420
           ],
           "xaxis": "x",
           "y": [
            1178
           ],
           "yaxis": "y"
          },
          {
           "hovertemplate": "<b>%{hovertext}</b><br><br>GEO=Manitoba<br>YEAR=2007<br>Property=%{x}<br>Person=%{marker.size}<extra></extra>",
           "hovertext": [
            "Manitoba"
           ],
           "legendgroup": "Manitoba",
           "marker": {
            "color": "#00cc96",
            "size": [
             683
            ],
            "sizemode": "area",
            "sizeref": 2.4469444444444446,
            "symbol": "circle"
           },
           "mode": "markers",
           "name": "Manitoba",
           "orientation": "v",
           "showlegend": true,
           "type": "scatter",
           "x": [
            1061
           ],
           "xaxis": "x",
           "y": [
            683
           ],
           "yaxis": "y"
          },
          {
           "hovertemplate": "<b>%{hovertext}</b><br><br>GEO=New Brunswick<br>YEAR=2007<br>Property=%{x}<br>Person=%{marker.size}<extra></extra>",
           "hovertext": [
            "New Brunswick"
           ],
           "legendgroup": "New Brunswick",
           "marker": {
            "color": "#ab63fa",
            "size": [
             272
            ],
            "sizemode": "area",
            "sizeref": 2.4469444444444446,
            "symbol": "circle"
           },
           "mode": "markers",
           "name": "New Brunswick",
           "orientation": "v",
           "showlegend": true,
           "type": "scatter",
           "x": [
            523
           ],
           "xaxis": "x",
           "y": [
            272
           ],
           "yaxis": "y"
          },
          {
           "hovertemplate": "<b>%{hovertext}</b><br><br>GEO=Newfoundland and Labrador<br>YEAR=2007<br>Property=%{x}<br>Person=%{marker.size}<extra></extra>",
           "hovertext": [
            "Newfoundland and Labrador"
           ],
           "legendgroup": "Newfoundland and Labrador",
           "marker": {
            "color": "#FFA15A",
            "size": [
             248
            ],
            "sizemode": "area",
            "sizeref": 2.4469444444444446,
            "symbol": "circle"
           },
           "mode": "markers",
           "name": "Newfoundland and Labrador",
           "orientation": "v",
           "showlegend": true,
           "type": "scatter",
           "x": [
            402
           ],
           "xaxis": "x",
           "y": [
            248
           ],
           "yaxis": "y"
          },
          {
           "hovertemplate": "<b>%{hovertext}</b><br><br>GEO=Northwest Territories<br>YEAR=2007<br>Property=%{x}<br>Person=%{marker.size}<extra></extra>",
           "hovertext": [
            "Northwest Territories"
           ],
           "legendgroup": "Northwest Territories",
           "marker": {
            "color": "#19d3f3",
            "size": [
             62
            ],
            "sizemode": "area",
            "sizeref": 2.4469444444444446,
            "symbol": "circle"
           },
           "mode": "markers",
           "name": "Northwest Territories",
           "orientation": "v",
           "showlegend": true,
           "type": "scatter",
           "x": [
            126
           ],
           "xaxis": "x",
           "y": [
            62
           ],
           "yaxis": "y"
          },
          {
           "hovertemplate": "<b>%{hovertext}</b><br><br>GEO=Nova Scotia<br>YEAR=2007<br>Property=%{x}<br>Person=%{marker.size}<extra></extra>",
           "hovertext": [
            "Nova Scotia"
           ],
           "legendgroup": "Nova Scotia",
           "marker": {
            "color": "#FF6692",
            "size": [
             543
            ],
            "sizemode": "area",
            "sizeref": 2.4469444444444446,
            "symbol": "circle"
           },
           "mode": "markers",
           "name": "Nova Scotia",
           "orientation": "v",
           "showlegend": true,
           "type": "scatter",
           "x": [
            810
           ],
           "xaxis": "x",
           "y": [
            543
           ],
           "yaxis": "y"
          },
          {
           "hovertemplate": "<b>%{hovertext}</b><br><br>GEO=Nunavut<br>YEAR=2007<br>Property=%{x}<br>Person=%{marker.size}<extra></extra>",
           "hovertext": [
            "Nunavut"
           ],
           "legendgroup": "Nunavut",
           "marker": {
            "color": "#B6E880",
            "size": [
             44
            ],
            "sizemode": "area",
            "sizeref": 2.4469444444444446,
            "symbol": "circle"
           },
           "mode": "markers",
           "name": "Nunavut",
           "orientation": "v",
           "showlegend": true,
           "type": "scatter",
           "x": [
            125
           ],
           "xaxis": "x",
           "y": [
            44
           ],
           "yaxis": "y"
          },
          {
           "hovertemplate": "<b>%{hovertext}</b><br><br>GEO=Ontario<br>YEAR=2007<br>Property=%{x}<br>Person=%{marker.size}<extra></extra>",
           "hovertext": [
            "Ontario"
           ],
           "legendgroup": "Ontario",
           "marker": {
            "color": "#FF97FF",
            "size": [
             6826
            ],
            "sizemode": "area",
            "sizeref": 2.4469444444444446,
            "symbol": "circle"
           },
           "mode": "markers",
           "name": "Ontario",
           "orientation": "v",
           "showlegend": true,
           "type": "scatter",
           "x": [
            9294
           ],
           "xaxis": "x",
           "y": [
            6826
           ],
           "yaxis": "y"
          },
          {
           "hovertemplate": "<b>%{hovertext}</b><br><br>GEO=Prince Edward Island<br>YEAR=2007<br>Property=%{x}<br>Person=%{marker.size}<extra></extra>",
           "hovertext": [
            "Prince Edward Island"
           ],
           "legendgroup": "Prince Edward Island",
           "marker": {
            "color": "#FECB52",
            "size": [
             64
            ],
            "sizemode": "area",
            "sizeref": 2.4469444444444446,
            "symbol": "circle"
           },
           "mode": "markers",
           "name": "Prince Edward Island",
           "orientation": "v",
           "showlegend": true,
           "type": "scatter",
           "x": [
            92
           ],
           "xaxis": "x",
           "y": [
            64
           ],
           "yaxis": "y"
          },
          {
           "hovertemplate": "<b>%{hovertext}</b><br><br>GEO=Quebec<br>YEAR=2007<br>Property=%{x}<br>Person=%{marker.size}<extra></extra>",
           "hovertext": [
            "Quebec"
           ],
           "legendgroup": "Quebec",
           "marker": {
            "color": "#636efa",
            "size": [
             2567
            ],
            "sizemode": "area",
            "sizeref": 2.4469444444444446,
            "symbol": "circle"
           },
           "mode": "markers",
           "name": "Quebec",
           "orientation": "v",
           "showlegend": true,
           "type": "scatter",
           "x": [
            2044
           ],
           "xaxis": "x",
           "y": [
            2567
           ],
           "yaxis": "y"
          },
          {
           "hovertemplate": "<b>%{hovertext}</b><br><br>GEO=Saskatchewan<br>YEAR=2007<br>Property=%{x}<br>Person=%{marker.size}<extra></extra>",
           "hovertext": [
            "Saskatchewan"
           ],
           "legendgroup": "Saskatchewan",
           "marker": {
            "color": "#EF553B",
            "size": [
             1004
            ],
            "sizemode": "area",
            "sizeref": 2.4469444444444446,
            "symbol": "circle"
           },
           "mode": "markers",
           "name": "Saskatchewan",
           "orientation": "v",
           "showlegend": true,
           "type": "scatter",
           "x": [
            2477
           ],
           "xaxis": "x",
           "y": [
            1004
           ],
           "yaxis": "y"
          },
          {
           "hovertemplate": "<b>%{hovertext}</b><br><br>GEO=Yukon<br>YEAR=2007<br>Property=%{x}<br>Person=%{marker.size}<extra></extra>",
           "hovertext": [
            "Yukon"
           ],
           "legendgroup": "Yukon",
           "marker": {
            "color": "#00cc96",
            "size": [
             32
            ],
            "sizemode": "area",
            "sizeref": 2.4469444444444446,
            "symbol": "circle"
           },
           "mode": "markers",
           "name": "Yukon",
           "orientation": "v",
           "showlegend": true,
           "type": "scatter",
           "x": [
            58
           ],
           "xaxis": "x",
           "y": [
            32
           ],
           "yaxis": "y"
          }
         ],
         "name": "2007"
        },
        {
         "data": [
          {
           "hovertemplate": "<b>%{hovertext}</b><br><br>GEO=Alberta<br>YEAR=2008<br>Property=%{x}<br>Person=%{marker.size}<extra></extra>",
           "hovertext": [
            "Alberta"
           ],
           "legendgroup": "Alberta",
           "marker": {
            "color": "#636efa",
            "size": [
             1633
            ],
            "sizemode": "area",
            "sizeref": 2.4469444444444446,
            "symbol": "circle"
           },
           "mode": "markers",
           "name": "Alberta",
           "orientation": "v",
           "showlegend": true,
           "type": "scatter",
           "x": [
            3988
           ],
           "xaxis": "x",
           "y": [
            1633
           ],
           "yaxis": "y"
          },
          {
           "hovertemplate": "<b>%{hovertext}</b><br><br>GEO=British Columbia<br>YEAR=2008<br>Property=%{x}<br>Person=%{marker.size}<extra></extra>",
           "hovertext": [
            "British Columbia"
           ],
           "legendgroup": "British Columbia",
           "marker": {
            "color": "#EF553B",
            "size": [
             1184
            ],
            "sizemode": "area",
            "sizeref": 2.4469444444444446,
            "symbol": "circle"
           },
           "mode": "markers",
           "name": "British Columbia",
           "orientation": "v",
           "showlegend": true,
           "type": "scatter",
           "x": [
            1262
           ],
           "xaxis": "x",
           "y": [
            1184
           ],
           "yaxis": "y"
          },
          {
           "hovertemplate": "<b>%{hovertext}</b><br><br>GEO=Manitoba<br>YEAR=2008<br>Property=%{x}<br>Person=%{marker.size}<extra></extra>",
           "hovertext": [
            "Manitoba"
           ],
           "legendgroup": "Manitoba",
           "marker": {
            "color": "#00cc96",
            "size": [
             752
            ],
            "sizemode": "area",
            "sizeref": 2.4469444444444446,
            "symbol": "circle"
           },
           "mode": "markers",
           "name": "Manitoba",
           "orientation": "v",
           "showlegend": true,
           "type": "scatter",
           "x": [
            1019
           ],
           "xaxis": "x",
           "y": [
            752
           ],
           "yaxis": "y"
          },
          {
           "hovertemplate": "<b>%{hovertext}</b><br><br>GEO=New Brunswick<br>YEAR=2008<br>Property=%{x}<br>Person=%{marker.size}<extra></extra>",
           "hovertext": [
            "New Brunswick"
           ],
           "legendgroup": "New Brunswick",
           "marker": {
            "color": "#ab63fa",
            "size": [
             295
            ],
            "sizemode": "area",
            "sizeref": 2.4469444444444446,
            "symbol": "circle"
           },
           "mode": "markers",
           "name": "New Brunswick",
           "orientation": "v",
           "showlegend": true,
           "type": "scatter",
           "x": [
            505
           ],
           "xaxis": "x",
           "y": [
            295
           ],
           "yaxis": "y"
          },
          {
           "hovertemplate": "<b>%{hovertext}</b><br><br>GEO=Newfoundland and Labrador<br>YEAR=2008<br>Property=%{x}<br>Person=%{marker.size}<extra></extra>",
           "hovertext": [
            "Newfoundland and Labrador"
           ],
           "legendgroup": "Newfoundland and Labrador",
           "marker": {
            "color": "#FFA15A",
            "size": [
             212
            ],
            "sizemode": "area",
            "sizeref": 2.4469444444444446,
            "symbol": "circle"
           },
           "mode": "markers",
           "name": "Newfoundland and Labrador",
           "orientation": "v",
           "showlegend": true,
           "type": "scatter",
           "x": [
            338
           ],
           "xaxis": "x",
           "y": [
            212
           ],
           "yaxis": "y"
          },
          {
           "hovertemplate": "<b>%{hovertext}</b><br><br>GEO=Northwest Territories<br>YEAR=2008<br>Property=%{x}<br>Person=%{marker.size}<extra></extra>",
           "hovertext": [
            "Northwest Territories"
           ],
           "legendgroup": "Northwest Territories",
           "marker": {
            "color": "#19d3f3",
            "size": [
             53
            ],
            "sizemode": "area",
            "sizeref": 2.4469444444444446,
            "symbol": "circle"
           },
           "mode": "markers",
           "name": "Northwest Territories",
           "orientation": "v",
           "showlegend": true,
           "type": "scatter",
           "x": [
            98
           ],
           "xaxis": "x",
           "y": [
            53
           ],
           "yaxis": "y"
          },
          {
           "hovertemplate": "<b>%{hovertext}</b><br><br>GEO=Nova Scotia<br>YEAR=2008<br>Property=%{x}<br>Person=%{marker.size}<extra></extra>",
           "hovertext": [
            "Nova Scotia"
           ],
           "legendgroup": "Nova Scotia",
           "marker": {
            "color": "#FF6692",
            "size": [
             489
            ],
            "sizemode": "area",
            "sizeref": 2.4469444444444446,
            "symbol": "circle"
           },
           "mode": "markers",
           "name": "Nova Scotia",
           "orientation": "v",
           "showlegend": true,
           "type": "scatter",
           "x": [
            684
           ],
           "xaxis": "x",
           "y": [
            489
           ],
           "yaxis": "y"
          },
          {
           "hovertemplate": "<b>%{hovertext}</b><br><br>GEO=Nunavut<br>YEAR=2008<br>Property=%{x}<br>Person=%{marker.size}<extra></extra>",
           "hovertext": [
            "Nunavut"
           ],
           "legendgroup": "Nunavut",
           "marker": {
            "color": "#B6E880",
            "size": [
             48
            ],
            "sizemode": "area",
            "sizeref": 2.4469444444444446,
            "symbol": "circle"
           },
           "mode": "markers",
           "name": "Nunavut",
           "orientation": "v",
           "showlegend": true,
           "type": "scatter",
           "x": [
            112
           ],
           "xaxis": "x",
           "y": [
            48
           ],
           "yaxis": "y"
          },
          {
           "hovertemplate": "<b>%{hovertext}</b><br><br>GEO=Ontario<br>YEAR=2008<br>Property=%{x}<br>Person=%{marker.size}<extra></extra>",
           "hovertext": [
            "Ontario"
           ],
           "legendgroup": "Ontario",
           "marker": {
            "color": "#FF97FF",
            "size": [
             6993
            ],
            "sizemode": "area",
            "sizeref": 2.4469444444444446,
            "symbol": "circle"
           },
           "mode": "markers",
           "name": "Ontario",
           "orientation": "v",
           "showlegend": true,
           "type": "scatter",
           "x": [
            9114
           ],
           "xaxis": "x",
           "y": [
            6993
           ],
           "yaxis": "y"
          },
          {
           "hovertemplate": "<b>%{hovertext}</b><br><br>GEO=Prince Edward Island<br>YEAR=2008<br>Property=%{x}<br>Person=%{marker.size}<extra></extra>",
           "hovertext": [
            "Prince Edward Island"
           ],
           "legendgroup": "Prince Edward Island",
           "marker": {
            "color": "#FECB52",
            "size": [
             39
            ],
            "sizemode": "area",
            "sizeref": 2.4469444444444446,
            "symbol": "circle"
           },
           "mode": "markers",
           "name": "Prince Edward Island",
           "orientation": "v",
           "showlegend": true,
           "type": "scatter",
           "x": [
            82
           ],
           "xaxis": "x",
           "y": [
            39
           ],
           "yaxis": "y"
          },
          {
           "hovertemplate": "<b>%{hovertext}</b><br><br>GEO=Quebec<br>YEAR=2008<br>Property=%{x}<br>Person=%{marker.size}<extra></extra>",
           "hovertext": [
            "Quebec"
           ],
           "legendgroup": "Quebec",
           "marker": {
            "color": "#636efa",
            "size": [
             2666
            ],
            "sizemode": "area",
            "sizeref": 2.4469444444444446,
            "symbol": "circle"
           },
           "mode": "markers",
           "name": "Quebec",
           "orientation": "v",
           "showlegend": true,
           "type": "scatter",
           "x": [
            2282
           ],
           "xaxis": "x",
           "y": [
            2666
           ],
           "yaxis": "y"
          },
          {
           "hovertemplate": "<b>%{hovertext}</b><br><br>GEO=Saskatchewan<br>YEAR=2008<br>Property=%{x}<br>Person=%{marker.size}<extra></extra>",
           "hovertext": [
            "Saskatchewan"
           ],
           "legendgroup": "Saskatchewan",
           "marker": {
            "color": "#EF553B",
            "size": [
             970
            ],
            "sizemode": "area",
            "sizeref": 2.4469444444444446,
            "symbol": "circle"
           },
           "mode": "markers",
           "name": "Saskatchewan",
           "orientation": "v",
           "showlegend": true,
           "type": "scatter",
           "x": [
            2390
           ],
           "xaxis": "x",
           "y": [
            970
           ],
           "yaxis": "y"
          },
          {
           "hovertemplate": "<b>%{hovertext}</b><br><br>GEO=Yukon<br>YEAR=2008<br>Property=%{x}<br>Person=%{marker.size}<extra></extra>",
           "hovertext": [
            "Yukon"
           ],
           "legendgroup": "Yukon",
           "marker": {
            "color": "#00cc96",
            "size": [
             23
            ],
            "sizemode": "area",
            "sizeref": 2.4469444444444446,
            "symbol": "circle"
           },
           "mode": "markers",
           "name": "Yukon",
           "orientation": "v",
           "showlegend": true,
           "type": "scatter",
           "x": [
            56
           ],
           "xaxis": "x",
           "y": [
            23
           ],
           "yaxis": "y"
          }
         ],
         "name": "2008"
        },
        {
         "data": [
          {
           "hovertemplate": "<b>%{hovertext}</b><br><br>GEO=Alberta<br>YEAR=2009<br>Property=%{x}<br>Person=%{marker.size}<extra></extra>",
           "hovertext": [
            "Alberta"
           ],
           "legendgroup": "Alberta",
           "marker": {
            "color": "#636efa",
            "size": [
             1621
            ],
            "sizemode": "area",
            "sizeref": 2.4469444444444446,
            "symbol": "circle"
           },
           "mode": "markers",
           "name": "Alberta",
           "orientation": "v",
           "showlegend": true,
           "type": "scatter",
           "x": [
            3861
           ],
           "xaxis": "x",
           "y": [
            1621
           ],
           "yaxis": "y"
          },
          {
           "hovertemplate": "<b>%{hovertext}</b><br><br>GEO=British Columbia<br>YEAR=2009<br>Property=%{x}<br>Person=%{marker.size}<extra></extra>",
           "hovertext": [
            "British Columbia"
           ],
           "legendgroup": "British Columbia",
           "marker": {
            "color": "#EF553B",
            "size": [
             1025
            ],
            "sizemode": "area",
            "sizeref": 2.4469444444444446,
            "symbol": "circle"
           },
           "mode": "markers",
           "name": "British Columbia",
           "orientation": "v",
           "showlegend": true,
           "type": "scatter",
           "x": [
            1266
           ],
           "xaxis": "x",
           "y": [
            1025
           ],
           "yaxis": "y"
          },
          {
           "hovertemplate": "<b>%{hovertext}</b><br><br>GEO=Manitoba<br>YEAR=2009<br>Property=%{x}<br>Person=%{marker.size}<extra></extra>",
           "hovertext": [
            "Manitoba"
           ],
           "legendgroup": "Manitoba",
           "marker": {
            "color": "#00cc96",
            "size": [
             727
            ],
            "sizemode": "area",
            "sizeref": 2.4469444444444446,
            "symbol": "circle"
           },
           "mode": "markers",
           "name": "Manitoba",
           "orientation": "v",
           "showlegend": true,
           "type": "scatter",
           "x": [
            988
           ],
           "xaxis": "x",
           "y": [
            727
           ],
           "yaxis": "y"
          },
          {
           "hovertemplate": "<b>%{hovertext}</b><br><br>GEO=New Brunswick<br>YEAR=2009<br>Property=%{x}<br>Person=%{marker.size}<extra></extra>",
           "hovertext": [
            "New Brunswick"
           ],
           "legendgroup": "New Brunswick",
           "marker": {
            "color": "#ab63fa",
            "size": [
             343
            ],
            "sizemode": "area",
            "sizeref": 2.4469444444444446,
            "symbol": "circle"
           },
           "mode": "markers",
           "name": "New Brunswick",
           "orientation": "v",
           "showlegend": true,
           "type": "scatter",
           "x": [
            568
           ],
           "xaxis": "x",
           "y": [
            343
           ],
           "yaxis": "y"
          },
          {
           "hovertemplate": "<b>%{hovertext}</b><br><br>GEO=Newfoundland and Labrador<br>YEAR=2009<br>Property=%{x}<br>Person=%{marker.size}<extra></extra>",
           "hovertext": [
            "Newfoundland and Labrador"
           ],
           "legendgroup": "Newfoundland and Labrador",
           "marker": {
            "color": "#FFA15A",
            "size": [
             195
            ],
            "sizemode": "area",
            "sizeref": 2.4469444444444446,
            "symbol": "circle"
           },
           "mode": "markers",
           "name": "Newfoundland and Labrador",
           "orientation": "v",
           "showlegend": true,
           "type": "scatter",
           "x": [
            276
           ],
           "xaxis": "x",
           "y": [
            195
           ],
           "yaxis": "y"
          },
          {
           "hovertemplate": "<b>%{hovertext}</b><br><br>GEO=Northwest Territories<br>YEAR=2009<br>Property=%{x}<br>Person=%{marker.size}<extra></extra>",
           "hovertext": [
            "Northwest Territories"
           ],
           "legendgroup": "Northwest Territories",
           "marker": {
            "color": "#19d3f3",
            "size": [
             56
            ],
            "sizemode": "area",
            "sizeref": 2.4469444444444446,
            "symbol": "circle"
           },
           "mode": "markers",
           "name": "Northwest Territories",
           "orientation": "v",
           "showlegend": true,
           "type": "scatter",
           "x": [
            109
           ],
           "xaxis": "x",
           "y": [
            56
           ],
           "yaxis": "y"
          },
          {
           "hovertemplate": "<b>%{hovertext}</b><br><br>GEO=Nova Scotia<br>YEAR=2009<br>Property=%{x}<br>Person=%{marker.size}<extra></extra>",
           "hovertext": [
            "Nova Scotia"
           ],
           "legendgroup": "Nova Scotia",
           "marker": {
            "color": "#FF6692",
            "size": [
             450
            ],
            "sizemode": "area",
            "sizeref": 2.4469444444444446,
            "symbol": "circle"
           },
           "mode": "markers",
           "name": "Nova Scotia",
           "orientation": "v",
           "showlegend": true,
           "type": "scatter",
           "x": [
            607
           ],
           "xaxis": "x",
           "y": [
            450
           ],
           "yaxis": "y"
          },
          {
           "hovertemplate": "<b>%{hovertext}</b><br><br>GEO=Nunavut<br>YEAR=2009<br>Property=%{x}<br>Person=%{marker.size}<extra></extra>",
           "hovertext": [
            "Nunavut"
           ],
           "legendgroup": "Nunavut",
           "marker": {
            "color": "#B6E880",
            "size": [
             52
            ],
            "sizemode": "area",
            "sizeref": 2.4469444444444446,
            "symbol": "circle"
           },
           "mode": "markers",
           "name": "Nunavut",
           "orientation": "v",
           "showlegend": true,
           "type": "scatter",
           "x": [
            102
           ],
           "xaxis": "x",
           "y": [
            52
           ],
           "yaxis": "y"
          },
          {
           "hovertemplate": "<b>%{hovertext}</b><br><br>GEO=Ontario<br>YEAR=2009<br>Property=%{x}<br>Person=%{marker.size}<extra></extra>",
           "hovertext": [
            "Ontario"
           ],
           "legendgroup": "Ontario",
           "marker": {
            "color": "#FF97FF",
            "size": [
             6555
            ],
            "sizemode": "area",
            "sizeref": 2.4469444444444446,
            "symbol": "circle"
           },
           "mode": "markers",
           "name": "Ontario",
           "orientation": "v",
           "showlegend": true,
           "type": "scatter",
           "x": [
            9016
           ],
           "xaxis": "x",
           "y": [
            6555
           ],
           "yaxis": "y"
          },
          {
           "hovertemplate": "<b>%{hovertext}</b><br><br>GEO=Prince Edward Island<br>YEAR=2009<br>Property=%{x}<br>Person=%{marker.size}<extra></extra>",
           "hovertext": [
            "Prince Edward Island"
           ],
           "legendgroup": "Prince Edward Island",
           "marker": {
            "color": "#FECB52",
            "size": [
             44
            ],
            "sizemode": "area",
            "sizeref": 2.4469444444444446,
            "symbol": "circle"
           },
           "mode": "markers",
           "name": "Prince Edward Island",
           "orientation": "v",
           "showlegend": true,
           "type": "scatter",
           "x": [
            104
           ],
           "xaxis": "x",
           "y": [
            44
           ],
           "yaxis": "y"
          },
          {
           "hovertemplate": "<b>%{hovertext}</b><br><br>GEO=Quebec<br>YEAR=2009<br>Property=%{x}<br>Person=%{marker.size}<extra></extra>",
           "hovertext": [
            "Quebec"
           ],
           "legendgroup": "Quebec",
           "marker": {
            "color": "#636efa",
            "size": [
             2633
            ],
            "sizemode": "area",
            "sizeref": 2.4469444444444446,
            "symbol": "circle"
           },
           "mode": "markers",
           "name": "Quebec",
           "orientation": "v",
           "showlegend": true,
           "type": "scatter",
           "x": [
            2470
           ],
           "xaxis": "x",
           "y": [
            2633
           ],
           "yaxis": "y"
          },
          {
           "hovertemplate": "<b>%{hovertext}</b><br><br>GEO=Saskatchewan<br>YEAR=2009<br>Property=%{x}<br>Person=%{marker.size}<extra></extra>",
           "hovertext": [
            "Saskatchewan"
           ],
           "legendgroup": "Saskatchewan",
           "marker": {
            "color": "#EF553B",
            "size": [
             868
            ],
            "sizemode": "area",
            "sizeref": 2.4469444444444446,
            "symbol": "circle"
           },
           "mode": "markers",
           "name": "Saskatchewan",
           "orientation": "v",
           "showlegend": true,
           "type": "scatter",
           "x": [
            2560
           ],
           "xaxis": "x",
           "y": [
            868
           ],
           "yaxis": "y"
          },
          {
           "hovertemplate": "<b>%{hovertext}</b><br><br>GEO=Yukon<br>YEAR=2009<br>Property=%{x}<br>Person=%{marker.size}<extra></extra>",
           "hovertext": [
            "Yukon"
           ],
           "legendgroup": "Yukon",
           "marker": {
            "color": "#00cc96",
            "size": [
             28
            ],
            "sizemode": "area",
            "sizeref": 2.4469444444444446,
            "symbol": "circle"
           },
           "mode": "markers",
           "name": "Yukon",
           "orientation": "v",
           "showlegend": true,
           "type": "scatter",
           "x": [
            51
           ],
           "xaxis": "x",
           "y": [
            28
           ],
           "yaxis": "y"
          }
         ],
         "name": "2009"
        },
        {
         "data": [
          {
           "hovertemplate": "<b>%{hovertext}</b><br><br>GEO=Alberta<br>YEAR=2010<br>Property=%{x}<br>Person=%{marker.size}<extra></extra>",
           "hovertext": [
            "Alberta"
           ],
           "legendgroup": "Alberta",
           "marker": {
            "color": "#636efa",
            "size": [
             1458
            ],
            "sizemode": "area",
            "sizeref": 2.4469444444444446,
            "symbol": "circle"
           },
           "mode": "markers",
           "name": "Alberta",
           "orientation": "v",
           "showlegend": true,
           "type": "scatter",
           "x": [
            3333
           ],
           "xaxis": "x",
           "y": [
            1458
           ],
           "yaxis": "y"
          },
          {
           "hovertemplate": "<b>%{hovertext}</b><br><br>GEO=British Columbia<br>YEAR=2010<br>Property=%{x}<br>Person=%{marker.size}<extra></extra>",
           "hovertext": [
            "British Columbia"
           ],
           "legendgroup": "British Columbia",
           "marker": {
            "color": "#EF553B",
            "size": [
             1018
            ],
            "sizemode": "area",
            "sizeref": 2.4469444444444446,
            "symbol": "circle"
           },
           "mode": "markers",
           "name": "British Columbia",
           "orientation": "v",
           "showlegend": true,
           "type": "scatter",
           "x": [
            1162
           ],
           "xaxis": "x",
           "y": [
            1018
           ],
           "yaxis": "y"
          },
          {
           "hovertemplate": "<b>%{hovertext}</b><br><br>GEO=Manitoba<br>YEAR=2010<br>Property=%{x}<br>Person=%{marker.size}<extra></extra>",
           "hovertext": [
            "Manitoba"
           ],
           "legendgroup": "Manitoba",
           "marker": {
            "color": "#00cc96",
            "size": [
             779
            ],
            "sizemode": "area",
            "sizeref": 2.4469444444444446,
            "symbol": "circle"
           },
           "mode": "markers",
           "name": "Manitoba",
           "orientation": "v",
           "showlegend": true,
           "type": "scatter",
           "x": [
            1101
           ],
           "xaxis": "x",
           "y": [
            779
           ],
           "yaxis": "y"
          },
          {
           "hovertemplate": "<b>%{hovertext}</b><br><br>GEO=New Brunswick<br>YEAR=2010<br>Property=%{x}<br>Person=%{marker.size}<extra></extra>",
           "hovertext": [
            "New Brunswick"
           ],
           "legendgroup": "New Brunswick",
           "marker": {
            "color": "#ab63fa",
            "size": [
             285
            ],
            "sizemode": "area",
            "sizeref": 2.4469444444444446,
            "symbol": "circle"
           },
           "mode": "markers",
           "name": "New Brunswick",
           "orientation": "v",
           "showlegend": true,
           "type": "scatter",
           "x": [
            525
           ],
           "xaxis": "x",
           "y": [
            285
           ],
           "yaxis": "y"
          },
          {
           "hovertemplate": "<b>%{hovertext}</b><br><br>GEO=Newfoundland and Labrador<br>YEAR=2010<br>Property=%{x}<br>Person=%{marker.size}<extra></extra>",
           "hovertext": [
            "Newfoundland and Labrador"
           ],
           "legendgroup": "Newfoundland and Labrador",
           "marker": {
            "color": "#FFA15A",
            "size": [
             196
            ],
            "sizemode": "area",
            "sizeref": 2.4469444444444446,
            "symbol": "circle"
           },
           "mode": "markers",
           "name": "Newfoundland and Labrador",
           "orientation": "v",
           "showlegend": true,
           "type": "scatter",
           "x": [
            270
           ],
           "xaxis": "x",
           "y": [
            196
           ],
           "yaxis": "y"
          },
          {
           "hovertemplate": "<b>%{hovertext}</b><br><br>GEO=Northwest Territories<br>YEAR=2010<br>Property=%{x}<br>Person=%{marker.size}<extra></extra>",
           "hovertext": [
            "Northwest Territories"
           ],
           "legendgroup": "Northwest Territories",
           "marker": {
            "color": "#19d3f3",
            "size": [
             55
            ],
            "sizemode": "area",
            "sizeref": 2.4469444444444446,
            "symbol": "circle"
           },
           "mode": "markers",
           "name": "Northwest Territories",
           "orientation": "v",
           "showlegend": true,
           "type": "scatter",
           "x": [
            80
           ],
           "xaxis": "x",
           "y": [
            55
           ],
           "yaxis": "y"
          },
          {
           "hovertemplate": "<b>%{hovertext}</b><br><br>GEO=Nova Scotia<br>YEAR=2010<br>Property=%{x}<br>Person=%{marker.size}<extra></extra>",
           "hovertext": [
            "Nova Scotia"
           ],
           "legendgroup": "Nova Scotia",
           "marker": {
            "color": "#FF6692",
            "size": [
             407
            ],
            "sizemode": "area",
            "sizeref": 2.4469444444444446,
            "symbol": "circle"
           },
           "mode": "markers",
           "name": "Nova Scotia",
           "orientation": "v",
           "showlegend": true,
           "type": "scatter",
           "x": [
            504
           ],
           "xaxis": "x",
           "y": [
            407
           ],
           "yaxis": "y"
          },
          {
           "hovertemplate": "<b>%{hovertext}</b><br><br>GEO=Nunavut<br>YEAR=2010<br>Property=%{x}<br>Person=%{marker.size}<extra></extra>",
           "hovertext": [
            "Nunavut"
           ],
           "legendgroup": "Nunavut",
           "marker": {
            "color": "#B6E880",
            "size": [
             68
            ],
            "sizemode": "area",
            "sizeref": 2.4469444444444446,
            "symbol": "circle"
           },
           "mode": "markers",
           "name": "Nunavut",
           "orientation": "v",
           "showlegend": true,
           "type": "scatter",
           "x": [
            135
           ],
           "xaxis": "x",
           "y": [
            68
           ],
           "yaxis": "y"
          },
          {
           "hovertemplate": "<b>%{hovertext}</b><br><br>GEO=Ontario<br>YEAR=2010<br>Property=%{x}<br>Person=%{marker.size}<extra></extra>",
           "hovertext": [
            "Ontario"
           ],
           "legendgroup": "Ontario",
           "marker": {
            "color": "#FF97FF",
            "size": [
             6297
            ],
            "sizemode": "area",
            "sizeref": 2.4469444444444446,
            "symbol": "circle"
           },
           "mode": "markers",
           "name": "Ontario",
           "orientation": "v",
           "showlegend": true,
           "type": "scatter",
           "x": [
            8185
           ],
           "xaxis": "x",
           "y": [
            6297
           ],
           "yaxis": "y"
          },
          {
           "hovertemplate": "<b>%{hovertext}</b><br><br>GEO=Prince Edward Island<br>YEAR=2010<br>Property=%{x}<br>Person=%{marker.size}<extra></extra>",
           "hovertext": [
            "Prince Edward Island"
           ],
           "legendgroup": "Prince Edward Island",
           "marker": {
            "color": "#FECB52",
            "size": [
             42
            ],
            "sizemode": "area",
            "sizeref": 2.4469444444444446,
            "symbol": "circle"
           },
           "mode": "markers",
           "name": "Prince Edward Island",
           "orientation": "v",
           "showlegend": true,
           "type": "scatter",
           "x": [
            82
           ],
           "xaxis": "x",
           "y": [
            42
           ],
           "yaxis": "y"
          },
          {
           "hovertemplate": "<b>%{hovertext}</b><br><br>GEO=Quebec<br>YEAR=2010<br>Property=%{x}<br>Person=%{marker.size}<extra></extra>",
           "hovertext": [
            "Quebec"
           ],
           "legendgroup": "Quebec",
           "marker": {
            "color": "#636efa",
            "size": [
             2560
            ],
            "sizemode": "area",
            "sizeref": 2.4469444444444446,
            "symbol": "circle"
           },
           "mode": "markers",
           "name": "Quebec",
           "orientation": "v",
           "showlegend": true,
           "type": "scatter",
           "x": [
            2384
           ],
           "xaxis": "x",
           "y": [
            2560
           ],
           "yaxis": "y"
          },
          {
           "hovertemplate": "<b>%{hovertext}</b><br><br>GEO=Saskatchewan<br>YEAR=2010<br>Property=%{x}<br>Person=%{marker.size}<extra></extra>",
           "hovertext": [
            "Saskatchewan"
           ],
           "legendgroup": "Saskatchewan",
           "marker": {
            "color": "#EF553B",
            "size": [
             863
            ],
            "sizemode": "area",
            "sizeref": 2.4469444444444446,
            "symbol": "circle"
           },
           "mode": "markers",
           "name": "Saskatchewan",
           "orientation": "v",
           "showlegend": true,
           "type": "scatter",
           "x": [
            2359
           ],
           "xaxis": "x",
           "y": [
            863
           ],
           "yaxis": "y"
          },
          {
           "hovertemplate": "<b>%{hovertext}</b><br><br>GEO=Yukon<br>YEAR=2010<br>Property=%{x}<br>Person=%{marker.size}<extra></extra>",
           "hovertext": [
            "Yukon"
           ],
           "legendgroup": "Yukon",
           "marker": {
            "color": "#00cc96",
            "size": [
             32
            ],
            "sizemode": "area",
            "sizeref": 2.4469444444444446,
            "symbol": "circle"
           },
           "mode": "markers",
           "name": "Yukon",
           "orientation": "v",
           "showlegend": true,
           "type": "scatter",
           "x": [
            52
           ],
           "xaxis": "x",
           "y": [
            32
           ],
           "yaxis": "y"
          }
         ],
         "name": "2010"
        },
        {
         "data": [
          {
           "hovertemplate": "<b>%{hovertext}</b><br><br>GEO=Alberta<br>YEAR=2011<br>Property=%{x}<br>Person=%{marker.size}<extra></extra>",
           "hovertext": [
            "Alberta"
           ],
           "legendgroup": "Alberta",
           "marker": {
            "color": "#636efa",
            "size": [
             1387
            ],
            "sizemode": "area",
            "sizeref": 2.4469444444444446,
            "symbol": "circle"
           },
           "mode": "markers",
           "name": "Alberta",
           "orientation": "v",
           "showlegend": true,
           "type": "scatter",
           "x": [
            2968
           ],
           "xaxis": "x",
           "y": [
            1387
           ],
           "yaxis": "y"
          },
          {
           "hovertemplate": "<b>%{hovertext}</b><br><br>GEO=British Columbia<br>YEAR=2011<br>Property=%{x}<br>Person=%{marker.size}<extra></extra>",
           "hovertext": [
            "British Columbia"
           ],
           "legendgroup": "British Columbia",
           "marker": {
            "color": "#EF553B",
            "size": [
             898
            ],
            "sizemode": "area",
            "sizeref": 2.4469444444444446,
            "symbol": "circle"
           },
           "mode": "markers",
           "name": "British Columbia",
           "orientation": "v",
           "showlegend": true,
           "type": "scatter",
           "x": [
            885
           ],
           "xaxis": "x",
           "y": [
            898
           ],
           "yaxis": "y"
          },
          {
           "hovertemplate": "<b>%{hovertext}</b><br><br>GEO=Manitoba<br>YEAR=2011<br>Property=%{x}<br>Person=%{marker.size}<extra></extra>",
           "hovertext": [
            "Manitoba"
           ],
           "legendgroup": "Manitoba",
           "marker": {
            "color": "#00cc96",
            "size": [
             737
            ],
            "sizemode": "area",
            "sizeref": 2.4469444444444446,
            "symbol": "circle"
           },
           "mode": "markers",
           "name": "Manitoba",
           "orientation": "v",
           "showlegend": true,
           "type": "scatter",
           "x": [
            864
           ],
           "xaxis": "x",
           "y": [
            737
           ],
           "yaxis": "y"
          },
          {
           "hovertemplate": "<b>%{hovertext}</b><br><br>GEO=New Brunswick<br>YEAR=2011<br>Property=%{x}<br>Person=%{marker.size}<extra></extra>",
           "hovertext": [
            "New Brunswick"
           ],
           "legendgroup": "New Brunswick",
           "marker": {
            "color": "#ab63fa",
            "size": [
             266
            ],
            "sizemode": "area",
            "sizeref": 2.4469444444444446,
            "symbol": "circle"
           },
           "mode": "markers",
           "name": "New Brunswick",
           "orientation": "v",
           "showlegend": true,
           "type": "scatter",
           "x": [
            381
           ],
           "xaxis": "x",
           "y": [
            266
           ],
           "yaxis": "y"
          },
          {
           "hovertemplate": "<b>%{hovertext}</b><br><br>GEO=Newfoundland and Labrador<br>YEAR=2011<br>Property=%{x}<br>Person=%{marker.size}<extra></extra>",
           "hovertext": [
            "Newfoundland and Labrador"
           ],
           "legendgroup": "Newfoundland and Labrador",
           "marker": {
            "color": "#FFA15A",
            "size": [
             205
            ],
            "sizemode": "area",
            "sizeref": 2.4469444444444446,
            "symbol": "circle"
           },
           "mode": "markers",
           "name": "Newfoundland and Labrador",
           "orientation": "v",
           "showlegend": true,
           "type": "scatter",
           "x": [
            257
           ],
           "xaxis": "x",
           "y": [
            205
           ],
           "yaxis": "y"
          },
          {
           "hovertemplate": "<b>%{hovertext}</b><br><br>GEO=Northwest Territories<br>YEAR=2011<br>Property=%{x}<br>Person=%{marker.size}<extra></extra>",
           "hovertext": [
            "Northwest Territories"
           ],
           "legendgroup": "Northwest Territories",
           "marker": {
            "color": "#19d3f3",
            "size": [
             42
            ],
            "sizemode": "area",
            "sizeref": 2.4469444444444446,
            "symbol": "circle"
           },
           "mode": "markers",
           "name": "Northwest Territories",
           "orientation": "v",
           "showlegend": true,
           "type": "scatter",
           "x": [
            60
           ],
           "xaxis": "x",
           "y": [
            42
           ],
           "yaxis": "y"
          },
          {
           "hovertemplate": "<b>%{hovertext}</b><br><br>GEO=Nova Scotia<br>YEAR=2011<br>Property=%{x}<br>Person=%{marker.size}<extra></extra>",
           "hovertext": [
            "Nova Scotia"
           ],
           "legendgroup": "Nova Scotia",
           "marker": {
            "color": "#FF6692",
            "size": [
             398
            ],
            "sizemode": "area",
            "sizeref": 2.4469444444444446,
            "symbol": "circle"
           },
           "mode": "markers",
           "name": "Nova Scotia",
           "orientation": "v",
           "showlegend": true,
           "type": "scatter",
           "x": [
            464
           ],
           "xaxis": "x",
           "y": [
            398
           ],
           "yaxis": "y"
          },
          {
           "hovertemplate": "<b>%{hovertext}</b><br><br>GEO=Nunavut<br>YEAR=2011<br>Property=%{x}<br>Person=%{marker.size}<extra></extra>",
           "hovertext": [
            "Nunavut"
           ],
           "legendgroup": "Nunavut",
           "marker": {
            "color": "#B6E880",
            "size": [
             59
            ],
            "sizemode": "area",
            "sizeref": 2.4469444444444446,
            "symbol": "circle"
           },
           "mode": "markers",
           "name": "Nunavut",
           "orientation": "v",
           "showlegend": true,
           "type": "scatter",
           "x": [
            88
           ],
           "xaxis": "x",
           "y": [
            59
           ],
           "yaxis": "y"
          },
          {
           "hovertemplate": "<b>%{hovertext}</b><br><br>GEO=Ontario<br>YEAR=2011<br>Property=%{x}<br>Person=%{marker.size}<extra></extra>",
           "hovertext": [
            "Ontario"
           ],
           "legendgroup": "Ontario",
           "marker": {
            "color": "#FF97FF",
            "size": [
             5695
            ],
            "sizemode": "area",
            "sizeref": 2.4469444444444446,
            "symbol": "circle"
           },
           "mode": "markers",
           "name": "Ontario",
           "orientation": "v",
           "showlegend": true,
           "type": "scatter",
           "x": [
            6974
           ],
           "xaxis": "x",
           "y": [
            5695
           ],
           "yaxis": "y"
          },
          {
           "hovertemplate": "<b>%{hovertext}</b><br><br>GEO=Prince Edward Island<br>YEAR=2011<br>Property=%{x}<br>Person=%{marker.size}<extra></extra>",
           "hovertext": [
            "Prince Edward Island"
           ],
           "legendgroup": "Prince Edward Island",
           "marker": {
            "color": "#FECB52",
            "size": [
             29
            ],
            "sizemode": "area",
            "sizeref": 2.4469444444444446,
            "symbol": "circle"
           },
           "mode": "markers",
           "name": "Prince Edward Island",
           "orientation": "v",
           "showlegend": true,
           "type": "scatter",
           "x": [
            98
           ],
           "xaxis": "x",
           "y": [
            29
           ],
           "yaxis": "y"
          },
          {
           "hovertemplate": "<b>%{hovertext}</b><br><br>GEO=Quebec<br>YEAR=2011<br>Property=%{x}<br>Person=%{marker.size}<extra></extra>",
           "hovertext": [
            "Quebec"
           ],
           "legendgroup": "Quebec",
           "marker": {
            "color": "#636efa",
            "size": [
             2509
            ],
            "sizemode": "area",
            "sizeref": 2.4469444444444446,
            "symbol": "circle"
           },
           "mode": "markers",
           "name": "Quebec",
           "orientation": "v",
           "showlegend": true,
           "type": "scatter",
           "x": [
            2057
           ],
           "xaxis": "x",
           "y": [
            2509
           ],
           "yaxis": "y"
          },
          {
           "hovertemplate": "<b>%{hovertext}</b><br><br>GEO=Saskatchewan<br>YEAR=2011<br>Property=%{x}<br>Person=%{marker.size}<extra></extra>",
           "hovertext": [
            "Saskatchewan"
           ],
           "legendgroup": "Saskatchewan",
           "marker": {
            "color": "#EF553B",
            "size": [
             732
            ],
            "sizemode": "area",
            "sizeref": 2.4469444444444446,
            "symbol": "circle"
           },
           "mode": "markers",
           "name": "Saskatchewan",
           "orientation": "v",
           "showlegend": true,
           "type": "scatter",
           "x": [
            2027
           ],
           "xaxis": "x",
           "y": [
            732
           ],
           "yaxis": "y"
          },
          {
           "hovertemplate": "<b>%{hovertext}</b><br><br>GEO=Yukon<br>YEAR=2011<br>Property=%{x}<br>Person=%{marker.size}<extra></extra>",
           "hovertext": [
            "Yukon"
           ],
           "legendgroup": "Yukon",
           "marker": {
            "color": "#00cc96",
            "size": [
             21
            ],
            "sizemode": "area",
            "sizeref": 2.4469444444444446,
            "symbol": "circle"
           },
           "mode": "markers",
           "name": "Yukon",
           "orientation": "v",
           "showlegend": true,
           "type": "scatter",
           "x": [
            22
           ],
           "xaxis": "x",
           "y": [
            21
           ],
           "yaxis": "y"
          }
         ],
         "name": "2011"
        },
        {
         "data": [
          {
           "hovertemplate": "<b>%{hovertext}</b><br><br>GEO=Alberta<br>YEAR=2012<br>Property=%{x}<br>Person=%{marker.size}<extra></extra>",
           "hovertext": [
            "Alberta"
           ],
           "legendgroup": "Alberta",
           "marker": {
            "color": "#636efa",
            "size": [
             1348
            ],
            "sizemode": "area",
            "sizeref": 2.4469444444444446,
            "symbol": "circle"
           },
           "mode": "markers",
           "name": "Alberta",
           "orientation": "v",
           "showlegend": true,
           "type": "scatter",
           "x": [
            2604
           ],
           "xaxis": "x",
           "y": [
            1348
           ],
           "yaxis": "y"
          },
          {
           "hovertemplate": "<b>%{hovertext}</b><br><br>GEO=British Columbia<br>YEAR=2012<br>Property=%{x}<br>Person=%{marker.size}<extra></extra>",
           "hovertext": [
            "British Columbia"
           ],
           "legendgroup": "British Columbia",
           "marker": {
            "color": "#EF553B",
            "size": [
             866
            ],
            "sizemode": "area",
            "sizeref": 2.4469444444444446,
            "symbol": "circle"
           },
           "mode": "markers",
           "name": "British Columbia",
           "orientation": "v",
           "showlegend": true,
           "type": "scatter",
           "x": [
            779
           ],
           "xaxis": "x",
           "y": [
            866
           ],
           "yaxis": "y"
          },
          {
           "hovertemplate": "<b>%{hovertext}</b><br><br>GEO=Manitoba<br>YEAR=2012<br>Property=%{x}<br>Person=%{marker.size}<extra></extra>",
           "hovertext": [
            "Manitoba"
           ],
           "legendgroup": "Manitoba",
           "marker": {
            "color": "#00cc96",
            "size": [
             787
            ],
            "sizemode": "area",
            "sizeref": 2.4469444444444446,
            "symbol": "circle"
           },
           "mode": "markers",
           "name": "Manitoba",
           "orientation": "v",
           "showlegend": true,
           "type": "scatter",
           "x": [
            813
           ],
           "xaxis": "x",
           "y": [
            787
           ],
           "yaxis": "y"
          },
          {
           "hovertemplate": "<b>%{hovertext}</b><br><br>GEO=New Brunswick<br>YEAR=2012<br>Property=%{x}<br>Person=%{marker.size}<extra></extra>",
           "hovertext": [
            "New Brunswick"
           ],
           "legendgroup": "New Brunswick",
           "marker": {
            "color": "#ab63fa",
            "size": [
             249
            ],
            "sizemode": "area",
            "sizeref": 2.4469444444444446,
            "symbol": "circle"
           },
           "mode": "markers",
           "name": "New Brunswick",
           "orientation": "v",
           "showlegend": true,
           "type": "scatter",
           "x": [
            325
           ],
           "xaxis": "x",
           "y": [
            249
           ],
           "yaxis": "y"
          },
          {
           "hovertemplate": "<b>%{hovertext}</b><br><br>GEO=Newfoundland and Labrador<br>YEAR=2012<br>Property=%{x}<br>Person=%{marker.size}<extra></extra>",
           "hovertext": [
            "Newfoundland and Labrador"
           ],
           "legendgroup": "Newfoundland and Labrador",
           "marker": {
            "color": "#FFA15A",
            "size": [
             160
            ],
            "sizemode": "area",
            "sizeref": 2.4469444444444446,
            "symbol": "circle"
           },
           "mode": "markers",
           "name": "Newfoundland and Labrador",
           "orientation": "v",
           "showlegend": true,
           "type": "scatter",
           "x": [
            201
           ],
           "xaxis": "x",
           "y": [
            160
           ],
           "yaxis": "y"
          },
          {
           "hovertemplate": "<b>%{hovertext}</b><br><br>GEO=Northwest Territories<br>YEAR=2012<br>Property=%{x}<br>Person=%{marker.size}<extra></extra>",
           "hovertext": [
            "Northwest Territories"
           ],
           "legendgroup": "Northwest Territories",
           "marker": {
            "color": "#19d3f3",
            "size": [
             25
            ],
            "sizemode": "area",
            "sizeref": 2.4469444444444446,
            "symbol": "circle"
           },
           "mode": "markers",
           "name": "Northwest Territories",
           "orientation": "v",
           "showlegend": true,
           "type": "scatter",
           "x": [
            58
           ],
           "xaxis": "x",
           "y": [
            25
           ],
           "yaxis": "y"
          },
          {
           "hovertemplate": "<b>%{hovertext}</b><br><br>GEO=Nova Scotia<br>YEAR=2012<br>Property=%{x}<br>Person=%{marker.size}<extra></extra>",
           "hovertext": [
            "Nova Scotia"
           ],
           "legendgroup": "Nova Scotia",
           "marker": {
            "color": "#FF6692",
            "size": [
             333
            ],
            "sizemode": "area",
            "sizeref": 2.4469444444444446,
            "symbol": "circle"
           },
           "mode": "markers",
           "name": "Nova Scotia",
           "orientation": "v",
           "showlegend": true,
           "type": "scatter",
           "x": [
            481
           ],
           "xaxis": "x",
           "y": [
            333
           ],
           "yaxis": "y"
          },
          {
           "hovertemplate": "<b>%{hovertext}</b><br><br>GEO=Nunavut<br>YEAR=2012<br>Property=%{x}<br>Person=%{marker.size}<extra></extra>",
           "hovertext": [
            "Nunavut"
           ],
           "legendgroup": "Nunavut",
           "marker": {
            "color": "#B6E880",
            "size": [
             53
            ],
            "sizemode": "area",
            "sizeref": 2.4469444444444446,
            "symbol": "circle"
           },
           "mode": "markers",
           "name": "Nunavut",
           "orientation": "v",
           "showlegend": true,
           "type": "scatter",
           "x": [
            85
           ],
           "xaxis": "x",
           "y": [
            53
           ],
           "yaxis": "y"
          },
          {
           "hovertemplate": "<b>%{hovertext}</b><br><br>GEO=Ontario<br>YEAR=2012<br>Property=%{x}<br>Person=%{marker.size}<extra></extra>",
           "hovertext": [
            "Ontario"
           ],
           "legendgroup": "Ontario",
           "marker": {
            "color": "#FF97FF",
            "size": [
             5174
            ],
            "sizemode": "area",
            "sizeref": 2.4469444444444446,
            "symbol": "circle"
           },
           "mode": "markers",
           "name": "Ontario",
           "orientation": "v",
           "showlegend": true,
           "type": "scatter",
           "x": [
            6114
           ],
           "xaxis": "x",
           "y": [
            5174
           ],
           "yaxis": "y"
          },
          {
           "hovertemplate": "<b>%{hovertext}</b><br><br>GEO=Prince Edward Island<br>YEAR=2012<br>Property=%{x}<br>Person=%{marker.size}<extra></extra>",
           "hovertext": [
            "Prince Edward Island"
           ],
           "legendgroup": "Prince Edward Island",
           "marker": {
            "color": "#FECB52",
            "size": [
             59
            ],
            "sizemode": "area",
            "sizeref": 2.4469444444444446,
            "symbol": "circle"
           },
           "mode": "markers",
           "name": "Prince Edward Island",
           "orientation": "v",
           "showlegend": true,
           "type": "scatter",
           "x": [
            89
           ],
           "xaxis": "x",
           "y": [
            59
           ],
           "yaxis": "y"
          },
          {
           "hovertemplate": "<b>%{hovertext}</b><br><br>GEO=Quebec<br>YEAR=2012<br>Property=%{x}<br>Person=%{marker.size}<extra></extra>",
           "hovertext": [
            "Quebec"
           ],
           "legendgroup": "Quebec",
           "marker": {
            "color": "#636efa",
            "size": [
             2735
            ],
            "sizemode": "area",
            "sizeref": 2.4469444444444446,
            "symbol": "circle"
           },
           "mode": "markers",
           "name": "Quebec",
           "orientation": "v",
           "showlegend": true,
           "type": "scatter",
           "x": [
            2246
           ],
           "xaxis": "x",
           "y": [
            2735
           ],
           "yaxis": "y"
          },
          {
           "hovertemplate": "<b>%{hovertext}</b><br><br>GEO=Saskatchewan<br>YEAR=2012<br>Property=%{x}<br>Person=%{marker.size}<extra></extra>",
           "hovertext": [
            "Saskatchewan"
           ],
           "legendgroup": "Saskatchewan",
           "marker": {
            "color": "#EF553B",
            "size": [
             734
            ],
            "sizemode": "area",
            "sizeref": 2.4469444444444446,
            "symbol": "circle"
           },
           "mode": "markers",
           "name": "Saskatchewan",
           "orientation": "v",
           "showlegend": true,
           "type": "scatter",
           "x": [
            1657
           ],
           "xaxis": "x",
           "y": [
            734
           ],
           "yaxis": "y"
          },
          {
           "hovertemplate": "<b>%{hovertext}</b><br><br>GEO=Yukon<br>YEAR=2012<br>Property=%{x}<br>Person=%{marker.size}<extra></extra>",
           "hovertext": [
            "Yukon"
           ],
           "legendgroup": "Yukon",
           "marker": {
            "color": "#00cc96",
            "size": [
             12
            ],
            "sizemode": "area",
            "sizeref": 2.4469444444444446,
            "symbol": "circle"
           },
           "mode": "markers",
           "name": "Yukon",
           "orientation": "v",
           "showlegend": true,
           "type": "scatter",
           "x": [
            21
           ],
           "xaxis": "x",
           "y": [
            12
           ],
           "yaxis": "y"
          }
         ],
         "name": "2012"
        },
        {
         "data": [
          {
           "hovertemplate": "<b>%{hovertext}</b><br><br>GEO=Alberta<br>YEAR=2013<br>Property=%{x}<br>Person=%{marker.size}<extra></extra>",
           "hovertext": [
            "Alberta"
           ],
           "legendgroup": "Alberta",
           "marker": {
            "color": "#636efa",
            "size": [
             1211
            ],
            "sizemode": "area",
            "sizeref": 2.4469444444444446,
            "symbol": "circle"
           },
           "mode": "markers",
           "name": "Alberta",
           "orientation": "v",
           "showlegend": true,
           "type": "scatter",
           "x": [
            2313
           ],
           "xaxis": "x",
           "y": [
            1211
           ],
           "yaxis": "y"
          },
          {
           "hovertemplate": "<b>%{hovertext}</b><br><br>GEO=British Columbia<br>YEAR=2013<br>Property=%{x}<br>Person=%{marker.size}<extra></extra>",
           "hovertext": [
            "British Columbia"
           ],
           "legendgroup": "British Columbia",
           "marker": {
            "color": "#EF553B",
            "size": [
             697
            ],
            "sizemode": "area",
            "sizeref": 2.4469444444444446,
            "symbol": "circle"
           },
           "mode": "markers",
           "name": "British Columbia",
           "orientation": "v",
           "showlegend": true,
           "type": "scatter",
           "x": [
            658
           ],
           "xaxis": "x",
           "y": [
            697
           ],
           "yaxis": "y"
          },
          {
           "hovertemplate": "<b>%{hovertext}</b><br><br>GEO=Manitoba<br>YEAR=2013<br>Property=%{x}<br>Person=%{marker.size}<extra></extra>",
           "hovertext": [
            "Manitoba"
           ],
           "legendgroup": "Manitoba",
           "marker": {
            "color": "#00cc96",
            "size": [
             754
            ],
            "sizemode": "area",
            "sizeref": 2.4469444444444446,
            "symbol": "circle"
           },
           "mode": "markers",
           "name": "Manitoba",
           "orientation": "v",
           "showlegend": true,
           "type": "scatter",
           "x": [
            806
           ],
           "xaxis": "x",
           "y": [
            754
           ],
           "yaxis": "y"
          },
          {
           "hovertemplate": "<b>%{hovertext}</b><br><br>GEO=New Brunswick<br>YEAR=2013<br>Property=%{x}<br>Person=%{marker.size}<extra></extra>",
           "hovertext": [
            "New Brunswick"
           ],
           "legendgroup": "New Brunswick",
           "marker": {
            "color": "#ab63fa",
            "size": [
             208
            ],
            "sizemode": "area",
            "sizeref": 2.4469444444444446,
            "symbol": "circle"
           },
           "mode": "markers",
           "name": "New Brunswick",
           "orientation": "v",
           "showlegend": true,
           "type": "scatter",
           "x": [
            292
           ],
           "xaxis": "x",
           "y": [
            208
           ],
           "yaxis": "y"
          },
          {
           "hovertemplate": "<b>%{hovertext}</b><br><br>GEO=Newfoundland and Labrador<br>YEAR=2013<br>Property=%{x}<br>Person=%{marker.size}<extra></extra>",
           "hovertext": [
            "Newfoundland and Labrador"
           ],
           "legendgroup": "Newfoundland and Labrador",
           "marker": {
            "color": "#FFA15A",
            "size": [
             187
            ],
            "sizemode": "area",
            "sizeref": 2.4469444444444446,
            "symbol": "circle"
           },
           "mode": "markers",
           "name": "Newfoundland and Labrador",
           "orientation": "v",
           "showlegend": true,
           "type": "scatter",
           "x": [
            190
           ],
           "xaxis": "x",
           "y": [
            187
           ],
           "yaxis": "y"
          },
          {
           "hovertemplate": "<b>%{hovertext}</b><br><br>GEO=Northwest Territories<br>YEAR=2013<br>Property=%{x}<br>Person=%{marker.size}<extra></extra>",
           "hovertext": [
            "Northwest Territories"
           ],
           "legendgroup": "Northwest Territories",
           "marker": {
            "color": "#19d3f3",
            "size": [
             35
            ],
            "sizemode": "area",
            "sizeref": 2.4469444444444446,
            "symbol": "circle"
           },
           "mode": "markers",
           "name": "Northwest Territories",
           "orientation": "v",
           "showlegend": true,
           "type": "scatter",
           "x": [
            50
           ],
           "xaxis": "x",
           "y": [
            35
           ],
           "yaxis": "y"
          },
          {
           "hovertemplate": "<b>%{hovertext}</b><br><br>GEO=Nova Scotia<br>YEAR=2013<br>Property=%{x}<br>Person=%{marker.size}<extra></extra>",
           "hovertext": [
            "Nova Scotia"
           ],
           "legendgroup": "Nova Scotia",
           "marker": {
            "color": "#FF6692",
            "size": [
             310
            ],
            "sizemode": "area",
            "sizeref": 2.4469444444444446,
            "symbol": "circle"
           },
           "mode": "markers",
           "name": "Nova Scotia",
           "orientation": "v",
           "showlegend": true,
           "type": "scatter",
           "x": [
            331
           ],
           "xaxis": "x",
           "y": [
            310
           ],
           "yaxis": "y"
          },
          {
           "hovertemplate": "<b>%{hovertext}</b><br><br>GEO=Nunavut<br>YEAR=2013<br>Property=%{x}<br>Person=%{marker.size}<extra></extra>",
           "hovertext": [
            "Nunavut"
           ],
           "legendgroup": "Nunavut",
           "marker": {
            "color": "#B6E880",
            "size": [
             50
            ],
            "sizemode": "area",
            "sizeref": 2.4469444444444446,
            "symbol": "circle"
           },
           "mode": "markers",
           "name": "Nunavut",
           "orientation": "v",
           "showlegend": true,
           "type": "scatter",
           "x": [
            77
           ],
           "xaxis": "x",
           "y": [
            50
           ],
           "yaxis": "y"
          },
          {
           "hovertemplate": "<b>%{hovertext}</b><br><br>GEO=Ontario<br>YEAR=2013<br>Property=%{x}<br>Person=%{marker.size}<extra></extra>",
           "hovertext": [
            "Ontario"
           ],
           "legendgroup": "Ontario",
           "marker": {
            "color": "#FF97FF",
            "size": [
             4494
            ],
            "sizemode": "area",
            "sizeref": 2.4469444444444446,
            "symbol": "circle"
           },
           "mode": "markers",
           "name": "Ontario",
           "orientation": "v",
           "showlegend": true,
           "type": "scatter",
           "x": [
            4864
           ],
           "xaxis": "x",
           "y": [
            4494
           ],
           "yaxis": "y"
          },
          {
           "hovertemplate": "<b>%{hovertext}</b><br><br>GEO=Prince Edward Island<br>YEAR=2013<br>Property=%{x}<br>Person=%{marker.size}<extra></extra>",
           "hovertext": [
            "Prince Edward Island"
           ],
           "legendgroup": "Prince Edward Island",
           "marker": {
            "color": "#FECB52",
            "size": [
             45
            ],
            "sizemode": "area",
            "sizeref": 2.4469444444444446,
            "symbol": "circle"
           },
           "mode": "markers",
           "name": "Prince Edward Island",
           "orientation": "v",
           "showlegend": true,
           "type": "scatter",
           "x": [
            78
           ],
           "xaxis": "x",
           "y": [
            45
           ],
           "yaxis": "y"
          },
          {
           "hovertemplate": "<b>%{hovertext}</b><br><br>GEO=Quebec<br>YEAR=2013<br>Property=%{x}<br>Person=%{marker.size}<extra></extra>",
           "hovertext": [
            "Quebec"
           ],
           "legendgroup": "Quebec",
           "marker": {
            "color": "#636efa",
            "size": [
             2985
            ],
            "sizemode": "area",
            "sizeref": 2.4469444444444446,
            "symbol": "circle"
           },
           "mode": "markers",
           "name": "Quebec",
           "orientation": "v",
           "showlegend": true,
           "type": "scatter",
           "x": [
            2109
           ],
           "xaxis": "x",
           "y": [
            2985
           ],
           "yaxis": "y"
          },
          {
           "hovertemplate": "<b>%{hovertext}</b><br><br>GEO=Saskatchewan<br>YEAR=2013<br>Property=%{x}<br>Person=%{marker.size}<extra></extra>",
           "hovertext": [
            "Saskatchewan"
           ],
           "legendgroup": "Saskatchewan",
           "marker": {
            "color": "#EF553B",
            "size": [
             648
            ],
            "sizemode": "area",
            "sizeref": 2.4469444444444446,
            "symbol": "circle"
           },
           "mode": "markers",
           "name": "Saskatchewan",
           "orientation": "v",
           "showlegend": true,
           "type": "scatter",
           "x": [
            1539
           ],
           "xaxis": "x",
           "y": [
            648
           ],
           "yaxis": "y"
          },
          {
           "hovertemplate": "<b>%{hovertext}</b><br><br>GEO=Yukon<br>YEAR=2013<br>Property=%{x}<br>Person=%{marker.size}<extra></extra>",
           "hovertext": [
            "Yukon"
           ],
           "legendgroup": "Yukon",
           "marker": {
            "color": "#00cc96",
            "size": [
             16
            ],
            "sizemode": "area",
            "sizeref": 2.4469444444444446,
            "symbol": "circle"
           },
           "mode": "markers",
           "name": "Yukon",
           "orientation": "v",
           "showlegend": true,
           "type": "scatter",
           "x": [
            30
           ],
           "xaxis": "x",
           "y": [
            16
           ],
           "yaxis": "y"
          }
         ],
         "name": "2013"
        },
        {
         "data": [
          {
           "hovertemplate": "<b>%{hovertext}</b><br><br>GEO=Alberta<br>YEAR=2014<br>Property=%{x}<br>Person=%{marker.size}<extra></extra>",
           "hovertext": [
            "Alberta"
           ],
           "legendgroup": "Alberta",
           "marker": {
            "color": "#636efa",
            "size": [
             889
            ],
            "sizemode": "area",
            "sizeref": 2.4469444444444446,
            "symbol": "circle"
           },
           "mode": "markers",
           "name": "Alberta",
           "orientation": "v",
           "showlegend": true,
           "type": "scatter",
           "x": [
            1738
           ],
           "xaxis": "x",
           "y": [
            889
           ],
           "yaxis": "y"
          },
          {
           "hovertemplate": "<b>%{hovertext}</b><br><br>GEO=British Columbia<br>YEAR=2014<br>Property=%{x}<br>Person=%{marker.size}<extra></extra>",
           "hovertext": [
            "British Columbia"
           ],
           "legendgroup": "British Columbia",
           "marker": {
            "color": "#EF553B",
            "size": [
             613
            ],
            "sizemode": "area",
            "sizeref": 2.4469444444444446,
            "symbol": "circle"
           },
           "mode": "markers",
           "name": "British Columbia",
           "orientation": "v",
           "showlegend": true,
           "type": "scatter",
           "x": [
            554
           ],
           "xaxis": "x",
           "y": [
            613
           ],
           "yaxis": "y"
          },
          {
           "hovertemplate": "<b>%{hovertext}</b><br><br>GEO=Manitoba<br>YEAR=2014<br>Property=%{x}<br>Person=%{marker.size}<extra></extra>",
           "hovertext": [
            "Manitoba"
           ],
           "legendgroup": "Manitoba",
           "marker": {
            "color": "#00cc96",
            "size": [
             617
            ],
            "sizemode": "area",
            "sizeref": 2.4469444444444446,
            "symbol": "circle"
           },
           "mode": "markers",
           "name": "Manitoba",
           "orientation": "v",
           "showlegend": true,
           "type": "scatter",
           "x": [
            694
           ],
           "xaxis": "x",
           "y": [
            617
           ],
           "yaxis": "y"
          },
          {
           "hovertemplate": "<b>%{hovertext}</b><br><br>GEO=New Brunswick<br>YEAR=2014<br>Property=%{x}<br>Person=%{marker.size}<extra></extra>",
           "hovertext": [
            "New Brunswick"
           ],
           "legendgroup": "New Brunswick",
           "marker": {
            "color": "#ab63fa",
            "size": [
             159
            ],
            "sizemode": "area",
            "sizeref": 2.4469444444444446,
            "symbol": "circle"
           },
           "mode": "markers",
           "name": "New Brunswick",
           "orientation": "v",
           "showlegend": true,
           "type": "scatter",
           "x": [
            277
           ],
           "xaxis": "x",
           "y": [
            159
           ],
           "yaxis": "y"
          },
          {
           "hovertemplate": "<b>%{hovertext}</b><br><br>GEO=Newfoundland and Labrador<br>YEAR=2014<br>Property=%{x}<br>Person=%{marker.size}<extra></extra>",
           "hovertext": [
            "Newfoundland and Labrador"
           ],
           "legendgroup": "Newfoundland and Labrador",
           "marker": {
            "color": "#FFA15A",
            "size": [
             131
            ],
            "sizemode": "area",
            "sizeref": 2.4469444444444446,
            "symbol": "circle"
           },
           "mode": "markers",
           "name": "Newfoundland and Labrador",
           "orientation": "v",
           "showlegend": true,
           "type": "scatter",
           "x": [
            133
           ],
           "xaxis": "x",
           "y": [
            131
           ],
           "yaxis": "y"
          },
          {
           "hovertemplate": "<b>%{hovertext}</b><br><br>GEO=Northwest Territories<br>YEAR=2014<br>Property=%{x}<br>Person=%{marker.size}<extra></extra>",
           "hovertext": [
            "Northwest Territories"
           ],
           "legendgroup": "Northwest Territories",
           "marker": {
            "color": "#19d3f3",
            "size": [
             30
            ],
            "sizemode": "area",
            "sizeref": 2.4469444444444446,
            "symbol": "circle"
           },
           "mode": "markers",
           "name": "Northwest Territories",
           "orientation": "v",
           "showlegend": true,
           "type": "scatter",
           "x": [
            33
           ],
           "xaxis": "x",
           "y": [
            30
           ],
           "yaxis": "y"
          },
          {
           "hovertemplate": "<b>%{hovertext}</b><br><br>GEO=Nova Scotia<br>YEAR=2014<br>Property=%{x}<br>Person=%{marker.size}<extra></extra>",
           "hovertext": [
            "Nova Scotia"
           ],
           "legendgroup": "Nova Scotia",
           "marker": {
            "color": "#FF6692",
            "size": [
             359
            ],
            "sizemode": "area",
            "sizeref": 2.4469444444444446,
            "symbol": "circle"
           },
           "mode": "markers",
           "name": "Nova Scotia",
           "orientation": "v",
           "showlegend": true,
           "type": "scatter",
           "x": [
            362
           ],
           "xaxis": "x",
           "y": [
            359
           ],
           "yaxis": "y"
          },
          {
           "hovertemplate": "<b>%{hovertext}</b><br><br>GEO=Nunavut<br>YEAR=2014<br>Property=%{x}<br>Person=%{marker.size}<extra></extra>",
           "hovertext": [
            "Nunavut"
           ],
           "legendgroup": "Nunavut",
           "marker": {
            "color": "#B6E880",
            "size": [
             39
            ],
            "sizemode": "area",
            "sizeref": 2.4469444444444446,
            "symbol": "circle"
           },
           "mode": "markers",
           "name": "Nunavut",
           "orientation": "v",
           "showlegend": true,
           "type": "scatter",
           "x": [
            62
           ],
           "xaxis": "x",
           "y": [
            39
           ],
           "yaxis": "y"
          },
          {
           "hovertemplate": "<b>%{hovertext}</b><br><br>GEO=Ontario<br>YEAR=2014<br>Property=%{x}<br>Person=%{marker.size}<extra></extra>",
           "hovertext": [
            "Ontario"
           ],
           "legendgroup": "Ontario",
           "marker": {
            "color": "#FF97FF",
            "size": [
             3308
            ],
            "sizemode": "area",
            "sizeref": 2.4469444444444446,
            "symbol": "circle"
           },
           "mode": "markers",
           "name": "Ontario",
           "orientation": "v",
           "showlegend": true,
           "type": "scatter",
           "x": [
            3498
           ],
           "xaxis": "x",
           "y": [
            3308
           ],
           "yaxis": "y"
          },
          {
           "hovertemplate": "<b>%{hovertext}</b><br><br>GEO=Prince Edward Island<br>YEAR=2014<br>Property=%{x}<br>Person=%{marker.size}<extra></extra>",
           "hovertext": [
            "Prince Edward Island"
           ],
           "legendgroup": "Prince Edward Island",
           "marker": {
            "color": "#FECB52",
            "size": [
             42
            ],
            "sizemode": "area",
            "sizeref": 2.4469444444444446,
            "symbol": "circle"
           },
           "mode": "markers",
           "name": "Prince Edward Island",
           "orientation": "v",
           "showlegend": true,
           "type": "scatter",
           "x": [
            62
           ],
           "xaxis": "x",
           "y": [
            42
           ],
           "yaxis": "y"
          },
          {
           "hovertemplate": "<b>%{hovertext}</b><br><br>GEO=Quebec<br>YEAR=2014<br>Property=%{x}<br>Person=%{marker.size}<extra></extra>",
           "hovertext": [
            "Quebec"
           ],
           "legendgroup": "Quebec",
           "marker": {
            "color": "#636efa",
            "size": [
             2616
            ],
            "sizemode": "area",
            "sizeref": 2.4469444444444446,
            "symbol": "circle"
           },
           "mode": "markers",
           "name": "Quebec",
           "orientation": "v",
           "showlegend": true,
           "type": "scatter",
           "x": [
            1575
           ],
           "xaxis": "x",
           "y": [
            2616
           ],
           "yaxis": "y"
          },
          {
           "hovertemplate": "<b>%{hovertext}</b><br><br>GEO=Saskatchewan<br>YEAR=2014<br>Property=%{x}<br>Person=%{marker.size}<extra></extra>",
           "hovertext": [
            "Saskatchewan"
           ],
           "legendgroup": "Saskatchewan",
           "marker": {
            "color": "#EF553B",
            "size": [
             616
            ],
            "sizemode": "area",
            "sizeref": 2.4469444444444446,
            "symbol": "circle"
           },
           "mode": "markers",
           "name": "Saskatchewan",
           "orientation": "v",
           "showlegend": true,
           "type": "scatter",
           "x": [
            1430
           ],
           "xaxis": "x",
           "y": [
            616
           ],
           "yaxis": "y"
          },
          {
           "hovertemplate": "<b>%{hovertext}</b><br><br>GEO=Yukon<br>YEAR=2014<br>Property=%{x}<br>Person=%{marker.size}<extra></extra>",
           "hovertext": [
            "Yukon"
           ],
           "legendgroup": "Yukon",
           "marker": {
            "color": "#00cc96",
            "size": [
             18
            ],
            "sizemode": "area",
            "sizeref": 2.4469444444444446,
            "symbol": "circle"
           },
           "mode": "markers",
           "name": "Yukon",
           "orientation": "v",
           "showlegend": true,
           "type": "scatter",
           "x": [
            19
           ],
           "xaxis": "x",
           "y": [
            18
           ],
           "yaxis": "y"
          }
         ],
         "name": "2014"
        },
        {
         "data": [
          {
           "hovertemplate": "<b>%{hovertext}</b><br><br>GEO=Alberta<br>YEAR=2015<br>Property=%{x}<br>Person=%{marker.size}<extra></extra>",
           "hovertext": [
            "Alberta"
           ],
           "legendgroup": "Alberta",
           "marker": {
            "color": "#636efa",
            "size": [
             1106
            ],
            "sizemode": "area",
            "sizeref": 2.4469444444444446,
            "symbol": "circle"
           },
           "mode": "markers",
           "name": "Alberta",
           "orientation": "v",
           "showlegend": true,
           "type": "scatter",
           "x": [
            1917
           ],
           "xaxis": "x",
           "y": [
            1106
           ],
           "yaxis": "y"
          },
          {
           "hovertemplate": "<b>%{hovertext}</b><br><br>GEO=British Columbia<br>YEAR=2015<br>Property=%{x}<br>Person=%{marker.size}<extra></extra>",
           "hovertext": [
            "British Columbia"
           ],
           "legendgroup": "British Columbia",
           "marker": {
            "color": "#EF553B",
            "size": [
             611
            ],
            "sizemode": "area",
            "sizeref": 2.4469444444444446,
            "symbol": "circle"
           },
           "mode": "markers",
           "name": "British Columbia",
           "orientation": "v",
           "showlegend": true,
           "type": "scatter",
           "x": [
            534
           ],
           "xaxis": "x",
           "y": [
            611
           ],
           "yaxis": "y"
          },
          {
           "hovertemplate": "<b>%{hovertext}</b><br><br>GEO=Manitoba<br>YEAR=2015<br>Property=%{x}<br>Person=%{marker.size}<extra></extra>",
           "hovertext": [
            "Manitoba"
           ],
           "legendgroup": "Manitoba",
           "marker": {
            "color": "#00cc96",
            "size": [
             591
            ],
            "sizemode": "area",
            "sizeref": 2.4469444444444446,
            "symbol": "circle"
           },
           "mode": "markers",
           "name": "Manitoba",
           "orientation": "v",
           "showlegend": true,
           "type": "scatter",
           "x": [
            761
           ],
           "xaxis": "x",
           "y": [
            591
           ],
           "yaxis": "y"
          },
          {
           "hovertemplate": "<b>%{hovertext}</b><br><br>GEO=New Brunswick<br>YEAR=2015<br>Property=%{x}<br>Person=%{marker.size}<extra></extra>",
           "hovertext": [
            "New Brunswick"
           ],
           "legendgroup": "New Brunswick",
           "marker": {
            "color": "#ab63fa",
            "size": [
             173
            ],
            "sizemode": "area",
            "sizeref": 2.4469444444444446,
            "symbol": "circle"
           },
           "mode": "markers",
           "name": "New Brunswick",
           "orientation": "v",
           "showlegend": true,
           "type": "scatter",
           "x": [
            212
           ],
           "xaxis": "x",
           "y": [
            173
           ],
           "yaxis": "y"
          },
          {
           "hovertemplate": "<b>%{hovertext}</b><br><br>GEO=Newfoundland and Labrador<br>YEAR=2015<br>Property=%{x}<br>Person=%{marker.size}<extra></extra>",
           "hovertext": [
            "Newfoundland and Labrador"
           ],
           "legendgroup": "Newfoundland and Labrador",
           "marker": {
            "color": "#FFA15A",
            "size": [
             150
            ],
            "sizemode": "area",
            "sizeref": 2.4469444444444446,
            "symbol": "circle"
           },
           "mode": "markers",
           "name": "Newfoundland and Labrador",
           "orientation": "v",
           "showlegend": true,
           "type": "scatter",
           "x": [
            133
           ],
           "xaxis": "x",
           "y": [
            150
           ],
           "yaxis": "y"
          },
          {
           "hovertemplate": "<b>%{hovertext}</b><br><br>GEO=Northwest Territories<br>YEAR=2015<br>Property=%{x}<br>Person=%{marker.size}<extra></extra>",
           "hovertext": [
            "Northwest Territories"
           ],
           "legendgroup": "Northwest Territories",
           "marker": {
            "color": "#19d3f3",
            "size": [
             14
            ],
            "sizemode": "area",
            "sizeref": 2.4469444444444446,
            "symbol": "circle"
           },
           "mode": "markers",
           "name": "Northwest Territories",
           "orientation": "v",
           "showlegend": true,
           "type": "scatter",
           "x": [
            23
           ],
           "xaxis": "x",
           "y": [
            14
           ],
           "yaxis": "y"
          },
          {
           "hovertemplate": "<b>%{hovertext}</b><br><br>GEO=Nova Scotia<br>YEAR=2015<br>Property=%{x}<br>Person=%{marker.size}<extra></extra>",
           "hovertext": [
            "Nova Scotia"
           ],
           "legendgroup": "Nova Scotia",
           "marker": {
            "color": "#FF6692",
            "size": [
             292
            ],
            "sizemode": "area",
            "sizeref": 2.4469444444444446,
            "symbol": "circle"
           },
           "mode": "markers",
           "name": "Nova Scotia",
           "orientation": "v",
           "showlegend": true,
           "type": "scatter",
           "x": [
            267
           ],
           "xaxis": "x",
           "y": [
            292
           ],
           "yaxis": "y"
          },
          {
           "hovertemplate": "<b>%{hovertext}</b><br><br>GEO=Nunavut<br>YEAR=2015<br>Property=%{x}<br>Person=%{marker.size}<extra></extra>",
           "hovertext": [
            "Nunavut"
           ],
           "legendgroup": "Nunavut",
           "marker": {
            "color": "#B6E880",
            "size": [
             44
            ],
            "sizemode": "area",
            "sizeref": 2.4469444444444446,
            "symbol": "circle"
           },
           "mode": "markers",
           "name": "Nunavut",
           "orientation": "v",
           "showlegend": true,
           "type": "scatter",
           "x": [
            36
           ],
           "xaxis": "x",
           "y": [
            44
           ],
           "yaxis": "y"
          },
          {
           "hovertemplate": "<b>%{hovertext}</b><br><br>GEO=Ontario<br>YEAR=2015<br>Property=%{x}<br>Person=%{marker.size}<extra></extra>",
           "hovertext": [
            "Ontario"
           ],
           "legendgroup": "Ontario",
           "marker": {
            "color": "#FF97FF",
            "size": [
             3443
            ],
            "sizemode": "area",
            "sizeref": 2.4469444444444446,
            "symbol": "circle"
           },
           "mode": "markers",
           "name": "Ontario",
           "orientation": "v",
           "showlegend": true,
           "type": "scatter",
           "x": [
            3766
           ],
           "xaxis": "x",
           "y": [
            3443
           ],
           "yaxis": "y"
          },
          {
           "hovertemplate": "<b>%{hovertext}</b><br><br>GEO=Prince Edward Island<br>YEAR=2015<br>Property=%{x}<br>Person=%{marker.size}<extra></extra>",
           "hovertext": [
            "Prince Edward Island"
           ],
           "legendgroup": "Prince Edward Island",
           "marker": {
            "color": "#FECB52",
            "size": [
             29
            ],
            "sizemode": "area",
            "sizeref": 2.4469444444444446,
            "symbol": "circle"
           },
           "mode": "markers",
           "name": "Prince Edward Island",
           "orientation": "v",
           "showlegend": true,
           "type": "scatter",
           "x": [
            41
           ],
           "xaxis": "x",
           "y": [
            29
           ],
           "yaxis": "y"
          },
          {
           "hovertemplate": "<b>%{hovertext}</b><br><br>GEO=Quebec<br>YEAR=2015<br>Property=%{x}<br>Person=%{marker.size}<extra></extra>",
           "hovertext": [
            "Quebec"
           ],
           "legendgroup": "Quebec",
           "marker": {
            "color": "#636efa",
            "size": [
             2366
            ],
            "sizemode": "area",
            "sizeref": 2.4469444444444446,
            "symbol": "circle"
           },
           "mode": "markers",
           "name": "Quebec",
           "orientation": "v",
           "showlegend": true,
           "type": "scatter",
           "x": [
            1403
           ],
           "xaxis": "x",
           "y": [
            2366
           ],
           "yaxis": "y"
          },
          {
           "hovertemplate": "<b>%{hovertext}</b><br><br>GEO=Saskatchewan<br>YEAR=2015<br>Property=%{x}<br>Person=%{marker.size}<extra></extra>",
           "hovertext": [
            "Saskatchewan"
           ],
           "legendgroup": "Saskatchewan",
           "marker": {
            "color": "#EF553B",
            "size": [
             648
            ],
            "sizemode": "area",
            "sizeref": 2.4469444444444446,
            "symbol": "circle"
           },
           "mode": "markers",
           "name": "Saskatchewan",
           "orientation": "v",
           "showlegend": true,
           "type": "scatter",
           "x": [
            1359
           ],
           "xaxis": "x",
           "y": [
            648
           ],
           "yaxis": "y"
          },
          {
           "hovertemplate": "<b>%{hovertext}</b><br><br>GEO=Yukon<br>YEAR=2015<br>Property=%{x}<br>Person=%{marker.size}<extra></extra>",
           "hovertext": [
            "Yukon"
           ],
           "legendgroup": "Yukon",
           "marker": {
            "color": "#00cc96",
            "size": [
             26
            ],
            "sizemode": "area",
            "sizeref": 2.4469444444444446,
            "symbol": "circle"
           },
           "mode": "markers",
           "name": "Yukon",
           "orientation": "v",
           "showlegend": true,
           "type": "scatter",
           "x": [
            31
           ],
           "xaxis": "x",
           "y": [
            26
           ],
           "yaxis": "y"
          }
         ],
         "name": "2015"
        },
        {
         "data": [
          {
           "hovertemplate": "<b>%{hovertext}</b><br><br>GEO=Alberta<br>YEAR=2016<br>Property=%{x}<br>Person=%{marker.size}<extra></extra>",
           "hovertext": [
            "Alberta"
           ],
           "legendgroup": "Alberta",
           "marker": {
            "color": "#636efa",
            "size": [
             1049
            ],
            "sizemode": "area",
            "sizeref": 2.4469444444444446,
            "symbol": "circle"
           },
           "mode": "markers",
           "name": "Alberta",
           "orientation": "v",
           "showlegend": true,
           "type": "scatter",
           "x": [
            1665
           ],
           "xaxis": "x",
           "y": [
            1049
           ],
           "yaxis": "y"
          },
          {
           "hovertemplate": "<b>%{hovertext}</b><br><br>GEO=British Columbia<br>YEAR=2016<br>Property=%{x}<br>Person=%{marker.size}<extra></extra>",
           "hovertext": [
            "British Columbia"
           ],
           "legendgroup": "British Columbia",
           "marker": {
            "color": "#EF553B",
            "size": [
             615
            ],
            "sizemode": "area",
            "sizeref": 2.4469444444444446,
            "symbol": "circle"
           },
           "mode": "markers",
           "name": "British Columbia",
           "orientation": "v",
           "showlegend": true,
           "type": "scatter",
           "x": [
            428
           ],
           "xaxis": "x",
           "y": [
            615
           ],
           "yaxis": "y"
          },
          {
           "hovertemplate": "<b>%{hovertext}</b><br><br>GEO=Manitoba<br>YEAR=2016<br>Property=%{x}<br>Person=%{marker.size}<extra></extra>",
           "hovertext": [
            "Manitoba"
           ],
           "legendgroup": "Manitoba",
           "marker": {
            "color": "#00cc96",
            "size": [
             639
            ],
            "sizemode": "area",
            "sizeref": 2.4469444444444446,
            "symbol": "circle"
           },
           "mode": "markers",
           "name": "Manitoba",
           "orientation": "v",
           "showlegend": true,
           "type": "scatter",
           "x": [
            700
           ],
           "xaxis": "x",
           "y": [
            639
           ],
           "yaxis": "y"
          },
          {
           "hovertemplate": "<b>%{hovertext}</b><br><br>GEO=New Brunswick<br>YEAR=2016<br>Property=%{x}<br>Person=%{marker.size}<extra></extra>",
           "hovertext": [
            "New Brunswick"
           ],
           "legendgroup": "New Brunswick",
           "marker": {
            "color": "#ab63fa",
            "size": [
             152
            ],
            "sizemode": "area",
            "sizeref": 2.4469444444444446,
            "symbol": "circle"
           },
           "mode": "markers",
           "name": "New Brunswick",
           "orientation": "v",
           "showlegend": true,
           "type": "scatter",
           "x": [
            168
           ],
           "xaxis": "x",
           "y": [
            152
           ],
           "yaxis": "y"
          },
          {
           "hovertemplate": "<b>%{hovertext}</b><br><br>GEO=Newfoundland and Labrador<br>YEAR=2016<br>Property=%{x}<br>Person=%{marker.size}<extra></extra>",
           "hovertext": [
            "Newfoundland and Labrador"
           ],
           "legendgroup": "Newfoundland and Labrador",
           "marker": {
            "color": "#FFA15A",
            "size": [
             147
            ],
            "sizemode": "area",
            "sizeref": 2.4469444444444446,
            "symbol": "circle"
           },
           "mode": "markers",
           "name": "Newfoundland and Labrador",
           "orientation": "v",
           "showlegend": true,
           "type": "scatter",
           "x": [
            136
           ],
           "xaxis": "x",
           "y": [
            147
           ],
           "yaxis": "y"
          },
          {
           "hovertemplate": "<b>%{hovertext}</b><br><br>GEO=Northwest Territories<br>YEAR=2016<br>Property=%{x}<br>Person=%{marker.size}<extra></extra>",
           "hovertext": [
            "Northwest Territories"
           ],
           "legendgroup": "Northwest Territories",
           "marker": {
            "color": "#19d3f3",
            "size": [
             31
            ],
            "sizemode": "area",
            "sizeref": 2.4469444444444446,
            "symbol": "circle"
           },
           "mode": "markers",
           "name": "Northwest Territories",
           "orientation": "v",
           "showlegend": true,
           "type": "scatter",
           "x": [
            25
           ],
           "xaxis": "x",
           "y": [
            31
           ],
           "yaxis": "y"
          },
          {
           "hovertemplate": "<b>%{hovertext}</b><br><br>GEO=Nova Scotia<br>YEAR=2016<br>Property=%{x}<br>Person=%{marker.size}<extra></extra>",
           "hovertext": [
            "Nova Scotia"
           ],
           "legendgroup": "Nova Scotia",
           "marker": {
            "color": "#FF6692",
            "size": [
             275
            ],
            "sizemode": "area",
            "sizeref": 2.4469444444444446,
            "symbol": "circle"
           },
           "mode": "markers",
           "name": "Nova Scotia",
           "orientation": "v",
           "showlegend": true,
           "type": "scatter",
           "x": [
            277
           ],
           "xaxis": "x",
           "y": [
            275
           ],
           "yaxis": "y"
          },
          {
           "hovertemplate": "<b>%{hovertext}</b><br><br>GEO=Nunavut<br>YEAR=2016<br>Property=%{x}<br>Person=%{marker.size}<extra></extra>",
           "hovertext": [
            "Nunavut"
           ],
           "legendgroup": "Nunavut",
           "marker": {
            "color": "#B6E880",
            "size": [
             29
            ],
            "sizemode": "area",
            "sizeref": 2.4469444444444446,
            "symbol": "circle"
           },
           "mode": "markers",
           "name": "Nunavut",
           "orientation": "v",
           "showlegend": true,
           "type": "scatter",
           "x": [
            77
           ],
           "xaxis": "x",
           "y": [
            29
           ],
           "yaxis": "y"
          },
          {
           "hovertemplate": "<b>%{hovertext}</b><br><br>GEO=Ontario<br>YEAR=2016<br>Property=%{x}<br>Person=%{marker.size}<extra></extra>",
           "hovertext": [
            "Ontario"
           ],
           "legendgroup": "Ontario",
           "marker": {
            "color": "#FF97FF",
            "size": [
             3639
            ],
            "sizemode": "area",
            "sizeref": 2.4469444444444446,
            "symbol": "circle"
           },
           "mode": "markers",
           "name": "Ontario",
           "orientation": "v",
           "showlegend": true,
           "type": "scatter",
           "x": [
            3426
           ],
           "xaxis": "x",
           "y": [
            3639
           ],
           "yaxis": "y"
          },
          {
           "hovertemplate": "<b>%{hovertext}</b><br><br>GEO=Prince Edward Island<br>YEAR=2016<br>Property=%{x}<br>Person=%{marker.size}<extra></extra>",
           "hovertext": [
            "Prince Edward Island"
           ],
           "legendgroup": "Prince Edward Island",
           "marker": {
            "color": "#FECB52",
            "size": [
             31
            ],
            "sizemode": "area",
            "sizeref": 2.4469444444444446,
            "symbol": "circle"
           },
           "mode": "markers",
           "name": "Prince Edward Island",
           "orientation": "v",
           "showlegend": true,
           "type": "scatter",
           "x": [
            41
           ],
           "xaxis": "x",
           "y": [
            31
           ],
           "yaxis": "y"
          },
          {
           "hovertemplate": "<b>%{hovertext}</b><br><br>GEO=Quebec<br>YEAR=2016<br>Property=%{x}<br>Person=%{marker.size}<extra></extra>",
           "hovertext": [
            "Quebec"
           ],
           "legendgroup": "Quebec",
           "marker": {
            "color": "#636efa",
            "size": [
             2557
            ],
            "sizemode": "area",
            "sizeref": 2.4469444444444446,
            "symbol": "circle"
           },
           "mode": "markers",
           "name": "Quebec",
           "orientation": "v",
           "showlegend": true,
           "type": "scatter",
           "x": [
            1477
           ],
           "xaxis": "x",
           "y": [
            2557
           ],
           "yaxis": "y"
          },
          {
           "hovertemplate": "<b>%{hovertext}</b><br><br>GEO=Saskatchewan<br>YEAR=2016<br>Property=%{x}<br>Person=%{marker.size}<extra></extra>",
           "hovertext": [
            "Saskatchewan"
           ],
           "legendgroup": "Saskatchewan",
           "marker": {
            "color": "#EF553B",
            "size": [
             611
            ],
            "sizemode": "area",
            "sizeref": 2.4469444444444446,
            "symbol": "circle"
           },
           "mode": "markers",
           "name": "Saskatchewan",
           "orientation": "v",
           "showlegend": true,
           "type": "scatter",
           "x": [
            1100
           ],
           "xaxis": "x",
           "y": [
            611
           ],
           "yaxis": "y"
          },
          {
           "hovertemplate": "<b>%{hovertext}</b><br><br>GEO=Yukon<br>YEAR=2016<br>Property=%{x}<br>Person=%{marker.size}<extra></extra>",
           "hovertext": [
            "Yukon"
           ],
           "legendgroup": "Yukon",
           "marker": {
            "color": "#00cc96",
            "size": [
             28
            ],
            "sizemode": "area",
            "sizeref": 2.4469444444444446,
            "symbol": "circle"
           },
           "mode": "markers",
           "name": "Yukon",
           "orientation": "v",
           "showlegend": true,
           "type": "scatter",
           "x": [
            8
           ],
           "xaxis": "x",
           "y": [
            28
           ],
           "yaxis": "y"
          }
         ],
         "name": "2016"
        },
        {
         "data": [
          {
           "hovertemplate": "<b>%{hovertext}</b><br><br>GEO=Alberta<br>YEAR=2017<br>Property=%{x}<br>Person=%{marker.size}<extra></extra>",
           "hovertext": [
            "Alberta"
           ],
           "legendgroup": "Alberta",
           "marker": {
            "color": "#636efa",
            "size": [
             1160
            ],
            "sizemode": "area",
            "sizeref": 2.4469444444444446,
            "symbol": "circle"
           },
           "mode": "markers",
           "name": "Alberta",
           "orientation": "v",
           "showlegend": true,
           "type": "scatter",
           "x": [
            1533
           ],
           "xaxis": "x",
           "y": [
            1160
           ],
           "yaxis": "y"
          },
          {
           "hovertemplate": "<b>%{hovertext}</b><br><br>GEO=British Columbia<br>YEAR=2017<br>Property=%{x}<br>Person=%{marker.size}<extra></extra>",
           "hovertext": [
            "British Columbia"
           ],
           "legendgroup": "British Columbia",
           "marker": {
            "color": "#EF553B",
            "size": [
             626
            ],
            "sizemode": "area",
            "sizeref": 2.4469444444444446,
            "symbol": "circle"
           },
           "mode": "markers",
           "name": "British Columbia",
           "orientation": "v",
           "showlegend": true,
           "type": "scatter",
           "x": [
            366
           ],
           "xaxis": "x",
           "y": [
            626
           ],
           "yaxis": "y"
          },
          {
           "hovertemplate": "<b>%{hovertext}</b><br><br>GEO=Manitoba<br>YEAR=2017<br>Property=%{x}<br>Person=%{marker.size}<extra></extra>",
           "hovertext": [
            "Manitoba"
           ],
           "legendgroup": "Manitoba",
           "marker": {
            "color": "#00cc96",
            "size": [
             785
            ],
            "sizemode": "area",
            "sizeref": 2.4469444444444446,
            "symbol": "circle"
           },
           "mode": "markers",
           "name": "Manitoba",
           "orientation": "v",
           "showlegend": true,
           "type": "scatter",
           "x": [
            646
           ],
           "xaxis": "x",
           "y": [
            785
           ],
           "yaxis": "y"
          },
          {
           "hovertemplate": "<b>%{hovertext}</b><br><br>GEO=New Brunswick<br>YEAR=2017<br>Property=%{x}<br>Person=%{marker.size}<extra></extra>",
           "hovertext": [
            "New Brunswick"
           ],
           "legendgroup": "New Brunswick",
           "marker": {
            "color": "#ab63fa",
            "size": [
             165
            ],
            "sizemode": "area",
            "sizeref": 2.4469444444444446,
            "symbol": "circle"
           },
           "mode": "markers",
           "name": "New Brunswick",
           "orientation": "v",
           "showlegend": true,
           "type": "scatter",
           "x": [
            143
           ],
           "xaxis": "x",
           "y": [
            165
           ],
           "yaxis": "y"
          },
          {
           "hovertemplate": "<b>%{hovertext}</b><br><br>GEO=Newfoundland and Labrador<br>YEAR=2017<br>Property=%{x}<br>Person=%{marker.size}<extra></extra>",
           "hovertext": [
            "Newfoundland and Labrador"
           ],
           "legendgroup": "Newfoundland and Labrador",
           "marker": {
            "color": "#FFA15A",
            "size": [
             153
            ],
            "sizemode": "area",
            "sizeref": 2.4469444444444446,
            "symbol": "circle"
           },
           "mode": "markers",
           "name": "Newfoundland and Labrador",
           "orientation": "v",
           "showlegend": true,
           "type": "scatter",
           "x": [
            142
           ],
           "xaxis": "x",
           "y": [
            153
           ],
           "yaxis": "y"
          },
          {
           "hovertemplate": "<b>%{hovertext}</b><br><br>GEO=Northwest Territories<br>YEAR=2017<br>Property=%{x}<br>Person=%{marker.size}<extra></extra>",
           "hovertext": [
            "Northwest Territories"
           ],
           "legendgroup": "Northwest Territories",
           "marker": {
            "color": "#19d3f3",
            "size": [
             27
            ],
            "sizemode": "area",
            "sizeref": 2.4469444444444446,
            "symbol": "circle"
           },
           "mode": "markers",
           "name": "Northwest Territories",
           "orientation": "v",
           "showlegend": true,
           "type": "scatter",
           "x": [
            26
           ],
           "xaxis": "x",
           "y": [
            27
           ],
           "yaxis": "y"
          },
          {
           "hovertemplate": "<b>%{hovertext}</b><br><br>GEO=Nova Scotia<br>YEAR=2017<br>Property=%{x}<br>Person=%{marker.size}<extra></extra>",
           "hovertext": [
            "Nova Scotia"
           ],
           "legendgroup": "Nova Scotia",
           "marker": {
            "color": "#FF6692",
            "size": [
             293
            ],
            "sizemode": "area",
            "sizeref": 2.4469444444444446,
            "symbol": "circle"
           },
           "mode": "markers",
           "name": "Nova Scotia",
           "orientation": "v",
           "showlegend": true,
           "type": "scatter",
           "x": [
            211
           ],
           "xaxis": "x",
           "y": [
            293
           ],
           "yaxis": "y"
          },
          {
           "hovertemplate": "<b>%{hovertext}</b><br><br>GEO=Nunavut<br>YEAR=2017<br>Property=%{x}<br>Person=%{marker.size}<extra></extra>",
           "hovertext": [
            "Nunavut"
           ],
           "legendgroup": "Nunavut",
           "marker": {
            "color": "#B6E880",
            "size": [
             41
            ],
            "sizemode": "area",
            "sizeref": 2.4469444444444446,
            "symbol": "circle"
           },
           "mode": "markers",
           "name": "Nunavut",
           "orientation": "v",
           "showlegend": true,
           "type": "scatter",
           "x": [
            50
           ],
           "xaxis": "x",
           "y": [
            41
           ],
           "yaxis": "y"
          },
          {
           "hovertemplate": "<b>%{hovertext}</b><br><br>GEO=Ontario<br>YEAR=2017<br>Property=%{x}<br>Person=%{marker.size}<extra></extra>",
           "hovertext": [
            "Ontario"
           ],
           "legendgroup": "Ontario",
           "marker": {
            "color": "#FF97FF",
            "size": [
             4014
            ],
            "sizemode": "area",
            "sizeref": 2.4469444444444446,
            "symbol": "circle"
           },
           "mode": "markers",
           "name": "Ontario",
           "orientation": "v",
           "showlegend": true,
           "type": "scatter",
           "x": [
            3062
           ],
           "xaxis": "x",
           "y": [
            4014
           ],
           "yaxis": "y"
          },
          {
           "hovertemplate": "<b>%{hovertext}</b><br><br>GEO=Prince Edward Island<br>YEAR=2017<br>Property=%{x}<br>Person=%{marker.size}<extra></extra>",
           "hovertext": [
            "Prince Edward Island"
           ],
           "legendgroup": "Prince Edward Island",
           "marker": {
            "color": "#FECB52",
            "size": [
             31
            ],
            "sizemode": "area",
            "sizeref": 2.4469444444444446,
            "symbol": "circle"
           },
           "mode": "markers",
           "name": "Prince Edward Island",
           "orientation": "v",
           "showlegend": true,
           "type": "scatter",
           "x": [
            25
           ],
           "xaxis": "x",
           "y": [
            31
           ],
           "yaxis": "y"
          },
          {
           "hovertemplate": "<b>%{hovertext}</b><br><br>GEO=Quebec<br>YEAR=2017<br>Property=%{x}<br>Person=%{marker.size}<extra></extra>",
           "hovertext": [
            "Quebec"
           ],
           "legendgroup": "Quebec",
           "marker": {
            "color": "#636efa",
            "size": [
             2570
            ],
            "sizemode": "area",
            "sizeref": 2.4469444444444446,
            "symbol": "circle"
           },
           "mode": "markers",
           "name": "Quebec",
           "orientation": "v",
           "showlegend": true,
           "type": "scatter",
           "x": [
            1318
           ],
           "xaxis": "x",
           "y": [
            2570
           ],
           "yaxis": "y"
          },
          {
           "hovertemplate": "<b>%{hovertext}</b><br><br>GEO=Saskatchewan<br>YEAR=2017<br>Property=%{x}<br>Person=%{marker.size}<extra></extra>",
           "hovertext": [
            "Saskatchewan"
           ],
           "legendgroup": "Saskatchewan",
           "marker": {
            "color": "#EF553B",
            "size": [
             576
            ],
            "sizemode": "area",
            "sizeref": 2.4469444444444446,
            "symbol": "circle"
           },
           "mode": "markers",
           "name": "Saskatchewan",
           "orientation": "v",
           "showlegend": true,
           "type": "scatter",
           "x": [
            983
           ],
           "xaxis": "x",
           "y": [
            576
           ],
           "yaxis": "y"
          },
          {
           "hovertemplate": "<b>%{hovertext}</b><br><br>GEO=Yukon<br>YEAR=2017<br>Property=%{x}<br>Person=%{marker.size}<extra></extra>",
           "hovertext": [
            "Yukon"
           ],
           "legendgroup": "Yukon",
           "marker": {
            "color": "#00cc96",
            "size": [
             29
            ],
            "sizemode": "area",
            "sizeref": 2.4469444444444446,
            "symbol": "circle"
           },
           "mode": "markers",
           "name": "Yukon",
           "orientation": "v",
           "showlegend": true,
           "type": "scatter",
           "x": [
            15
           ],
           "xaxis": "x",
           "y": [
            29
           ],
           "yaxis": "y"
          }
         ],
         "name": "2017"
        },
        {
         "data": [
          {
           "hovertemplate": "<b>%{hovertext}</b><br><br>GEO=Alberta<br>YEAR=2018<br>Property=%{x}<br>Person=%{marker.size}<extra></extra>",
           "hovertext": [
            "Alberta"
           ],
           "legendgroup": "Alberta",
           "marker": {
            "color": "#636efa",
            "size": [
             1213
            ],
            "sizemode": "area",
            "sizeref": 2.4469444444444446,
            "symbol": "circle"
           },
           "mode": "markers",
           "name": "Alberta",
           "orientation": "v",
           "showlegend": true,
           "type": "scatter",
           "x": [
            1349
           ],
           "xaxis": "x",
           "y": [
            1213
           ],
           "yaxis": "y"
          },
          {
           "hovertemplate": "<b>%{hovertext}</b><br><br>GEO=British Columbia<br>YEAR=2018<br>Property=%{x}<br>Person=%{marker.size}<extra></extra>",
           "hovertext": [
            "British Columbia"
           ],
           "legendgroup": "British Columbia",
           "marker": {
            "color": "#EF553B",
            "size": [
             601
            ],
            "sizemode": "area",
            "sizeref": 2.4469444444444446,
            "symbol": "circle"
           },
           "mode": "markers",
           "name": "British Columbia",
           "orientation": "v",
           "showlegend": true,
           "type": "scatter",
           "x": [
            324
           ],
           "xaxis": "x",
           "y": [
            601
           ],
           "yaxis": "y"
          },
          {
           "hovertemplate": "<b>%{hovertext}</b><br><br>GEO=Manitoba<br>YEAR=2018<br>Property=%{x}<br>Person=%{marker.size}<extra></extra>",
           "hovertext": [
            "Manitoba"
           ],
           "legendgroup": "Manitoba",
           "marker": {
            "color": "#00cc96",
            "size": [
             711
            ],
            "sizemode": "area",
            "sizeref": 2.4469444444444446,
            "symbol": "circle"
           },
           "mode": "markers",
           "name": "Manitoba",
           "orientation": "v",
           "showlegend": true,
           "type": "scatter",
           "x": [
            527
           ],
           "xaxis": "x",
           "y": [
            711
           ],
           "yaxis": "y"
          },
          {
           "hovertemplate": "<b>%{hovertext}</b><br><br>GEO=New Brunswick<br>YEAR=2018<br>Property=%{x}<br>Person=%{marker.size}<extra></extra>",
           "hovertext": [
            "New Brunswick"
           ],
           "legendgroup": "New Brunswick",
           "marker": {
            "color": "#ab63fa",
            "size": [
             182
            ],
            "sizemode": "area",
            "sizeref": 2.4469444444444446,
            "symbol": "circle"
           },
           "mode": "markers",
           "name": "New Brunswick",
           "orientation": "v",
           "showlegend": true,
           "type": "scatter",
           "x": [
            149
           ],
           "xaxis": "x",
           "y": [
            182
           ],
           "yaxis": "y"
          },
          {
           "hovertemplate": "<b>%{hovertext}</b><br><br>GEO=Newfoundland and Labrador<br>YEAR=2018<br>Property=%{x}<br>Person=%{marker.size}<extra></extra>",
           "hovertext": [
            "Newfoundland and Labrador"
           ],
           "legendgroup": "Newfoundland and Labrador",
           "marker": {
            "color": "#FFA15A",
            "size": [
             150
            ],
            "sizemode": "area",
            "sizeref": 2.4469444444444446,
            "symbol": "circle"
           },
           "mode": "markers",
           "name": "Newfoundland and Labrador",
           "orientation": "v",
           "showlegend": true,
           "type": "scatter",
           "x": [
            133
           ],
           "xaxis": "x",
           "y": [
            150
           ],
           "yaxis": "y"
          },
          {
           "hovertemplate": "<b>%{hovertext}</b><br><br>GEO=Northwest Territories<br>YEAR=2018<br>Property=%{x}<br>Person=%{marker.size}<extra></extra>",
           "hovertext": [
            "Northwest Territories"
           ],
           "legendgroup": "Northwest Territories",
           "marker": {
            "color": "#19d3f3",
            "size": [
             31
            ],
            "sizemode": "area",
            "sizeref": 2.4469444444444446,
            "symbol": "circle"
           },
           "mode": "markers",
           "name": "Northwest Territories",
           "orientation": "v",
           "showlegend": true,
           "type": "scatter",
           "x": [
            27
           ],
           "xaxis": "x",
           "y": [
            31
           ],
           "yaxis": "y"
          },
          {
           "hovertemplate": "<b>%{hovertext}</b><br><br>GEO=Nova Scotia<br>YEAR=2018<br>Property=%{x}<br>Person=%{marker.size}<extra></extra>",
           "hovertext": [
            "Nova Scotia"
           ],
           "legendgroup": "Nova Scotia",
           "marker": {
            "color": "#FF6692",
            "size": [
             309
            ],
            "sizemode": "area",
            "sizeref": 2.4469444444444446,
            "symbol": "circle"
           },
           "mode": "markers",
           "name": "Nova Scotia",
           "orientation": "v",
           "showlegend": true,
           "type": "scatter",
           "x": [
            207
           ],
           "xaxis": "x",
           "y": [
            309
           ],
           "yaxis": "y"
          },
          {
           "hovertemplate": "<b>%{hovertext}</b><br><br>GEO=Nunavut<br>YEAR=2018<br>Property=%{x}<br>Person=%{marker.size}<extra></extra>",
           "hovertext": [
            "Nunavut"
           ],
           "legendgroup": "Nunavut",
           "marker": {
            "color": "#B6E880",
            "size": [
             36
            ],
            "sizemode": "area",
            "sizeref": 2.4469444444444446,
            "symbol": "circle"
           },
           "mode": "markers",
           "name": "Nunavut",
           "orientation": "v",
           "showlegend": true,
           "type": "scatter",
           "x": [
            34
           ],
           "xaxis": "x",
           "y": [
            36
           ],
           "yaxis": "y"
          },
          {
           "hovertemplate": "<b>%{hovertext}</b><br><br>GEO=Ontario<br>YEAR=2018<br>Property=%{x}<br>Person=%{marker.size}<extra></extra>",
           "hovertext": [
            "Ontario"
           ],
           "legendgroup": "Ontario",
           "marker": {
            "color": "#FF97FF",
            "size": [
             3565
            ],
            "sizemode": "area",
            "sizeref": 2.4469444444444446,
            "symbol": "circle"
           },
           "mode": "markers",
           "name": "Ontario",
           "orientation": "v",
           "showlegend": true,
           "type": "scatter",
           "x": [
            2446
           ],
           "xaxis": "x",
           "y": [
            3565
           ],
           "yaxis": "y"
          },
          {
           "hovertemplate": "<b>%{hovertext}</b><br><br>GEO=Prince Edward Island<br>YEAR=2018<br>Property=%{x}<br>Person=%{marker.size}<extra></extra>",
           "hovertext": [
            "Prince Edward Island"
           ],
           "legendgroup": "Prince Edward Island",
           "marker": {
            "color": "#FECB52",
            "size": [
             43
            ],
            "sizemode": "area",
            "sizeref": 2.4469444444444446,
            "symbol": "circle"
           },
           "mode": "markers",
           "name": "Prince Edward Island",
           "orientation": "v",
           "showlegend": true,
           "type": "scatter",
           "x": [
            16
           ],
           "xaxis": "x",
           "y": [
            43
           ],
           "yaxis": "y"
          },
          {
           "hovertemplate": "<b>%{hovertext}</b><br><br>GEO=Quebec<br>YEAR=2018<br>Property=%{x}<br>Person=%{marker.size}<extra></extra>",
           "hovertext": [
            "Quebec"
           ],
           "legendgroup": "Quebec",
           "marker": {
            "color": "#636efa",
            "size": [
             2602
            ],
            "sizemode": "area",
            "sizeref": 2.4469444444444446,
            "symbol": "circle"
           },
           "mode": "markers",
           "name": "Quebec",
           "orientation": "v",
           "showlegend": true,
           "type": "scatter",
           "x": [
            1149
           ],
           "xaxis": "x",
           "y": [
            2602
           ],
           "yaxis": "y"
          },
          {
           "hovertemplate": "<b>%{hovertext}</b><br><br>GEO=Saskatchewan<br>YEAR=2018<br>Property=%{x}<br>Person=%{marker.size}<extra></extra>",
           "hovertext": [
            "Saskatchewan"
           ],
           "legendgroup": "Saskatchewan",
           "marker": {
            "color": "#EF553B",
            "size": [
             609
            ],
            "sizemode": "area",
            "sizeref": 2.4469444444444446,
            "symbol": "circle"
           },
           "mode": "markers",
           "name": "Saskatchewan",
           "orientation": "v",
           "showlegend": true,
           "type": "scatter",
           "x": [
            769
           ],
           "xaxis": "x",
           "y": [
            609
           ],
           "yaxis": "y"
          },
          {
           "hovertemplate": "<b>%{hovertext}</b><br><br>GEO=Yukon<br>YEAR=2018<br>Property=%{x}<br>Person=%{marker.size}<extra></extra>",
           "hovertext": [
            "Yukon"
           ],
           "legendgroup": "Yukon",
           "marker": {
            "color": "#00cc96",
            "size": [
             13
            ],
            "sizemode": "area",
            "sizeref": 2.4469444444444446,
            "symbol": "circle"
           },
           "mode": "markers",
           "name": "Yukon",
           "orientation": "v",
           "showlegend": true,
           "type": "scatter",
           "x": [
            11
           ],
           "xaxis": "x",
           "y": [
            13
           ],
           "yaxis": "y"
          }
         ],
         "name": "2018"
        },
        {
         "data": [
          {
           "hovertemplate": "<b>%{hovertext}</b><br><br>GEO=Alberta<br>YEAR=2019<br>Property=%{x}<br>Person=%{marker.size}<extra></extra>",
           "hovertext": [
            "Alberta"
           ],
           "legendgroup": "Alberta",
           "marker": {
            "color": "#636efa",
            "size": [
             1256
            ],
            "sizemode": "area",
            "sizeref": 2.4469444444444446,
            "symbol": "circle"
           },
           "mode": "markers",
           "name": "Alberta",
           "orientation": "v",
           "showlegend": true,
           "type": "scatter",
           "x": [
            1143
           ],
           "xaxis": "x",
           "y": [
            1256
           ],
           "yaxis": "y"
          },
          {
           "hovertemplate": "<b>%{hovertext}</b><br><br>GEO=British Columbia<br>YEAR=2019<br>Property=%{x}<br>Person=%{marker.size}<extra></extra>",
           "hovertext": [
            "British Columbia"
           ],
           "legendgroup": "British Columbia",
           "marker": {
            "color": "#EF553B",
            "size": [
             597
            ],
            "sizemode": "area",
            "sizeref": 2.4469444444444446,
            "symbol": "circle"
           },
           "mode": "markers",
           "name": "British Columbia",
           "orientation": "v",
           "showlegend": true,
           "type": "scatter",
           "x": [
            290
           ],
           "xaxis": "x",
           "y": [
            597
           ],
           "yaxis": "y"
          },
          {
           "hovertemplate": "<b>%{hovertext}</b><br><br>GEO=Manitoba<br>YEAR=2019<br>Property=%{x}<br>Person=%{marker.size}<extra></extra>",
           "hovertext": [
            "Manitoba"
           ],
           "legendgroup": "Manitoba",
           "marker": {
            "color": "#00cc96",
            "size": [
             652
            ],
            "sizemode": "area",
            "sizeref": 2.4469444444444446,
            "symbol": "circle"
           },
           "mode": "markers",
           "name": "Manitoba",
           "orientation": "v",
           "showlegend": true,
           "type": "scatter",
           "x": [
            376
           ],
           "xaxis": "x",
           "y": [
            652
           ],
           "yaxis": "y"
          },
          {
           "hovertemplate": "<b>%{hovertext}</b><br><br>GEO=New Brunswick<br>YEAR=2019<br>Property=%{x}<br>Person=%{marker.size}<extra></extra>",
           "hovertext": [
            "New Brunswick"
           ],
           "legendgroup": "New Brunswick",
           "marker": {
            "color": "#ab63fa",
            "size": [
             184
            ],
            "sizemode": "area",
            "sizeref": 2.4469444444444446,
            "symbol": "circle"
           },
           "mode": "markers",
           "name": "New Brunswick",
           "orientation": "v",
           "showlegend": true,
           "type": "scatter",
           "x": [
            109
           ],
           "xaxis": "x",
           "y": [
            184
           ],
           "yaxis": "y"
          },
          {
           "hovertemplate": "<b>%{hovertext}</b><br><br>GEO=Newfoundland and Labrador<br>YEAR=2019<br>Property=%{x}<br>Person=%{marker.size}<extra></extra>",
           "hovertext": [
            "Newfoundland and Labrador"
           ],
           "legendgroup": "Newfoundland and Labrador",
           "marker": {
            "color": "#FFA15A",
            "size": [
             144
            ],
            "sizemode": "area",
            "sizeref": 2.4469444444444446,
            "symbol": "circle"
           },
           "mode": "markers",
           "name": "Newfoundland and Labrador",
           "orientation": "v",
           "showlegend": true,
           "type": "scatter",
           "x": [
            106
           ],
           "xaxis": "x",
           "y": [
            144
           ],
           "yaxis": "y"
          },
          {
           "hovertemplate": "<b>%{hovertext}</b><br><br>GEO=Northwest Territories<br>YEAR=2019<br>Property=%{x}<br>Person=%{marker.size}<extra></extra>",
           "hovertext": [
            "Northwest Territories"
           ],
           "legendgroup": "Northwest Territories",
           "marker": {
            "color": "#19d3f3",
            "size": [
             33
            ],
            "sizemode": "area",
            "sizeref": 2.4469444444444446,
            "symbol": "circle"
           },
           "mode": "markers",
           "name": "Northwest Territories",
           "orientation": "v",
           "showlegend": true,
           "type": "scatter",
           "x": [
            14
           ],
           "xaxis": "x",
           "y": [
            33
           ],
           "yaxis": "y"
          },
          {
           "hovertemplate": "<b>%{hovertext}</b><br><br>GEO=Nova Scotia<br>YEAR=2019<br>Property=%{x}<br>Person=%{marker.size}<extra></extra>",
           "hovertext": [
            "Nova Scotia"
           ],
           "legendgroup": "Nova Scotia",
           "marker": {
            "color": "#FF6692",
            "size": [
             295
            ],
            "sizemode": "area",
            "sizeref": 2.4469444444444446,
            "symbol": "circle"
           },
           "mode": "markers",
           "name": "Nova Scotia",
           "orientation": "v",
           "showlegend": true,
           "type": "scatter",
           "x": [
            161
           ],
           "xaxis": "x",
           "y": [
            295
           ],
           "yaxis": "y"
          },
          {
           "hovertemplate": "<b>%{hovertext}</b><br><br>GEO=Nunavut<br>YEAR=2019<br>Property=%{x}<br>Person=%{marker.size}<extra></extra>",
           "hovertext": [
            "Nunavut"
           ],
           "legendgroup": "Nunavut",
           "marker": {
            "color": "#B6E880",
            "size": [
             51
            ],
            "sizemode": "area",
            "sizeref": 2.4469444444444446,
            "symbol": "circle"
           },
           "mode": "markers",
           "name": "Nunavut",
           "orientation": "v",
           "showlegend": true,
           "type": "scatter",
           "x": [
            32
           ],
           "xaxis": "x",
           "y": [
            51
           ],
           "yaxis": "y"
          },
          {
           "hovertemplate": "<b>%{hovertext}</b><br><br>GEO=Ontario<br>YEAR=2019<br>Property=%{x}<br>Person=%{marker.size}<extra></extra>",
           "hovertext": [
            "Ontario"
           ],
           "legendgroup": "Ontario",
           "marker": {
            "color": "#FF97FF",
            "size": [
             3880
            ],
            "sizemode": "area",
            "sizeref": 2.4469444444444446,
            "symbol": "circle"
           },
           "mode": "markers",
           "name": "Ontario",
           "orientation": "v",
           "showlegend": true,
           "type": "scatter",
           "x": [
            2083
           ],
           "xaxis": "x",
           "y": [
            3880
           ],
           "yaxis": "y"
          },
          {
           "hovertemplate": "<b>%{hovertext}</b><br><br>GEO=Prince Edward Island<br>YEAR=2019<br>Property=%{x}<br>Person=%{marker.size}<extra></extra>",
           "hovertext": [
            "Prince Edward Island"
           ],
           "legendgroup": "Prince Edward Island",
           "marker": {
            "color": "#FECB52",
            "size": [
             29
            ],
            "sizemode": "area",
            "sizeref": 2.4469444444444446,
            "symbol": "circle"
           },
           "mode": "markers",
           "name": "Prince Edward Island",
           "orientation": "v",
           "showlegend": true,
           "type": "scatter",
           "x": [
            26
           ],
           "xaxis": "x",
           "y": [
            29
           ],
           "yaxis": "y"
          },
          {
           "hovertemplate": "<b>%{hovertext}</b><br><br>GEO=Quebec<br>YEAR=2019<br>Property=%{x}<br>Person=%{marker.size}<extra></extra>",
           "hovertext": [
            "Quebec"
           ],
           "legendgroup": "Quebec",
           "marker": {
            "color": "#636efa",
            "size": [
             2515
            ],
            "sizemode": "area",
            "sizeref": 2.4469444444444446,
            "symbol": "circle"
           },
           "mode": "markers",
           "name": "Quebec",
           "orientation": "v",
           "showlegend": true,
           "type": "scatter",
           "x": [
            1027
           ],
           "xaxis": "x",
           "y": [
            2515
           ],
           "yaxis": "y"
          },
          {
           "hovertemplate": "<b>%{hovertext}</b><br><br>GEO=Saskatchewan<br>YEAR=2019<br>Property=%{x}<br>Person=%{marker.size}<extra></extra>",
           "hovertext": [
            "Saskatchewan"
           ],
           "legendgroup": "Saskatchewan",
           "marker": {
            "color": "#EF553B",
            "size": [
             616
            ],
            "sizemode": "area",
            "sizeref": 2.4469444444444446,
            "symbol": "circle"
           },
           "mode": "markers",
           "name": "Saskatchewan",
           "orientation": "v",
           "showlegend": true,
           "type": "scatter",
           "x": [
            689
           ],
           "xaxis": "x",
           "y": [
            616
           ],
           "yaxis": "y"
          },
          {
           "hovertemplate": "<b>%{hovertext}</b><br><br>GEO=Yukon<br>YEAR=2019<br>Property=%{x}<br>Person=%{marker.size}<extra></extra>",
           "hovertext": [
            "Yukon"
           ],
           "legendgroup": "Yukon",
           "marker": {
            "color": "#00cc96",
            "size": [
             16
            ],
            "sizemode": "area",
            "sizeref": 2.4469444444444446,
            "symbol": "circle"
           },
           "mode": "markers",
           "name": "Yukon",
           "orientation": "v",
           "showlegend": true,
           "type": "scatter",
           "x": [
            10
           ],
           "xaxis": "x",
           "y": [
            16
           ],
           "yaxis": "y"
          }
         ],
         "name": "2019"
        },
        {
         "data": [
          {
           "hovertemplate": "<b>%{hovertext}</b><br><br>GEO=Alberta<br>YEAR=2020<br>Property=%{x}<br>Person=%{marker.size}<extra></extra>",
           "hovertext": [
            "Alberta"
           ],
           "legendgroup": "Alberta",
           "marker": {
            "color": "#636efa",
            "size": [
             943
            ],
            "sizemode": "area",
            "sizeref": 2.4469444444444446,
            "symbol": "circle"
           },
           "mode": "markers",
           "name": "Alberta",
           "orientation": "v",
           "showlegend": true,
           "type": "scatter",
           "x": [
            631
           ],
           "xaxis": "x",
           "y": [
            943
           ],
           "yaxis": "y"
          },
          {
           "hovertemplate": "<b>%{hovertext}</b><br><br>GEO=British Columbia<br>YEAR=2020<br>Property=%{x}<br>Person=%{marker.size}<extra></extra>",
           "hovertext": [
            "British Columbia"
           ],
           "legendgroup": "British Columbia",
           "marker": {
            "color": "#EF553B",
            "size": [
             499
            ],
            "sizemode": "area",
            "sizeref": 2.4469444444444446,
            "symbol": "circle"
           },
           "mode": "markers",
           "name": "British Columbia",
           "orientation": "v",
           "showlegend": true,
           "type": "scatter",
           "x": [
            191
           ],
           "xaxis": "x",
           "y": [
            499
           ],
           "yaxis": "y"
          },
          {
           "hovertemplate": "<b>%{hovertext}</b><br><br>GEO=Manitoba<br>YEAR=2020<br>Property=%{x}<br>Person=%{marker.size}<extra></extra>",
           "hovertext": [
            "Manitoba"
           ],
           "legendgroup": "Manitoba",
           "marker": {
            "color": "#00cc96",
            "size": [
             311
            ],
            "sizemode": "area",
            "sizeref": 2.4469444444444446,
            "symbol": "circle"
           },
           "mode": "markers",
           "name": "Manitoba",
           "orientation": "v",
           "showlegend": true,
           "type": "scatter",
           "x": [
            216
           ],
           "xaxis": "x",
           "y": [
            311
           ],
           "yaxis": "y"
          },
          {
           "hovertemplate": "<b>%{hovertext}</b><br><br>GEO=New Brunswick<br>YEAR=2020<br>Property=%{x}<br>Person=%{marker.size}<extra></extra>",
           "hovertext": [
            "New Brunswick"
           ],
           "legendgroup": "New Brunswick",
           "marker": {
            "color": "#ab63fa",
            "size": [
             126
            ],
            "sizemode": "area",
            "sizeref": 2.4469444444444446,
            "symbol": "circle"
           },
           "mode": "markers",
           "name": "New Brunswick",
           "orientation": "v",
           "showlegend": true,
           "type": "scatter",
           "x": [
            89
           ],
           "xaxis": "x",
           "y": [
            126
           ],
           "yaxis": "y"
          },
          {
           "hovertemplate": "<b>%{hovertext}</b><br><br>GEO=Newfoundland and Labrador<br>YEAR=2020<br>Property=%{x}<br>Person=%{marker.size}<extra></extra>",
           "hovertext": [
            "Newfoundland and Labrador"
           ],
           "legendgroup": "Newfoundland and Labrador",
           "marker": {
            "color": "#FFA15A",
            "size": [
             126
            ],
            "sizemode": "area",
            "sizeref": 2.4469444444444446,
            "symbol": "circle"
           },
           "mode": "markers",
           "name": "Newfoundland and Labrador",
           "orientation": "v",
           "showlegend": true,
           "type": "scatter",
           "x": [
            57
           ],
           "xaxis": "x",
           "y": [
            126
           ],
           "yaxis": "y"
          },
          {
           "hovertemplate": "<b>%{hovertext}</b><br><br>GEO=Northwest Territories<br>YEAR=2020<br>Property=%{x}<br>Person=%{marker.size}<extra></extra>",
           "hovertext": [
            "Northwest Territories"
           ],
           "legendgroup": "Northwest Territories",
           "marker": {
            "color": "#19d3f3",
            "size": [
             14
            ],
            "sizemode": "area",
            "sizeref": 2.4469444444444446,
            "symbol": "circle"
           },
           "mode": "markers",
           "name": "Northwest Territories",
           "orientation": "v",
           "showlegend": true,
           "type": "scatter",
           "x": [
            8
           ],
           "xaxis": "x",
           "y": [
            14
           ],
           "yaxis": "y"
          },
          {
           "hovertemplate": "<b>%{hovertext}</b><br><br>GEO=Nova Scotia<br>YEAR=2020<br>Property=%{x}<br>Person=%{marker.size}<extra></extra>",
           "hovertext": [
            "Nova Scotia"
           ],
           "legendgroup": "Nova Scotia",
           "marker": {
            "color": "#FF6692",
            "size": [
             176
            ],
            "sizemode": "area",
            "sizeref": 2.4469444444444446,
            "symbol": "circle"
           },
           "mode": "markers",
           "name": "Nova Scotia",
           "orientation": "v",
           "showlegend": true,
           "type": "scatter",
           "x": [
            83
           ],
           "xaxis": "x",
           "y": [
            176
           ],
           "yaxis": "y"
          },
          {
           "hovertemplate": "<b>%{hovertext}</b><br><br>GEO=Nunavut<br>YEAR=2020<br>Property=%{x}<br>Person=%{marker.size}<extra></extra>",
           "hovertext": [
            "Nunavut"
           ],
           "legendgroup": "Nunavut",
           "marker": {
            "color": "#B6E880",
            "size": [
             44
            ],
            "sizemode": "area",
            "sizeref": 2.4469444444444446,
            "symbol": "circle"
           },
           "mode": "markers",
           "name": "Nunavut",
           "orientation": "v",
           "showlegend": true,
           "type": "scatter",
           "x": [
            29
           ],
           "xaxis": "x",
           "y": [
            44
           ],
           "yaxis": "y"
          },
          {
           "hovertemplate": "<b>%{hovertext}</b><br><br>GEO=Ontario<br>YEAR=2020<br>Property=%{x}<br>Person=%{marker.size}<extra></extra>",
           "hovertext": [
            "Ontario"
           ],
           "legendgroup": "Ontario",
           "marker": {
            "color": "#FF97FF",
            "size": [
             2444
            ],
            "sizemode": "area",
            "sizeref": 2.4469444444444446,
            "symbol": "circle"
           },
           "mode": "markers",
           "name": "Ontario",
           "orientation": "v",
           "showlegend": true,
           "type": "scatter",
           "x": [
            1154
           ],
           "xaxis": "x",
           "y": [
            2444
           ],
           "yaxis": "y"
          },
          {
           "hovertemplate": "<b>%{hovertext}</b><br><br>GEO=Prince Edward Island<br>YEAR=2020<br>Property=%{x}<br>Person=%{marker.size}<extra></extra>",
           "hovertext": [
            "Prince Edward Island"
           ],
           "legendgroup": "Prince Edward Island",
           "marker": {
            "color": "#FECB52",
            "size": [
             27
            ],
            "sizemode": "area",
            "sizeref": 2.4469444444444446,
            "symbol": "circle"
           },
           "mode": "markers",
           "name": "Prince Edward Island",
           "orientation": "v",
           "showlegend": true,
           "type": "scatter",
           "x": [
            11
           ],
           "xaxis": "x",
           "y": [
            27
           ],
           "yaxis": "y"
          },
          {
           "hovertemplate": "<b>%{hovertext}</b><br><br>GEO=Quebec<br>YEAR=2020<br>Property=%{x}<br>Person=%{marker.size}<extra></extra>",
           "hovertext": [
            "Quebec"
           ],
           "legendgroup": "Quebec",
           "marker": {
            "color": "#636efa",
            "size": [
             1953
            ],
            "sizemode": "area",
            "sizeref": 2.4469444444444446,
            "symbol": "circle"
           },
           "mode": "markers",
           "name": "Quebec",
           "orientation": "v",
           "showlegend": true,
           "type": "scatter",
           "x": [
            709
           ],
           "xaxis": "x",
           "y": [
            1953
           ],
           "yaxis": "y"
          },
          {
           "hovertemplate": "<b>%{hovertext}</b><br><br>GEO=Saskatchewan<br>YEAR=2020<br>Property=%{x}<br>Person=%{marker.size}<extra></extra>",
           "hovertext": [
            "Saskatchewan"
           ],
           "legendgroup": "Saskatchewan",
           "marker": {
            "color": "#EF553B",
            "size": [
             547
            ],
            "sizemode": "area",
            "sizeref": 2.4469444444444446,
            "symbol": "circle"
           },
           "mode": "markers",
           "name": "Saskatchewan",
           "orientation": "v",
           "showlegend": true,
           "type": "scatter",
           "x": [
            435
           ],
           "xaxis": "x",
           "y": [
            547
           ],
           "yaxis": "y"
          },
          {
           "hovertemplate": "<b>%{hovertext}</b><br><br>GEO=Yukon<br>YEAR=2020<br>Property=%{x}<br>Person=%{marker.size}<extra></extra>",
           "hovertext": [
            "Yukon"
           ],
           "legendgroup": "Yukon",
           "marker": {
            "color": "#00cc96",
            "size": [
             12
            ],
            "sizemode": "area",
            "sizeref": 2.4469444444444446,
            "symbol": "circle"
           },
           "mode": "markers",
           "name": "Yukon",
           "orientation": "v",
           "showlegend": true,
           "type": "scatter",
           "x": [
            9
           ],
           "xaxis": "x",
           "y": [
            12
           ],
           "yaxis": "y"
          }
         ],
         "name": "2020"
        },
        {
         "data": [
          {
           "hovertemplate": "<b>%{hovertext}</b><br><br>GEO=Alberta<br>YEAR=2021<br>Property=%{x}<br>Person=%{marker.size}<extra></extra>",
           "hovertext": [
            "Alberta"
           ],
           "legendgroup": "Alberta",
           "marker": {
            "color": "#636efa",
            "size": [
             914
            ],
            "sizemode": "area",
            "sizeref": 2.4469444444444446,
            "symbol": "circle"
           },
           "mode": "markers",
           "name": "Alberta",
           "orientation": "v",
           "showlegend": true,
           "type": "scatter",
           "x": [
            481
           ],
           "xaxis": "x",
           "y": [
            914
           ],
           "yaxis": "y"
          },
          {
           "hovertemplate": "<b>%{hovertext}</b><br><br>GEO=British Columbia<br>YEAR=2021<br>Property=%{x}<br>Person=%{marker.size}<extra></extra>",
           "hovertext": [
            "British Columbia"
           ],
           "legendgroup": "British Columbia",
           "marker": {
            "color": "#EF553B",
            "size": [
             535
            ],
            "sizemode": "area",
            "sizeref": 2.4469444444444446,
            "symbol": "circle"
           },
           "mode": "markers",
           "name": "British Columbia",
           "orientation": "v",
           "showlegend": true,
           "type": "scatter",
           "x": [
            142
           ],
           "xaxis": "x",
           "y": [
            535
           ],
           "yaxis": "y"
          },
          {
           "hovertemplate": "<b>%{hovertext}</b><br><br>GEO=Manitoba<br>YEAR=2021<br>Property=%{x}<br>Person=%{marker.size}<extra></extra>",
           "hovertext": [
            "Manitoba"
           ],
           "legendgroup": "Manitoba",
           "marker": {
            "color": "#00cc96",
            "size": [
             402
            ],
            "sizemode": "area",
            "sizeref": 2.4469444444444446,
            "symbol": "circle"
           },
           "mode": "markers",
           "name": "Manitoba",
           "orientation": "v",
           "showlegend": true,
           "type": "scatter",
           "x": [
            183
           ],
           "xaxis": "x",
           "y": [
            402
           ],
           "yaxis": "y"
          },
          {
           "hovertemplate": "<b>%{hovertext}</b><br><br>GEO=New Brunswick<br>YEAR=2021<br>Property=%{x}<br>Person=%{marker.size}<extra></extra>",
           "hovertext": [
            "New Brunswick"
           ],
           "legendgroup": "New Brunswick",
           "marker": {
            "color": "#ab63fa",
            "size": [
             108
            ],
            "sizemode": "area",
            "sizeref": 2.4469444444444446,
            "symbol": "circle"
           },
           "mode": "markers",
           "name": "New Brunswick",
           "orientation": "v",
           "showlegend": true,
           "type": "scatter",
           "x": [
            65
           ],
           "xaxis": "x",
           "y": [
            108
           ],
           "yaxis": "y"
          },
          {
           "hovertemplate": "<b>%{hovertext}</b><br><br>GEO=Newfoundland and Labrador<br>YEAR=2021<br>Property=%{x}<br>Person=%{marker.size}<extra></extra>",
           "hovertext": [
            "Newfoundland and Labrador"
           ],
           "legendgroup": "Newfoundland and Labrador",
           "marker": {
            "color": "#FFA15A",
            "size": [
             115
            ],
            "sizemode": "area",
            "sizeref": 2.4469444444444446,
            "symbol": "circle"
           },
           "mode": "markers",
           "name": "Newfoundland and Labrador",
           "orientation": "v",
           "showlegend": true,
           "type": "scatter",
           "x": [
            60
           ],
           "xaxis": "x",
           "y": [
            115
           ],
           "yaxis": "y"
          },
          {
           "hovertemplate": "<b>%{hovertext}</b><br><br>GEO=Northwest Territories<br>YEAR=2021<br>Property=%{x}<br>Person=%{marker.size}<extra></extra>",
           "hovertext": [
            "Northwest Territories"
           ],
           "legendgroup": "Northwest Territories",
           "marker": {
            "color": "#19d3f3",
            "size": [
             12
            ],
            "sizemode": "area",
            "sizeref": 2.4469444444444446,
            "symbol": "circle"
           },
           "mode": "markers",
           "name": "Northwest Territories",
           "orientation": "v",
           "showlegend": true,
           "type": "scatter",
           "x": [
            3
           ],
           "xaxis": "x",
           "y": [
            12
           ],
           "yaxis": "y"
          },
          {
           "hovertemplate": "<b>%{hovertext}</b><br><br>GEO=Nova Scotia<br>YEAR=2021<br>Property=%{x}<br>Person=%{marker.size}<extra></extra>",
           "hovertext": [
            "Nova Scotia"
           ],
           "legendgroup": "Nova Scotia",
           "marker": {
            "color": "#FF6692",
            "size": [
             200
            ],
            "sizemode": "area",
            "sizeref": 2.4469444444444446,
            "symbol": "circle"
           },
           "mode": "markers",
           "name": "Nova Scotia",
           "orientation": "v",
           "showlegend": true,
           "type": "scatter",
           "x": [
            101
           ],
           "xaxis": "x",
           "y": [
            200
           ],
           "yaxis": "y"
          },
          {
           "hovertemplate": "<b>%{hovertext}</b><br><br>GEO=Nunavut<br>YEAR=2021<br>Property=%{x}<br>Person=%{marker.size}<extra></extra>",
           "hovertext": [
            "Nunavut"
           ],
           "legendgroup": "Nunavut",
           "marker": {
            "color": "#B6E880",
            "size": [
             51
            ],
            "sizemode": "area",
            "sizeref": 2.4469444444444446,
            "symbol": "circle"
           },
           "mode": "markers",
           "name": "Nunavut",
           "orientation": "v",
           "showlegend": true,
           "type": "scatter",
           "x": [
            32
           ],
           "xaxis": "x",
           "y": [
            51
           ],
           "yaxis": "y"
          },
          {
           "hovertemplate": "<b>%{hovertext}</b><br><br>GEO=Ontario<br>YEAR=2021<br>Property=%{x}<br>Person=%{marker.size}<extra></extra>",
           "hovertext": [
            "Ontario"
           ],
           "legendgroup": "Ontario",
           "marker": {
            "color": "#FF97FF",
            "size": [
             2680
            ],
            "sizemode": "area",
            "sizeref": 2.4469444444444446,
            "symbol": "circle"
           },
           "mode": "markers",
           "name": "Ontario",
           "orientation": "v",
           "showlegend": true,
           "type": "scatter",
           "x": [
            1170
           ],
           "xaxis": "x",
           "y": [
            2680
           ],
           "yaxis": "y"
          },
          {
           "hovertemplate": "<b>%{hovertext}</b><br><br>GEO=Prince Edward Island<br>YEAR=2021<br>Property=%{x}<br>Person=%{marker.size}<extra></extra>",
           "hovertext": [
            "Prince Edward Island"
           ],
           "legendgroup": "Prince Edward Island",
           "marker": {
            "color": "#FECB52",
            "size": [
             17
            ],
            "sizemode": "area",
            "sizeref": 2.4469444444444446,
            "symbol": "circle"
           },
           "mode": "markers",
           "name": "Prince Edward Island",
           "orientation": "v",
           "showlegend": true,
           "type": "scatter",
           "x": [
            10
           ],
           "xaxis": "x",
           "y": [
            17
           ],
           "yaxis": "y"
          },
          {
           "hovertemplate": "<b>%{hovertext}</b><br><br>GEO=Quebec<br>YEAR=2021<br>Property=%{x}<br>Person=%{marker.size}<extra></extra>",
           "hovertext": [
            "Quebec"
           ],
           "legendgroup": "Quebec",
           "marker": {
            "color": "#636efa",
            "size": [
             0
            ],
            "sizemode": "area",
            "sizeref": 2.4469444444444446,
            "symbol": "circle"
           },
           "mode": "markers",
           "name": "Quebec",
           "orientation": "v",
           "showlegend": true,
           "type": "scatter",
           "x": [
            0
           ],
           "xaxis": "x",
           "y": [
            0
           ],
           "yaxis": "y"
          },
          {
           "hovertemplate": "<b>%{hovertext}</b><br><br>GEO=Saskatchewan<br>YEAR=2021<br>Property=%{x}<br>Person=%{marker.size}<extra></extra>",
           "hovertext": [
            "Saskatchewan"
           ],
           "legendgroup": "Saskatchewan",
           "marker": {
            "color": "#EF553B",
            "size": [
             505
            ],
            "sizemode": "area",
            "sizeref": 2.4469444444444446,
            "symbol": "circle"
           },
           "mode": "markers",
           "name": "Saskatchewan",
           "orientation": "v",
           "showlegend": true,
           "type": "scatter",
           "x": [
            303
           ],
           "xaxis": "x",
           "y": [
            505
           ],
           "yaxis": "y"
          },
          {
           "hovertemplate": "<b>%{hovertext}</b><br><br>GEO=Yukon<br>YEAR=2021<br>Property=%{x}<br>Person=%{marker.size}<extra></extra>",
           "hovertext": [
            "Yukon"
           ],
           "legendgroup": "Yukon",
           "marker": {
            "color": "#00cc96",
            "size": [
             10
            ],
            "sizemode": "area",
            "sizeref": 2.4469444444444446,
            "symbol": "circle"
           },
           "mode": "markers",
           "name": "Yukon",
           "orientation": "v",
           "showlegend": true,
           "type": "scatter",
           "x": [
            4
           ],
           "xaxis": "x",
           "y": [
            10
           ],
           "yaxis": "y"
          }
         ],
         "name": "2021"
        }
       ],
       "layout": {
        "legend": {
         "itemsizing": "constant",
         "title": {
          "text": "GEO"
         },
         "tracegroupgap": 0
        },
        "margin": {
         "t": 60
        },
        "sliders": [
         {
          "active": 0,
          "currentvalue": {
           "prefix": "YEAR="
          },
          "len": 0.9,
          "pad": {
           "b": 10,
           "t": 60
          },
          "steps": [
           {
            "args": [
             [
              "1999"
             ],
             {
              "frame": {
               "duration": 0,
               "redraw": false
              },
              "fromcurrent": true,
              "mode": "immediate",
              "transition": {
               "duration": 0,
               "easing": "linear"
              }
             }
            ],
            "label": "1999",
            "method": "animate"
           },
           {
            "args": [
             [
              "2000"
             ],
             {
              "frame": {
               "duration": 0,
               "redraw": false
              },
              "fromcurrent": true,
              "mode": "immediate",
              "transition": {
               "duration": 0,
               "easing": "linear"
              }
             }
            ],
            "label": "2000",
            "method": "animate"
           },
           {
            "args": [
             [
              "2001"
             ],
             {
              "frame": {
               "duration": 0,
               "redraw": false
              },
              "fromcurrent": true,
              "mode": "immediate",
              "transition": {
               "duration": 0,
               "easing": "linear"
              }
             }
            ],
            "label": "2001",
            "method": "animate"
           },
           {
            "args": [
             [
              "2002"
             ],
             {
              "frame": {
               "duration": 0,
               "redraw": false
              },
              "fromcurrent": true,
              "mode": "immediate",
              "transition": {
               "duration": 0,
               "easing": "linear"
              }
             }
            ],
            "label": "2002",
            "method": "animate"
           },
           {
            "args": [
             [
              "2003"
             ],
             {
              "frame": {
               "duration": 0,
               "redraw": false
              },
              "fromcurrent": true,
              "mode": "immediate",
              "transition": {
               "duration": 0,
               "easing": "linear"
              }
             }
            ],
            "label": "2003",
            "method": "animate"
           },
           {
            "args": [
             [
              "2004"
             ],
             {
              "frame": {
               "duration": 0,
               "redraw": false
              },
              "fromcurrent": true,
              "mode": "immediate",
              "transition": {
               "duration": 0,
               "easing": "linear"
              }
             }
            ],
            "label": "2004",
            "method": "animate"
           },
           {
            "args": [
             [
              "2005"
             ],
             {
              "frame": {
               "duration": 0,
               "redraw": false
              },
              "fromcurrent": true,
              "mode": "immediate",
              "transition": {
               "duration": 0,
               "easing": "linear"
              }
             }
            ],
            "label": "2005",
            "method": "animate"
           },
           {
            "args": [
             [
              "2006"
             ],
             {
              "frame": {
               "duration": 0,
               "redraw": false
              },
              "fromcurrent": true,
              "mode": "immediate",
              "transition": {
               "duration": 0,
               "easing": "linear"
              }
             }
            ],
            "label": "2006",
            "method": "animate"
           },
           {
            "args": [
             [
              "2007"
             ],
             {
              "frame": {
               "duration": 0,
               "redraw": false
              },
              "fromcurrent": true,
              "mode": "immediate",
              "transition": {
               "duration": 0,
               "easing": "linear"
              }
             }
            ],
            "label": "2007",
            "method": "animate"
           },
           {
            "args": [
             [
              "2008"
             ],
             {
              "frame": {
               "duration": 0,
               "redraw": false
              },
              "fromcurrent": true,
              "mode": "immediate",
              "transition": {
               "duration": 0,
               "easing": "linear"
              }
             }
            ],
            "label": "2008",
            "method": "animate"
           },
           {
            "args": [
             [
              "2009"
             ],
             {
              "frame": {
               "duration": 0,
               "redraw": false
              },
              "fromcurrent": true,
              "mode": "immediate",
              "transition": {
               "duration": 0,
               "easing": "linear"
              }
             }
            ],
            "label": "2009",
            "method": "animate"
           },
           {
            "args": [
             [
              "2010"
             ],
             {
              "frame": {
               "duration": 0,
               "redraw": false
              },
              "fromcurrent": true,
              "mode": "immediate",
              "transition": {
               "duration": 0,
               "easing": "linear"
              }
             }
            ],
            "label": "2010",
            "method": "animate"
           },
           {
            "args": [
             [
              "2011"
             ],
             {
              "frame": {
               "duration": 0,
               "redraw": false
              },
              "fromcurrent": true,
              "mode": "immediate",
              "transition": {
               "duration": 0,
               "easing": "linear"
              }
             }
            ],
            "label": "2011",
            "method": "animate"
           },
           {
            "args": [
             [
              "2012"
             ],
             {
              "frame": {
               "duration": 0,
               "redraw": false
              },
              "fromcurrent": true,
              "mode": "immediate",
              "transition": {
               "duration": 0,
               "easing": "linear"
              }
             }
            ],
            "label": "2012",
            "method": "animate"
           },
           {
            "args": [
             [
              "2013"
             ],
             {
              "frame": {
               "duration": 0,
               "redraw": false
              },
              "fromcurrent": true,
              "mode": "immediate",
              "transition": {
               "duration": 0,
               "easing": "linear"
              }
             }
            ],
            "label": "2013",
            "method": "animate"
           },
           {
            "args": [
             [
              "2014"
             ],
             {
              "frame": {
               "duration": 0,
               "redraw": false
              },
              "fromcurrent": true,
              "mode": "immediate",
              "transition": {
               "duration": 0,
               "easing": "linear"
              }
             }
            ],
            "label": "2014",
            "method": "animate"
           },
           {
            "args": [
             [
              "2015"
             ],
             {
              "frame": {
               "duration": 0,
               "redraw": false
              },
              "fromcurrent": true,
              "mode": "immediate",
              "transition": {
               "duration": 0,
               "easing": "linear"
              }
             }
            ],
            "label": "2015",
            "method": "animate"
           },
           {
            "args": [
             [
              "2016"
             ],
             {
              "frame": {
               "duration": 0,
               "redraw": false
              },
              "fromcurrent": true,
              "mode": "immediate",
              "transition": {
               "duration": 0,
               "easing": "linear"
              }
             }
            ],
            "label": "2016",
            "method": "animate"
           },
           {
            "args": [
             [
              "2017"
             ],
             {
              "frame": {
               "duration": 0,
               "redraw": false
              },
              "fromcurrent": true,
              "mode": "immediate",
              "transition": {
               "duration": 0,
               "easing": "linear"
              }
             }
            ],
            "label": "2017",
            "method": "animate"
           },
           {
            "args": [
             [
              "2018"
             ],
             {
              "frame": {
               "duration": 0,
               "redraw": false
              },
              "fromcurrent": true,
              "mode": "immediate",
              "transition": {
               "duration": 0,
               "easing": "linear"
              }
             }
            ],
            "label": "2018",
            "method": "animate"
           },
           {
            "args": [
             [
              "2019"
             ],
             {
              "frame": {
               "duration": 0,
               "redraw": false
              },
              "fromcurrent": true,
              "mode": "immediate",
              "transition": {
               "duration": 0,
               "easing": "linear"
              }
             }
            ],
            "label": "2019",
            "method": "animate"
           },
           {
            "args": [
             [
              "2020"
             ],
             {
              "frame": {
               "duration": 0,
               "redraw": false
              },
              "fromcurrent": true,
              "mode": "immediate",
              "transition": {
               "duration": 0,
               "easing": "linear"
              }
             }
            ],
            "label": "2020",
            "method": "animate"
           },
           {
            "args": [
             [
              "2021"
             ],
             {
              "frame": {
               "duration": 0,
               "redraw": false
              },
              "fromcurrent": true,
              "mode": "immediate",
              "transition": {
               "duration": 0,
               "easing": "linear"
              }
             }
            ],
            "label": "2021",
            "method": "animate"
           }
          ],
          "x": 0.1,
          "xanchor": "left",
          "y": 0,
          "yanchor": "top"
         }
        ],
        "template": {
         "data": {
          "bar": [
           {
            "error_x": {
             "color": "#2a3f5f"
            },
            "error_y": {
             "color": "#2a3f5f"
            },
            "marker": {
             "line": {
              "color": "#E5ECF6",
              "width": 0.5
             },
             "pattern": {
              "fillmode": "overlay",
              "size": 10,
              "solidity": 0.2
             }
            },
            "type": "bar"
           }
          ],
          "barpolar": [
           {
            "marker": {
             "line": {
              "color": "#E5ECF6",
              "width": 0.5
             },
             "pattern": {
              "fillmode": "overlay",
              "size": 10,
              "solidity": 0.2
             }
            },
            "type": "barpolar"
           }
          ],
          "carpet": [
           {
            "aaxis": {
             "endlinecolor": "#2a3f5f",
             "gridcolor": "white",
             "linecolor": "white",
             "minorgridcolor": "white",
             "startlinecolor": "#2a3f5f"
            },
            "baxis": {
             "endlinecolor": "#2a3f5f",
             "gridcolor": "white",
             "linecolor": "white",
             "minorgridcolor": "white",
             "startlinecolor": "#2a3f5f"
            },
            "type": "carpet"
           }
          ],
          "choropleth": [
           {
            "colorbar": {
             "outlinewidth": 0,
             "ticks": ""
            },
            "type": "choropleth"
           }
          ],
          "contour": [
           {
            "colorbar": {
             "outlinewidth": 0,
             "ticks": ""
            },
            "colorscale": [
             [
              0,
              "#0d0887"
             ],
             [
              0.1111111111111111,
              "#46039f"
             ],
             [
              0.2222222222222222,
              "#7201a8"
             ],
             [
              0.3333333333333333,
              "#9c179e"
             ],
             [
              0.4444444444444444,
              "#bd3786"
             ],
             [
              0.5555555555555556,
              "#d8576b"
             ],
             [
              0.6666666666666666,
              "#ed7953"
             ],
             [
              0.7777777777777778,
              "#fb9f3a"
             ],
             [
              0.8888888888888888,
              "#fdca26"
             ],
             [
              1,
              "#f0f921"
             ]
            ],
            "type": "contour"
           }
          ],
          "contourcarpet": [
           {
            "colorbar": {
             "outlinewidth": 0,
             "ticks": ""
            },
            "type": "contourcarpet"
           }
          ],
          "heatmap": [
           {
            "colorbar": {
             "outlinewidth": 0,
             "ticks": ""
            },
            "colorscale": [
             [
              0,
              "#0d0887"
             ],
             [
              0.1111111111111111,
              "#46039f"
             ],
             [
              0.2222222222222222,
              "#7201a8"
             ],
             [
              0.3333333333333333,
              "#9c179e"
             ],
             [
              0.4444444444444444,
              "#bd3786"
             ],
             [
              0.5555555555555556,
              "#d8576b"
             ],
             [
              0.6666666666666666,
              "#ed7953"
             ],
             [
              0.7777777777777778,
              "#fb9f3a"
             ],
             [
              0.8888888888888888,
              "#fdca26"
             ],
             [
              1,
              "#f0f921"
             ]
            ],
            "type": "heatmap"
           }
          ],
          "heatmapgl": [
           {
            "colorbar": {
             "outlinewidth": 0,
             "ticks": ""
            },
            "colorscale": [
             [
              0,
              "#0d0887"
             ],
             [
              0.1111111111111111,
              "#46039f"
             ],
             [
              0.2222222222222222,
              "#7201a8"
             ],
             [
              0.3333333333333333,
              "#9c179e"
             ],
             [
              0.4444444444444444,
              "#bd3786"
             ],
             [
              0.5555555555555556,
              "#d8576b"
             ],
             [
              0.6666666666666666,
              "#ed7953"
             ],
             [
              0.7777777777777778,
              "#fb9f3a"
             ],
             [
              0.8888888888888888,
              "#fdca26"
             ],
             [
              1,
              "#f0f921"
             ]
            ],
            "type": "heatmapgl"
           }
          ],
          "histogram": [
           {
            "marker": {
             "pattern": {
              "fillmode": "overlay",
              "size": 10,
              "solidity": 0.2
             }
            },
            "type": "histogram"
           }
          ],
          "histogram2d": [
           {
            "colorbar": {
             "outlinewidth": 0,
             "ticks": ""
            },
            "colorscale": [
             [
              0,
              "#0d0887"
             ],
             [
              0.1111111111111111,
              "#46039f"
             ],
             [
              0.2222222222222222,
              "#7201a8"
             ],
             [
              0.3333333333333333,
              "#9c179e"
             ],
             [
              0.4444444444444444,
              "#bd3786"
             ],
             [
              0.5555555555555556,
              "#d8576b"
             ],
             [
              0.6666666666666666,
              "#ed7953"
             ],
             [
              0.7777777777777778,
              "#fb9f3a"
             ],
             [
              0.8888888888888888,
              "#fdca26"
             ],
             [
              1,
              "#f0f921"
             ]
            ],
            "type": "histogram2d"
           }
          ],
          "histogram2dcontour": [
           {
            "colorbar": {
             "outlinewidth": 0,
             "ticks": ""
            },
            "colorscale": [
             [
              0,
              "#0d0887"
             ],
             [
              0.1111111111111111,
              "#46039f"
             ],
             [
              0.2222222222222222,
              "#7201a8"
             ],
             [
              0.3333333333333333,
              "#9c179e"
             ],
             [
              0.4444444444444444,
              "#bd3786"
             ],
             [
              0.5555555555555556,
              "#d8576b"
             ],
             [
              0.6666666666666666,
              "#ed7953"
             ],
             [
              0.7777777777777778,
              "#fb9f3a"
             ],
             [
              0.8888888888888888,
              "#fdca26"
             ],
             [
              1,
              "#f0f921"
             ]
            ],
            "type": "histogram2dcontour"
           }
          ],
          "mesh3d": [
           {
            "colorbar": {
             "outlinewidth": 0,
             "ticks": ""
            },
            "type": "mesh3d"
           }
          ],
          "parcoords": [
           {
            "line": {
             "colorbar": {
              "outlinewidth": 0,
              "ticks": ""
             }
            },
            "type": "parcoords"
           }
          ],
          "pie": [
           {
            "automargin": true,
            "type": "pie"
           }
          ],
          "scatter": [
           {
            "fillpattern": {
             "fillmode": "overlay",
             "size": 10,
             "solidity": 0.2
            },
            "type": "scatter"
           }
          ],
          "scatter3d": [
           {
            "line": {
             "colorbar": {
              "outlinewidth": 0,
              "ticks": ""
             }
            },
            "marker": {
             "colorbar": {
              "outlinewidth": 0,
              "ticks": ""
             }
            },
            "type": "scatter3d"
           }
          ],
          "scattercarpet": [
           {
            "marker": {
             "colorbar": {
              "outlinewidth": 0,
              "ticks": ""
             }
            },
            "type": "scattercarpet"
           }
          ],
          "scattergeo": [
           {
            "marker": {
             "colorbar": {
              "outlinewidth": 0,
              "ticks": ""
             }
            },
            "type": "scattergeo"
           }
          ],
          "scattergl": [
           {
            "marker": {
             "colorbar": {
              "outlinewidth": 0,
              "ticks": ""
             }
            },
            "type": "scattergl"
           }
          ],
          "scattermapbox": [
           {
            "marker": {
             "colorbar": {
              "outlinewidth": 0,
              "ticks": ""
             }
            },
            "type": "scattermapbox"
           }
          ],
          "scatterpolar": [
           {
            "marker": {
             "colorbar": {
              "outlinewidth": 0,
              "ticks": ""
             }
            },
            "type": "scatterpolar"
           }
          ],
          "scatterpolargl": [
           {
            "marker": {
             "colorbar": {
              "outlinewidth": 0,
              "ticks": ""
             }
            },
            "type": "scatterpolargl"
           }
          ],
          "scatterternary": [
           {
            "marker": {
             "colorbar": {
              "outlinewidth": 0,
              "ticks": ""
             }
            },
            "type": "scatterternary"
           }
          ],
          "surface": [
           {
            "colorbar": {
             "outlinewidth": 0,
             "ticks": ""
            },
            "colorscale": [
             [
              0,
              "#0d0887"
             ],
             [
              0.1111111111111111,
              "#46039f"
             ],
             [
              0.2222222222222222,
              "#7201a8"
             ],
             [
              0.3333333333333333,
              "#9c179e"
             ],
             [
              0.4444444444444444,
              "#bd3786"
             ],
             [
              0.5555555555555556,
              "#d8576b"
             ],
             [
              0.6666666666666666,
              "#ed7953"
             ],
             [
              0.7777777777777778,
              "#fb9f3a"
             ],
             [
              0.8888888888888888,
              "#fdca26"
             ],
             [
              1,
              "#f0f921"
             ]
            ],
            "type": "surface"
           }
          ],
          "table": [
           {
            "cells": {
             "fill": {
              "color": "#EBF0F8"
             },
             "line": {
              "color": "white"
             }
            },
            "header": {
             "fill": {
              "color": "#C8D4E3"
             },
             "line": {
              "color": "white"
             }
            },
            "type": "table"
           }
          ]
         },
         "layout": {
          "annotationdefaults": {
           "arrowcolor": "#2a3f5f",
           "arrowhead": 0,
           "arrowwidth": 1
          },
          "autotypenumbers": "strict",
          "coloraxis": {
           "colorbar": {
            "outlinewidth": 0,
            "ticks": ""
           }
          },
          "colorscale": {
           "diverging": [
            [
             0,
             "#8e0152"
            ],
            [
             0.1,
             "#c51b7d"
            ],
            [
             0.2,
             "#de77ae"
            ],
            [
             0.3,
             "#f1b6da"
            ],
            [
             0.4,
             "#fde0ef"
            ],
            [
             0.5,
             "#f7f7f7"
            ],
            [
             0.6,
             "#e6f5d0"
            ],
            [
             0.7,
             "#b8e186"
            ],
            [
             0.8,
             "#7fbc41"
            ],
            [
             0.9,
             "#4d9221"
            ],
            [
             1,
             "#276419"
            ]
           ],
           "sequential": [
            [
             0,
             "#0d0887"
            ],
            [
             0.1111111111111111,
             "#46039f"
            ],
            [
             0.2222222222222222,
             "#7201a8"
            ],
            [
             0.3333333333333333,
             "#9c179e"
            ],
            [
             0.4444444444444444,
             "#bd3786"
            ],
            [
             0.5555555555555556,
             "#d8576b"
            ],
            [
             0.6666666666666666,
             "#ed7953"
            ],
            [
             0.7777777777777778,
             "#fb9f3a"
            ],
            [
             0.8888888888888888,
             "#fdca26"
            ],
            [
             1,
             "#f0f921"
            ]
           ],
           "sequentialminus": [
            [
             0,
             "#0d0887"
            ],
            [
             0.1111111111111111,
             "#46039f"
            ],
            [
             0.2222222222222222,
             "#7201a8"
            ],
            [
             0.3333333333333333,
             "#9c179e"
            ],
            [
             0.4444444444444444,
             "#bd3786"
            ],
            [
             0.5555555555555556,
             "#d8576b"
            ],
            [
             0.6666666666666666,
             "#ed7953"
            ],
            [
             0.7777777777777778,
             "#fb9f3a"
            ],
            [
             0.8888888888888888,
             "#fdca26"
            ],
            [
             1,
             "#f0f921"
            ]
           ]
          },
          "colorway": [
           "#636efa",
           "#EF553B",
           "#00cc96",
           "#ab63fa",
           "#FFA15A",
           "#19d3f3",
           "#FF6692",
           "#B6E880",
           "#FF97FF",
           "#FECB52"
          ],
          "font": {
           "color": "#2a3f5f"
          },
          "geo": {
           "bgcolor": "white",
           "lakecolor": "white",
           "landcolor": "#E5ECF6",
           "showlakes": true,
           "showland": true,
           "subunitcolor": "white"
          },
          "hoverlabel": {
           "align": "left"
          },
          "hovermode": "closest",
          "mapbox": {
           "style": "light"
          },
          "paper_bgcolor": "white",
          "plot_bgcolor": "#E5ECF6",
          "polar": {
           "angularaxis": {
            "gridcolor": "white",
            "linecolor": "white",
            "ticks": ""
           },
           "bgcolor": "#E5ECF6",
           "radialaxis": {
            "gridcolor": "white",
            "linecolor": "white",
            "ticks": ""
           }
          },
          "scene": {
           "xaxis": {
            "backgroundcolor": "#E5ECF6",
            "gridcolor": "white",
            "gridwidth": 2,
            "linecolor": "white",
            "showbackground": true,
            "ticks": "",
            "zerolinecolor": "white"
           },
           "yaxis": {
            "backgroundcolor": "#E5ECF6",
            "gridcolor": "white",
            "gridwidth": 2,
            "linecolor": "white",
            "showbackground": true,
            "ticks": "",
            "zerolinecolor": "white"
           },
           "zaxis": {
            "backgroundcolor": "#E5ECF6",
            "gridcolor": "white",
            "gridwidth": 2,
            "linecolor": "white",
            "showbackground": true,
            "ticks": "",
            "zerolinecolor": "white"
           }
          },
          "shapedefaults": {
           "line": {
            "color": "#2a3f5f"
           }
          },
          "ternary": {
           "aaxis": {
            "gridcolor": "white",
            "linecolor": "white",
            "ticks": ""
           },
           "baxis": {
            "gridcolor": "white",
            "linecolor": "white",
            "ticks": ""
           },
           "bgcolor": "#E5ECF6",
           "caxis": {
            "gridcolor": "white",
            "linecolor": "white",
            "ticks": ""
           }
          },
          "title": {
           "x": 0.05
          },
          "xaxis": {
           "automargin": true,
           "gridcolor": "white",
           "linecolor": "white",
           "ticks": "",
           "title": {
            "standoff": 15
           },
           "zerolinecolor": "white",
           "zerolinewidth": 2
          },
          "yaxis": {
           "automargin": true,
           "gridcolor": "white",
           "linecolor": "white",
           "ticks": "",
           "title": {
            "standoff": 15
           },
           "zerolinecolor": "white",
           "zerolinewidth": 2
          }
         }
        },
        "title": {
         "text": "Crimes Committed Over Time in Different Provinces in Canada"
        },
        "updatemenus": [
         {
          "buttons": [
           {
            "args": [
             null,
             {
              "frame": {
               "duration": 500,
               "redraw": false
              },
              "fromcurrent": true,
              "mode": "immediate",
              "transition": {
               "duration": 500,
               "easing": "linear"
              }
             }
            ],
            "label": "&#9654;",
            "method": "animate"
           },
           {
            "args": [
             [
              null
             ],
             {
              "frame": {
               "duration": 0,
               "redraw": false
              },
              "fromcurrent": true,
              "mode": "immediate",
              "transition": {
               "duration": 0,
               "easing": "linear"
              }
             }
            ],
            "label": "&#9724;",
            "method": "animate"
           }
          ],
          "direction": "left",
          "pad": {
           "r": 10,
           "t": 70
          },
          "showactive": false,
          "type": "buttons",
          "x": 0.1,
          "xanchor": "right",
          "y": 0,
          "yanchor": "top"
         }
        ],
        "xaxis": {
         "anchor": "y",
         "domain": [
          0,
          1
         ],
         "title": {
          "text": "Crimes Against Property"
         },
         "type": "log"
        },
        "yaxis": {
         "anchor": "x",
         "domain": [
          0,
          1
         ],
         "title": {
          "text": "Crimes Against the Person"
         }
        }
       }
      }
     },
     "metadata": {},
     "output_type": "display_data"
    }
   ],
   "source": [
    "import plotly.express as px\n",
    "\n",
    "fig = px.scatter(df, x=\"Property\", y=\"Person\",\n",
    "                 size=\"Person\", color=\"GEO\",\n",
    "                 hover_name=\"GEO\", log_x=True, size_max=60,\n",
    "                 animation_frame=\"YEAR\",)\n",
    "\n",
    "fig.update_layout(title='Crimes Committed Over Time in Different Provinces in Canada',\n",
    "                  xaxis=dict(title='Crimes Against Property'),\n",
    "                  yaxis=dict(title='Crimes Against the Person'))\n",
    "\n",
    "fig.show()"
   ]
  }
 ],
 "metadata": {
  "kernelspec": {
   "display_name": "Python 3",
   "language": "python",
   "name": "python3"
  },
  "language_info": {
   "codemirror_mode": {
    "name": "ipython",
    "version": 3
   },
   "file_extension": ".py",
   "mimetype": "text/x-python",
   "name": "python",
   "nbconvert_exporter": "python",
   "pygments_lexer": "ipython3",
   "version": "3.11.6"
  }
 },
 "nbformat": 4,
 "nbformat_minor": 2
}
